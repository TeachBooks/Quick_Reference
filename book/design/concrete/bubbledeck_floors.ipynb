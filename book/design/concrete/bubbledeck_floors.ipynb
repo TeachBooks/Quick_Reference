{
 "cells": [
  {
   "cell_type": "markdown",
   "metadata": {},
   "source": [
    "# Bubbledeck floors\n"
   ]
  },
  {
   "cell_type": "markdown",
   "metadata": {},
   "source": [
    "A flat reinforced concrete floor without beams or square drop panels. An\n",
    "element exists of a prefabricated reinforcement cage consisting\n",
    "of top and bottom reinforcement connected by trusses. Between the\n",
    "two reinforcement layers, polymer balls made out of recycled HDPE\n",
    "placed. The balls will not adhere to the hardened concrete, making recycling possible. Mostly a thin concrete shell\n",
    "is provided at the bottom so that the floor can be casted in situ with\n",
    "C30/37. In comparison with a massive floor the weight savings are about\n",
    "35%. Including the weight savings of supporting elements, such as walls,\n",
    "beams, columns and foundation the total weight savind for the whole\n",
    "building can be up to 50%. The plate transfers force in two\n",
    "directions which makes rather slender structures possible. Near columns,\n",
    "walls and voids a lot or reinforcement is necessary. The thickness of\n",
    "bubbledeck floors varies from 230 to 450 mm with a maximum span of 14\n",
    "meters.\n",
    "\n",
    "```{note}\n",
    "Thanks to Bubbledeck Nederland B.V. [^1]\n",
    "```"
   ]
  },
  {
   "cell_type": "markdown",
   "metadata": {},
   "source": [
    "## Execution aspects\n",
    "\n",
    "1. Adjusting temporary support: support reinforcement cages according to\n",
    "fabricator specifications; supports must be perpendicular to the trusses\n",
    "at a maximum c.t.c. distance of 1,8 m.  \n",
    "\n",
    "2. Placing of the elements: reinforcement cages are lifted at the trusses and\n",
    "placed alongside each other; across a joint of 80 mm is left open. Near\n",
    "columns about 50 mm, depending on the detailing. \n",
    "\n",
    "3. The extra reinforcement is now placed: coupler bars, coupler nets,\n",
    "hairpints and reinforcement to prevent punching, all according to the\n",
    "engineer’s specifications. \n",
    "\n",
    "4. The edge formwork is placed: depending on the detailing.  \n",
    "\n",
    "5. The concrete is poured in C30/37; other properties of the concrete are decided in consultation with the concrete producer. \n",
    "\n",
    "6. Temporary supports are removed."
   ]
  },
  {
   "cell_type": "markdown",
   "metadata": {},
   "source": [
    "## Specifications Bubbledeck floors\n",
    "\n",
    "With a bubbledeckfloor flat plate, floors without beams can be constructed. The self weight, dead load and variable load is transmitted in two directions to the supporting walls\n",
    "and/or columns. The reinforcement modules are available in FeB 500. The polymer spheres are made of HDPE (high density polyethylene).\n",
    "\n",
    "| Type | Floor Thickness $[mm]$ | Sphere Diameter $[mm]$ | C.T.C. Distance $[mm]$ |\n",
    "|------|-----------------------|-----------------------|-----------------------|\n",
    "| BD   | 230                   | ∅180                  | 200                   |\n",
    "| BD   | 280                   | ∅225                  | 250                   |\n",
    "| BD   | 340                   | ∅270                  | 300                   |\n",
    "| BD   | 390                   | ∅315                  | 350                   |\n",
    "| BD   | 450                   | ∅360                  | 400                   |\n",
    "\n",
    "### Prefab elements\n",
    "\n",
    "Floor strucutre in which hollow spherical elements are placed. Parts of the structure are prefabricated. The possibilities are shown below:\n",
    "\n",
    "```{figure} Images/Bubbledeck4.jpg\n",
    "\n",
    "Reinforcement modules where the spheres are clamped between the two reinforcement layers.\n",
    "```    \n",
    "\n",
    "\n",
    "```{figure} Images/Bubbledeck5.jpg\n",
    "\n",
    "Aformentioned reinforcement modules with an additional concrete plate at the bottom side.\n",
    "```    \n",
    "\n",
    "\n",
    "```{figure} Images/Bubbledeck6.jpg\n",
    "\n",
    "Fully or partially casted floor elements.\n",
    "```    \n",
    "\n"
   ]
  },
  {
   "cell_type": "markdown",
   "metadata": {},
   "source": [
    "## Spans\n",
    "\n",
    "| Type | Floor Thickness $[mm]$ | Sphere Diameter $[mm]$ | C.T.C. Distance $[mm]$ | Mass (full sphere pattern) $[kg/m2]$ element Width 3.000 $[mm]$ | Mass (full sphere pattern) $[kg/m2]$ element Width 2.400 $[mm]$ | Span $[m]$ |\n",
    "|------|-----------------------|-----------------------|-----------------------|---------------------------------------------------------------|---------------------------------------------------------------|---------|\n",
    "| BD   | 230                   | ∅180                  | 200                   | 380                                                           | 390                                                           | 6 - 7   |\n",
    "| BD   | 280                   | ∅225                  | 250                   | 450                                                           | 490                                                           | 7 - 8   |\n",
    "| BD   | 340                   | ∅270                  | 300                   | 550                                                           | 580                                                           | 8 - 9   |\n",
    "| BD   | 390                   | ∅315                  | 350                   | 650                                                           | 660                                                           | 10 - 11 |\n",
    "| BD   | 450                   | ∅360                  | 400                   | 740                                                           | 720                                                           | 12 - 14 |\n",
    "\n",
    "```{note}\n",
    "The span is indicated for variable loads of $2.5  kN/m^2$ to $4,0  kN/m^2$\n",
    "```"
   ]
  },
  {
   "cell_type": "markdown",
   "metadata": {},
   "source": [
    "## Details"
   ]
  },
  {
   "cell_type": "markdown",
   "metadata": {},
   "source": [
    "```{figure} Images/DetailBubbledeck1.jpg\n",
    "\n",
    "Cross section of a bubble deck floor\n",
    "```    \n",
    "\n",
    "```{figure} Images/DetailBubbledeck2.jpg\n",
    "\n",
    "Support of bubbledeck floor on concrete wall\n",
    "```    \n",
    "\n",
    "```{figure} Images/DetailBubbledeck3.jpg\n",
    "\n",
    "Support of bubble deck floor with cavity wall for residential construction\n",
    "```    "
   ]
  },
  {
   "cell_type": "markdown",
   "metadata": {},
   "source": [
    "[^1]: [Bubbledeck.nl](https://www.bubbledeck.nl/): The new bubble-deck system to construct lighter floors"
   ]
  }
 ],
 "metadata": {
  "kernelspec": {
   "display_name": "Python 3",
   "language": "python",
   "name": "python3"
  },
  "language_info": {
   "codemirror_mode": {
    "name": "ipython",
    "version": 3
   },
   "file_extension": ".py",
   "mimetype": "text/x-python",
   "name": "python",
   "nbconvert_exporter": "python",
   "pygments_lexer": "ipython3",
   "version": "3.8.0"
  },
  "widgets": {
   "application/vnd.jupyter.widget-state+json": {
    "state": {},
    "version_major": 2,
    "version_minor": 0
   }
  }
 },
 "nbformat": 4,
 "nbformat_minor": 4
}
