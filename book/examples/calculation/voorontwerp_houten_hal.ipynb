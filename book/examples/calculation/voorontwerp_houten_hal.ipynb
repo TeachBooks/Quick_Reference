{
 "cells": [
  {
   "cell_type": "markdown",
   "metadata": {},
   "source": [
    "# Voorontwerp houten hal"
   ]
  },
  {
   "cell_type": "markdown",
   "metadata": {},
   "source": [
    "## Onwerp voorbeeld\n",
    "\n",
    "Ontwerp van \"FLUX\" type gebouw \\\n",
    "FLUX $\\rightarrow$ in 1 richting geschoord, andere richtingen ongeschoord \\\n",
    "Dit ontwerp: in 2 richtingen geschoord \\\n",
    "Met windverbanden\n",
    "\n",
    "```{figure} Images/hal_schematisch.png\n",
    "---\n",
    "name: directive-fig\n",
    "---\n",
    "Schematische tekening\n",
    "```"
   ]
  },
  {
   "cell_type": "markdown",
   "metadata": {},
   "source": [
    "## Materiaal\n",
    "\n",
    "### Gelamineerde houten liggers GL24h:\n",
    "- $f_{m;0;k} = 24 N/mm^{2} \\rightarrow f_{mod} = 24 \\cdot 0.7 = 16.8 N/mm^{2}$\n",
    "- $f_{c;0;k} = 24 N/mm^{2} \\rightarrow f_{cod} = 24 \\cdot 0.7 = 16.8 N/mm^{2}$\n",
    "- $E_{0;mean} = 11500 N/mm^{2}$\n",
    "- $k_{def} = 0.6 \\ voor \\ permanente \\ belastingen$\n",
    "\n",
    "### Gezaagde houten balken C24:\n",
    "- $f_{m;0;k} = 24 N/mm^{2} \\rightarrow f_{mod} = 24 \\cdot 0.7 = 16.8 N/mm^{2}$\n",
    "- $f_{c;0;k} = 21 N/mm^{2} \\rightarrow f_{cod} = 21 \\cdot 0.7 = 14.7 N/mm^{2}$\n",
    "- $E_{0;mean} = 11000 N/mm^{2}$\n",
    "- $k_{def} = 0.6 \\ voor \\ permanente \\ belastingen$\n",
    "\n",
    "```{figure} Images/verbinding_staal.png\n",
    "---\n",
    "scale: 100%\n",
    "align: right\n",
    "---\n",
    "Staalverbinding\n",
    "```\n",
    "### Verbindingen\n",
    "\n",
    "Staal-op-hout \\\n",
    "Bouten M12 8.8 \\\n",
    "Als $t_{1} = \\frac{b}{2} > 100 \\ mm$ dan $F_{v;RK} = 10 kN$ per afschuifvlak"
   ]
  },
  {
   "cell_type": "markdown",
   "metadata": {},
   "source": [
    "## Belastingen\n",
    "\n",
    "- Permanent: Dak (constructie + afwerking): \\\n",
    "    $p_{dak;eg} = 0.5 kN/m^{2} = p_{g}$\n",
    "- Veranderlijk: Sneeuw en wind \\\n",
    "    $p_{dak;sneeuw} = 0.56 kN/m^{2} = p_{q;sn} \\\\\\\\\\ \\left( \\psi_{0}=0 \\right)$ \\\n",
    "    Gebied 2, h = 10 $\\rightarrow p_{wind} = 1.0 kN/m^{2} = p_{q;w} \\\\\\\\\\ \\left( \\psi_{0}=0 \\right)$ \n",
    "- CC2 $\\rightarrow \\gamma_{q;g}=1.2 \\left(0.9 \\ als \\ gunstig\\right); \\gamma_{q;q}=1.5$  "
   ]
  },
  {
   "cell_type": "markdown",
   "metadata": {},
   "source": [
    "## Dimensionering van liggers/kolommen op basis van vuistregels\n",
    "\n",
    "```{figure} Images/kolom_hal.png\n",
    "---\n",
    "scale: 100%\n",
    "align: right\n",
    "---\n",
    "```\n",
    "### Kolommen\n",
    "$h_{y} = \\frac{l_{buc;y}}{20} = \\frac{10000}{20} = 500 \\ mm$ \\\n",
    "$h_{z} = \\frac{l_{buc,z}}{20} = \\frac{5000}{20} = 250 \\ mm$\n",
    "```{note}\n",
    "$l_{buc;z} = 5000$ ivm windverbanden in de gevel\n",
    "```\n",
    "### Hoofdligger (h.o.h. 5000 mm):\n",
    "$h = \\frac{L}{17} = \\frac{20000}{17} = 1176 \\rightarrow kies \\ 1200 \\ mm$ \\\n",
    "$b = \\frac{h}{6} = \\frac{1200}{6} = 200 \\rightarrow kies \\ 250 \\ mm$\n",
    "```{note}\n",
    "$b = \\frac{h}{6}$ geldt voor gelamineerd hout; 250 mm wordt gekozen omdat dit dezelfde afmeting is als de kolom\n",
    "```\n",
    "### Gordingen (h.o.h. 2500 mm):\n",
    "$h = \\frac{L}{17} = \\frac{5000}{17} = 294 \\rightarrow kies \\ 300 \\ mm$ \\\n",
    "$b = \\frac{h}{3} = \\frac{300}{3} = 100 \\rightarrow kies \\ 100 \\ mm$\n",
    "```{note}\n",
    "$b = \\frac{h}{3}$ geldt voor gezaagd hout; Kies dikte gevelplaten op basis van de h.o.h. afstand van de gordingen, dus 2500 mm\n",
    "```\n",
    "\n",
    "### Oplegging hoofdliggers op kolommen: gaffels \n",
    "Geen rotatie om x-as \\\n",
    "Bovenregel gesteund door gordingen voor kip t.g.v. sneeuw (druk boven in ligger) \\\n",
    "Voor windzuiging kiplengte: 20m! (druk onder, check kip in verificatiefase)"
   ]
  },
  {
   "cell_type": "markdown",
   "metadata": {},
   "source": [
    "## Ontwerptoetsing van buiging/druk en vervormingen\n",
    "\n",
    "### Hoofdligger (h.o.h. 5 m)\n",
    "```{figure} Images/hoofdligger_mechanica_hal.png\n",
    "---\n",
    "scale: 100%\n",
    "align: right\n",
    "---\n",
    "```\n",
    "$q_{\\gamma} = 5 \\cdot 0.5 = 2.5 kN/m$ \\\n",
    "$q_{q;sn} = 5 \\cdot 0.56 = 2.8 kN/m$ \\\n",
    "$q_{d} = 1.2 \\cdot 2.5 \\cdot + 1.5 \\cdot 2.8 = 7.2 kN/m$ \\\n",
    "$M_{d} = \\frac{1}{8} \\cdot 7.2 \\cdot 20^2 = 360 kNm$ \\\n",
    "$\\sigma_{mod} = \\frac{360 \\cdot 10^6}{\\frac{1}{6} \\cdot 250 \\cdot 1200^2} = 6.0 N/mm^2 \\rightarrow f_{mod} < 16.8 \\ OK$\n",
    "\n",
    "$\\delta_{q;\\gamma} = \\frac{5 \\cdot 2.5 \\cdot 20000^4}{384 \\cdot 11500 \\cdot \\frac{1}{12} \\cdot 250 \\cdot 1200^3} = 12.6 mm$ \\\n",
    "Kruip (alleen voor permanente belasting) $\\rightarrow \\delta_{q;\\gamma;kruip} = 0.6 \\cdot 12.6 = 7.5 mm$ \\\n",
    "$\\delta_{q;sn} = \\frac{2.8}{2.5} \\cdot 12.6 = 14 mm$ \\\n",
    "$\\delta_{tot} = 12.6 + 7.5 + 14.0 = 34.1 mm < 0.004 \\cdot 20000 = 80 mm$\n",
    "\n",
    "#### Optimalisatie\n",
    "$W_{ben} = W \\cdot \\frac{6.0}{16.8} = \\frac{1}{6} \\cdot 250 \\cdot 1200^2 \\cdot \\frac{6.0}{16.8} = 2.1 \\cdot 10^7 = \\frac{1}{6} \\cdot b \\cdot h^2$ \\\n",
    "$h_{ben} = \\sqrt{\\frac{2.1 \\cdot 10^7 \\cdot 6}{250}} = 717 mm$ \\\n",
    "$I_{ben} = I \\cdot \\frac{34.1}{80} = \\frac{1}{12} \\cdot 250 \\cdot 1200^3 \\cdot \\frac{34.1}{80} = 1.54 \\cdot 10^{10} = \\frac{1}{6} \\cdot b \\cdot h^3$ \\\n",
    "$h_{ben} = \\sqrt{\\frac{1.54 \\cdot 10^{10} \\cdot 12}{250}} = 903 mm \\leftarrow maatgevend$ \\\n",
    "$\\rightarrow$ Kies b x h: 250 x 1000"
   ]
  },
  {
   "cell_type": "markdown",
   "metadata": {},
   "source": [
    "### Kolom\n",
    "\n",
    "#### Knik\n",
    "```{figure} Images/labda_kc_hal.png\n",
    "---\n",
    "scale: 100%\n",
    "align: right\n",
    "---\n",
    "```\n",
    "Controle drukspanning: \\\n",
    "$N_{d} = \\left(5 \\cdot 10 \\right) \\cdot \\left(1.2 \\cdot 0.5 + 1.5 \\cdot 0.56 \\right) = 72 kN$ \\\n",
    "$\\lambda = \\frac{l_{buc}}{i} \\rightarrow i = 0.29 \\cdot h$ (rechthoekige doorsnede) \\\n",
    "$i_{z} = 0.29 \\cdot 250 =  72.5 mm; l_{buc,z} = 5000 mm  \\rightarrow \\frac{l_{buc,z}}{i_{z}} = 69$ \\\n",
    "$i_{y} = 0.29 \\cdot 500 =  145 mm; l_{buc,y} = 10000 mm  \\rightarrow \\frac{l_{buc,y}}{i_{y}} = 69 \\rightarrow k_{c} = 0.6$ \\\n",
    "$\\sigma_{c;0;d} = \\frac{72 \\cdot 10^3}{250 \\cdot 500} = 0.6 N/mm^2 << 0.6 \\cdot 16.8 = 10.1 N/mm^2$"
   ]
  },
  {
   "cell_type": "markdown",
   "metadata": {},
   "source": [
    "#### Windbelasting\n",
    "```{figure} Images/kolom_mechanica_hal.png\n",
    "---\n",
    "scale: 100%\n",
    "align: right\n",
    "---\n",
    "```\n",
    "Controle vervorming: \\\n",
    "$q_{w;d} = 5.0 \\cdot 1.0 \\cdot \\left( 0.8 + 0.3 \\right) \\cdot 1.5 = 8.3 kN/m$ \\\n",
    "$M_{d} = \\frac{1}{8} \\cdot 8.3 \\cdot 10^2 = 103 kNm$ \\\n",
    "$\\sigma_{mod} = \\frac{103 \\cdot 10^6}{\\frac{1}{6} \\cdot 250 \\cdot 500^2} = 9.9 N/mm^2 < 16.8 \\ OK$ \\\n",
    "$\\delta = \\frac{5 \\cdot 1.0 \\cdot  \\left(0.8 + 0.3\\right) \\cdot 10000^4}{384 \\cdot 11500 \\cdot \\left(\\frac{1}{12} \\cdot 250 \\cdot 500^3\\right)} = 23.9 mm < 0.004 \\cdot 10000 = 40 mm \\ OK$ \\\n"
   ]
  },
  {
   "cell_type": "markdown",
   "metadata": {},
   "source": [
    "### Verbinding kolom-ligger\n",
    "\n",
    "#### Windzuiging\n",
    "\n",
    "$N_{d} = \\left(5 \\cdot 10 \\right) \\cdot \\left(-0.9 \\cdot 0.5 + 1.5 \\cdot 1.0 \\cdot \\left(0.7 + 0.3\\right)\\right) = 52.5 kN$\n",
    "```{note}\n",
    "Oppervlakte: $5 \\cdot 10$ \\\n",
    "Gunstig eigen gewicht: $-0.9$ \\\n",
    "$\\gamma_{g} = 1.5$ \\\n",
    "$\\gamma_{q} = 1.0$ \\\n",
    "Windfactoren: $\\left(0.7 + 0.3\\right)$\n",
    "```\n",
    "**Benodigd aantal afschuifvlakken met bouten** \\\n",
    "M12 staal op hout: $\\frac{52.5}{7} = 7.5 = 8$ afschuifvlakken \\\n",
    "1 afschuifvlak: $F_{vd} = 10 \\cdot 0.7 = 7 kN$ \\\n",
    "$\\rightarrow$ 4 bouten x 2 afschuifvlakken\n",
    "```{figure} Images/verbinding_detail_hout.png\n",
    "---\n",
    "name: hal-fig\n",
    "---\n",
    "Tekening verbinding\n",
    "```\n"
   ]
  },
  {
   "cell_type": "markdown",
   "metadata": {},
   "source": [
    "### Controle vervorming windverband in dak\n",
    "\n",
    "```{figure} Images/windverband_vervoming_mechanica.png\n",
    "---\n",
    "scale: 100%\n",
    "align: right\n",
    "---\n",
    "```\n",
    "$I_{eff} = \\Sigma \\ z^2 \\cdot A \\cdot \\gamma = 2 \\cdot 2500^2 \\cdot \\left(250 \\cdot 5000 \\right) \\cdot 0.5 = 7.82 \\cdot 10^{11} mm^2$\n",
    "```{note}\n",
    "Alleen het Steiner deel is meegenomen voor $I_{eff}$ \\\n",
    "$\\gamma$ is een reductiefactor voor de vervorming van de wandstaven en verbindingen\n",
    "```\n",
    "\n",
    "$q_{wind} = (\\frac{1}{2})[(\\frac{10}{2}) \\cdot (0.8 + 0.4) + (0.04 \\cdot 40)]\\cdot 1 = \\frac{1}{2} \\cdot 7.6 \\cdot 1.0 = 3.8 kN/m$\n",
    "```{note}\n",
    "$\\frac{1}{2}$: 2 horizontale vakwerken \\\n",
    "$\\frac{10}{2}$: helft gaat naar fundering \\\n",
    "$0.8$: druk voorgevel \\\n",
    "$0.4$: zuiging achtergevel \\\n",
    "Windwrijving dak: $0.04$ \\\n",
    "$q_{w} = 1.0$\n",
    "```\n",
    "\n",
    "$S = \\frac{5}{384} \\cdot \\frac{3.8 \\cdot 200000^4}{11500 \\cdot 7.82 \\cdot 10^{11}} = 0.9 mm << \\frac{l}{500} = 20000/500 = 40 mm$"
   ]
  },
  {
   "cell_type": "markdown",
   "metadata": {},
   "source": [
    "\n",
    "```{figure} Images/houtenhal_schets.png\n",
    "---\n",
    "name: halschets-fig\n",
    "---\n",
    "Schets houten hal\n",
    "```\n"
   ]
  },
  {
   "cell_type": "markdown",
   "metadata": {},
   "source": []
  }
 ],
 "metadata": {
  "kernelspec": {
   "display_name": "geospatial",
   "language": "python",
   "name": "geospatial"
  },
  "language_info": {
   "codemirror_mode": {
    "name": "ipython",
    "version": 3
   },
   "file_extension": ".py",
   "mimetype": "text/x-python",
   "name": "python",
   "nbconvert_exporter": "python",
   "pygments_lexer": "ipython3",
   "version": "3.9.13"
  },
  "widgets": {
   "application/vnd.jupyter.widget-state+json": {
    "state": {},
    "version_major": 2,
    "version_minor": 0
   }
  }
 },
 "nbformat": 4,
 "nbformat_minor": 4
}
