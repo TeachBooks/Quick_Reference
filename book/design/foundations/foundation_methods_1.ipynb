{
 "cells": [
  {
   "cell_type": "markdown",
   "metadata": {},
   "source": [
    "# Foundation methods 1, slab foundations\n",
    "\n",
    "```{note}\n",
    "Most information is taken from Vroom [^1] and Walinco [^2].\n",
    "```\n",
    "\n",
    "\n",
    "## Settlements\n",
    "Settlements of a slab foundation are only comparable to settlements of a pile foundation (around 5 mm) if below the foundation depth only sand layers occur. If this is the \n",
    "case, a bearing capacity of 50 kN/m2 may be assumed. A calculation is unnecessary. Greater bearing capacities are possible but must always be verified with a calculation. \n",
    "\n",
    "However, especially in the Netherlands, often layers of clay and peat are present. These soil types are 50 to 100 times more compressible than sand layers, and will therefore cause greater settlements.\n",
    "\n",
    "## Soil improvement\n",
    "Dutch soil highly compressible layers often occur just below ground level. Removing this layer and replacing them with sand may enable a slab foundation to be used. It has \n",
    "been shown in practice that using a soil improvement reaching below the ground water table tends to be more expensive than a pile foundation. This can already be the case with soil soil improvement improvements to a depth of 1 m.\n",
    "\n",
    "## Slab foundation\n",
    "```{table} Slab foundation design choices.\n",
    ":name: slab-foundation-design\n",
    "| Application | Appearance | Depth norm/max. [m] | Diameter ø [mm] | Indication of bearing capacity |\n",
    "|-------------|------------|---------------------|------------------------|--------------------------------|\n",
    "| Light structures, depending on soil condition, e.g. low rise housing on sandy soil. | strip- or slab foundation, masonry foundation | n.a. | n.a. | depending on soil conditions: 50-2500 kN/m² |\n",
    "```\n",
    "\n",
    "### Explanation\n",
    "A slab foundation must always reach to a frost-free depth. In practice this means a depth of at least 0,8 m below ground level.\n"
   ]
  },
  {
   "cell_type": "markdown",
   "metadata": {},
   "source": [
    "[^1]: [vroom.nl](https://vroom.nl/en/products/cast-in-situ-piles/): detailed information on: Prefab piles, Wood piles, Steel pipe piles, Vibro-piles, Vibro-combi-piles, Concrete screw piles, DPA piles, and Tubular screw piles.\n",
    "[^2]: [walinco.nl](https://www.walinco.nl/): special foundation methods with clear explanation, photos and videos. "
   ]
  }
 ],
 "metadata": {
  "kernelspec": {
   "display_name": "Python 3",
   "language": "python",
   "name": "python3"
  },
  "language_info": {
   "codemirror_mode": {
    "name": "ipython",
    "version": 3
   },
   "file_extension": ".py",
   "mimetype": "text/x-python",
   "name": "python",
   "nbconvert_exporter": "python",
   "pygments_lexer": "ipython3",
   "version": "3.8.0"
  },
  "widgets": {
   "application/vnd.jupyter.widget-state+json": {
    "state": {},
    "version_major": 2,
    "version_minor": 0
   }
  }
 },
 "nbformat": 4,
 "nbformat_minor": 4
}
