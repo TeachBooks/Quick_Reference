{
 "cells": [
  {
   "cell_type": "markdown",
   "metadata": {},
   "source": [
    "# Design guide\n",
    "\n",
    "The design guide contains several important issues for foundation design. Before starting the design, first information needs to be obtained. Of course the local soil conditions are necessary, but also the general layout of the structure needs to be known. With this information a sensible choice can be made of the different foundation methods. Finally a design calculation and strength check need to be made. This calculation is not always in the scope of the courses using this document. Mostly only the \n",
    "general design and foundation method are important. Most information is taken from Vroom [^1] and Walinco [^2].\n",
    "\n",
    "```{figure} Images/foundations.png\n",
    "---\n",
    "---\n",
    "Foundations\n",
    "```\n",
    "\n",
    "**Reconnaissance**\n",
    "- building layout\n",
    "- soil conditions\n",
    "- foundation loads \n",
    "\n",
    "**Foundation method**\n",
    "- relation between foundation and structure\n",
    "- foundation method \n",
    "- connection between main \n",
    "structure and foundation\n",
    "- foundation depth\n",
    "\n",
    "**Check**\n",
    "- calculation of connection between structure and foundation\n",
    "- calculation of slab- or pile foundation or sheet piling"
   ]
  },
  {
   "cell_type": "markdown",
   "metadata": {},
   "source": [
    "[^1]: [vroom.nl](https://vroom.nl/en/products/cast-in-situ-piles/): detailed information on: Prefab piles, Wood piles, Steel pipe piles, Vibro-piles, Vibro-combi-piles, Concrete screw piles, DPA piles, and Tubular screw piles.\n",
    "[^2]: [walinco.nl](https://www.walinco.nl/): special foundation methods with clear explanation, photos and videos. "
   ]
  }
 ],
 "metadata": {
  "kernelspec": {
   "display_name": "Python 3",
   "language": "python",
   "name": "python3"
  },
  "language_info": {
   "codemirror_mode": {
    "name": "ipython",
    "version": 3
   },
   "file_extension": ".py",
   "mimetype": "text/x-python",
   "name": "python",
   "nbconvert_exporter": "python",
   "pygments_lexer": "ipython3",
   "version": "3.8.0"
  },
  "widgets": {
   "application/vnd.jupyter.widget-state+json": {
    "state": {},
    "version_major": 2,
    "version_minor": 0
   }
  }
 },
 "nbformat": 4,
 "nbformat_minor": 4
}
