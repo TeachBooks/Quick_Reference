{
 "cells": [
  {
   "cell_type": "markdown",
   "metadata": {},
   "source": [
    "# Trusses and joints\n",
    "\n",
    "```{figure} Images/truss_and_joints.png\n",
    "---\n",
    "align: right\n",
    "---\n",
    "Truss joint\n",
    "```\n",
    "Timber trusses are available in different sizes and shapes. Also the joints can be designed in numerous ways. Mostly the connection elements discussed above are used, but some special connections are available.\n",
    "\n",
    "```{figure} Images/connection_bottom_diagonal.png\n",
    "---\n",
    "---\n",
    "Connection between bottom chord and diagonals with steel plates with a central axle\n",
    "```\n",
    "\n",
    "```{figure} Images/truss_punched_metal.png\n",
    "---\n",
    "---\n",
    "Truss connections by means of punched metal plates\n",
    "\n",
    "```\n",
    "\n",
    "```{figure} Images/truss_space_frames.png\n",
    "---\n",
    "---\n",
    "Space frames\n",
    "```"
   ]
  },
  {
   "cell_type": "markdown",
   "metadata": {},
   "source": []
  }
 ],
 "metadata": {
  "kernelspec": {
   "display_name": "Python 3",
   "language": "python",
   "name": "python3"
  },
  "language_info": {
   "codemirror_mode": {
    "name": "ipython",
    "version": 3
   },
   "file_extension": ".py",
   "mimetype": "text/x-python",
   "name": "python",
   "nbconvert_exporter": "python",
   "pygments_lexer": "ipython3",
   "version": "3.8.0"
  },
  "widgets": {
   "application/vnd.jupyter.widget-state+json": {
    "state": {},
    "version_major": 2,
    "version_minor": 0
   }
  }
 },
 "nbformat": 4,
 "nbformat_minor": 4
}
