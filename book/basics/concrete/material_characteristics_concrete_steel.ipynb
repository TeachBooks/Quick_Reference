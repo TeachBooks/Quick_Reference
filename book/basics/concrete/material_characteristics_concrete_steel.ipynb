{
 "cells": [
  {
   "cell_type": "markdown",
   "metadata": {},
   "source": [
    "# Material characteristics concrete steel\n",
    "\n",
    "This paragraph contains information on the material properties of reinforcement steel.\n",
    "\n",
    "## Strength and stiffness\n",
    "\n",
    "### Material properties (bars)\n",
    "\n",
    "```{table} Material properties for reinforcement steel in concrete.\n",
    ":name: reinforcement-steel-properties\n",
    "| Steel Grade         | Tensile Strength $( f_{t;k} )$ [N/mm²] | Yield Stress $( f_{y;k} )$ [N/mm²] | Strain at Maximum Load $\\varepsilon_{su}$ [‰] |\n",
    "|---------------------|-----------------------------------------|-------------------------------------|----------------------------------------------------|\n",
    "| FeB 400 HWL, HK     | 400                                     | 350                                 | 4.00                                               |\n",
    "| FeB 500 HWL, HK     | 500                                     | 435                                 | 3.25                                               |\n",
    "| FeB 500 HKN         | 500                                     | 435                                 | 2.75                                               |\n",
    "\n",
    "### Material properties (nets)\n",
    "\n",
    "```{table} Material properties reinforcement steel nets.\n",
    ":name: reinforcement-steel-nets-properties\n",
    "| Steel Grade         | Tensile Strength $( f_{t;k} )$ [N/mm²] | Design value tensile strength $( f_{y;k} )$ [N/mm²] | Strain at Maximum Load $\\varepsilon_{su}$ [‰] |\n",
    "|----------------------------|-------------------------|--------------------------------------|------------------------------------------------|\n",
    "| FeB 500 HKN, HWN           | 500                     | 435                                  | 2.175                                          |\n",
    "```"
   ]
  },
  {
   "cell_type": "markdown",
   "metadata": {},
   "source": []
  }
 ],
 "metadata": {
  "kernelspec": {
   "display_name": "Python 3",
   "language": "python",
   "name": "python3"
  },
  "language_info": {
   "codemirror_mode": {
    "name": "ipython",
    "version": 3
   },
   "file_extension": ".py",
   "mimetype": "text/x-python",
   "name": "python",
   "nbconvert_exporter": "python",
   "pygments_lexer": "ipython3",
   "version": "3.8.0"
  },
  "widgets": {
   "application/vnd.jupyter.widget-state+json": {
    "state": {},
    "version_major": 2,
    "version_minor": 0
   }
  }
 },
 "nbformat": 4,
 "nbformat_minor": 4
}
