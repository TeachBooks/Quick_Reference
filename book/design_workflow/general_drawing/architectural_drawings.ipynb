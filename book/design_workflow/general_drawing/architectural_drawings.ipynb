{
 "cells": [
  {
   "cell_type": "markdown",
   "metadata": {},
   "source": [
    "# Architectural drawings\n",
    "\n",
    "For architects, the following three drawings of the structure are of most interest:\n",
    "\n",
    "1. Exploded axonometric drawing (also called Axo): In this, the structure can be seen in its entirety and the consistency with the architectural design can be conveyed. The stability of the structure can also be assessed. An example is given below. In the examples of the Quick Reference Axos of timber, steel and concrete supporting structures are given.  \n",
    "\n",
    "```{figure} Images/Axonometric_Drawing.jpg\n",
    "---\n",
    "---\n",
    "Axonometric drawing example\n",
    "```\n",
    "\n",
    "2. Load-bearing (Draagconstructie) structure floor plans: These drawings show how vertical force transmission works in the building and contain more detailed information than the axonometric drawing such as materials dimensions, spans and profiles. An example is given below. Examples of load-bearing floor plans of timber, steel and concrete supporting structures are given in the examples part of the Quick Reference.  \n",
    "\n",
    "```{figure} Images/Draagconstructie_Drawing.jpg\n",
    "---\n",
    "---\n",
    "Load-bearing structural floor plan example\n",
    "```\n",
    "\n",
    "3. Connection detail: here you draw only the structural parts. This can be in a 3D or a number of 2D drawings. Examples of drawings of connections can be found in this Quick Reference."
   ]
  }
 ],
 "metadata": {
  "kernelspec": {
   "display_name": "Python 3",
   "language": "python",
   "name": "python3"
  },
  "language_info": {
   "codemirror_mode": {
    "name": "ipython",
    "version": 3
   },
   "file_extension": ".py",
   "mimetype": "text/x-python",
   "name": "python",
   "nbconvert_exporter": "python",
   "pygments_lexer": "ipython3",
   "version": "3.8.0"
  },
  "widgets": {
   "application/vnd.jupyter.widget-state+json": {
    "state": {},
    "version_major": 2,
    "version_minor": 0
   }
  }
 },
 "nbformat": 4,
 "nbformat_minor": 4
}
