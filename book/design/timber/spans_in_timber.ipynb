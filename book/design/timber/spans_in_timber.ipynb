{
 "cells": [
  {
   "cell_type": "markdown",
   "metadata": {},
   "source": [
    "# Spans in timber\n",
    "\n",
    "```{figure} Images/spans_in_timber.png\n",
    "---\n",
    "---\n",
    "Spans in timber\n",
    "```\n",
    "\n",
    "```{admonition} Used symbols\n",
    "$l$ = span  \n",
    "$s$ = spacing  \n",
    "$a$ = cantilever  \n",
    "$h$ = height of the beam  \n",
    "$f$ = height of roof ridge  \n",
    "$r$ = bending radius  \n",
    "$\\alpha$ = slope  \n",
    "```"
   ]
  },
  {
   "cell_type": "markdown",
   "metadata": {},
   "source": []
  }
 ],
 "metadata": {
  "kernelspec": {
   "display_name": "Python 3",
   "language": "python",
   "name": "python3"
  },
  "language_info": {
   "codemirror_mode": {
    "name": "ipython",
    "version": 3
   },
   "file_extension": ".py",
   "mimetype": "text/x-python",
   "name": "python",
   "nbconvert_exporter": "python",
   "pygments_lexer": "ipython3",
   "version": "3.8.0"
  },
  "widgets": {
   "application/vnd.jupyter.widget-state+json": {
    "state": {},
    "version_major": 2,
    "version_minor": 0
   }
  }
 },
 "nbformat": 4,
 "nbformat_minor": 4
}
