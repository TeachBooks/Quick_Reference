{
 "cells": [
  {
   "cell_type": "markdown",
   "metadata": {},
   "source": [
    "# Forget-me-nots"
   ]
  },
  {
   "cell_type": "markdown",
   "metadata": {},
   "source": [
    "```{figure} Images/Forgetmenots1.jpg\n",
    "---\n",
    "scale: 100%\n",
    "--- \n",
    "Forget-me-not for cantilevering beams.\n",
    "```\n",
    "\n",
    "```{figure} Images/Forgetmenots2.jpg\n",
    "---\n",
    "scale: 100%\n",
    "---\n",
    "Forget-me-not for simply supported beams.\n",
    "```\n",
    "\n",
    "```{figure} Images/Forgetmenots3.jpg\n",
    "---\n",
    "scale: 100%\n",
    "---\n",
    "Forget-me-not for multiple different acting loads.\n",
    "```"
   ]
  }
 ],
 "metadata": {
  "kernelspec": {
   "display_name": "Python 3",
   "language": "python",
   "name": "python3"
  },
  "language_info": {
   "codemirror_mode": {
    "name": "ipython",
    "version": 3
   },
   "file_extension": ".py",
   "mimetype": "text/x-python",
   "name": "python",
   "nbconvert_exporter": "python",
   "pygments_lexer": "ipython3",
   "version": "3.8.0"
  },
  "widgets": {
   "application/vnd.jupyter.widget-state+json": {
    "state": {},
    "version_major": 2,
    "version_minor": 0
   }
  }
 },
 "nbformat": 4,
 "nbformat_minor": 4
}
