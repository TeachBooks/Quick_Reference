{
 "cells": [
  {
   "cell_type": "markdown",
   "metadata": {},
   "source": [
    "# Material characteristics\n",
    "\n",
    "This section contains various tables depicting the material properties of the different steel grades.\n",
    "\n",
    "## Strength and stiffness\n",
    "\n",
    "```{table} Different steels and their properties.\n",
    ":name: steel-properties\n",
    "| Property                                | S235  | S275  | S355  | S420  | S460  |\n",
    "|-----------------------------------------|-------|-------|-------|-------|-------|\n",
    "| Density $ρ_k$ [kg/m³]                     | 7850  | 7850  | 7850  | 7850  | 7850  |\n",
    "| Young’s Modulus $E_k$ [N/mm²]             | 210 × 10³ | 210 × 10³ | 210 × 10³ | 210 × 10³ | 210 × 10³ |\n",
    "| Design Yield Stress $f_{y;d}$ [N/mm²]       | 235   | 275   | 355   | 420   | 460   |\n",
    "| Design Tensile Strength $f_{t;d}$ [N/mm²]   | 360   | 430   | 510   | --    | --    |\n",
    "| Yield Strain $ε_{y;d}$ [‰]                  | 1.12  | 1.31  | 1.69  | --    | --    |\n",
    "| Shear Modulus $G_k$ [N/mm²]               | 8.1 × 10⁴ | 8.1 × 10⁴ | 8.1 × 10⁴ | 8.1 × 10⁴ | 8.1 × 10⁴ |\n",
    "| Coefficient of Thermal Expansion $α$ [K⁻¹] | 12 × 10⁻⁶ | 12 × 10⁻⁶ | 12 × 10⁻⁶ | 12 × 10⁻⁶ | 12 × 10⁻⁶ |\n",
    "```\n",
    "\n",
    "Higher steel grades are also available (up to S1100). The design rules stated in EC3 and this section only apply for the mentioned steel grades. The given values are only applicable to plates, flanges, etc with a maximum thickness of 40 mm acciording to NEN-EN 10025.\n",
    "\n",
    "## Stress-strain diagram\n",
    "\n",
    "\n",
    "```{Note}\n",
    "$ε_{y;d}$ : design yield strain  \n",
    "$f_{t;d}$ : design tensile strength  \n",
    "$f_{y;d}$ : design yield stress  \n",
    "tan α : E_d  (Young’s modulus)\n",
    "```\n",
    "\n",
    "In ordinary calculation the distrubution of forces and structural checks are executed using linear elasticity. In practice this means that as soons as the steel starts to yield, the structure is assumed to have failed. Only the linear part of the diagram shown above is used. The maximum strain is limited by the values given in the material properties table.\n",
    "\n",
    "```{figure} Images/stress_strain_steel.png\n",
    "---\n",
    "---\n",
    "Stress-strain diagram steel.\n",
    "```"
   ]
  },
  {
   "cell_type": "markdown",
   "metadata": {},
   "source": []
  }
 ],
 "metadata": {
  "kernelspec": {
   "display_name": "Python 3",
   "language": "python",
   "name": "python3"
  },
  "language_info": {
   "codemirror_mode": {
    "name": "ipython",
    "version": 3
   },
   "file_extension": ".py",
   "mimetype": "text/x-python",
   "name": "python",
   "nbconvert_exporter": "python",
   "pygments_lexer": "ipython3",
   "version": "3.8.0"
  },
  "widgets": {
   "application/vnd.jupyter.widget-state+json": {
    "state": {},
    "version_major": 2,
    "version_minor": 0
   }
  }
 },
 "nbformat": 4,
 "nbformat_minor": 4
}
