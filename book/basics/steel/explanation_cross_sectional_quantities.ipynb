{
 "cells": [
  {
   "cell_type": "markdown",
   "metadata": {},
   "source": [
    "# Explanation cross sectional properties\n",
    "\n",
    "## Castellated beams IPE/HEA/HEB\n",
    "```{figure} Images/moment_of_inertia.png\n",
    "---\n",
    "align: left\n",
    "scale: 50%\n",
    "---\n",
    "Castellated beams.\n",
    "```\n",
    "\n",
    "### The carthesian coordinate system\n",
    "In this coordinate system the axes are defined as follows:  \n",
    "x-axis: length axis of the element  \n",
    "y-axis: cross product of x and z axis  \n",
    "z-axis: downward axis\n",
    "\n",
    "```{table} Notation of different steel properties.\n",
    ":name: steel-properties-notation\n",
    "| Name                                       | Structural Mechanics  | NEN-EN 1993                                      |\n",
    "|--------------------------------------------|------------------------- | ----------------------------------------------|\n",
    "| Moment of inertia around y-axis (Resistance against moments in x-z plane) | $I_{zz}$ | $I_{y}$ |\n",
    "| Moment of inertia around z-axis (Resistance against moments in x-y plane ) | $I_{yy}$ | $I_{z}$ |\n",
    "| Section modulus around y-axis (Resistance against moments in x-z plane) | $W_{zz}$ | $W_{y}$ |\n",
    "| Section modulus around z-axis (Resistance against moments in x-y plane) | $W_{yy}$ | $W_{z}$ |\n",
    "```\n",
    "\n",
    "## Top hat beams\n",
    "```{figure} Images/radius_of_gyration.png\n",
    "---\n",
    "align: left\n",
    "scale: 50%\n",
    "---\n",
    "Radius of gyration.\n",
    "```\n",
    "\n",
    "The radius of gyration is needed to determine the slenderness of a structure. When the radius of gyration and the buckling curve are known, the buckling force can be determined.\n",
    "\n",
    "Radius of gyration around strong axis (y-axis)  \n",
    "$ i_y = \\sqrt{\\frac{I_y}{A}} $\n",
    "\n",
    "Radius of gyration around weak axis (z-axis)  \n",
    "$ i_z = \\sqrt{\\frac{I_z}{A}} $"
   ]
  }
 ],
 "metadata": {
  "kernelspec": {
   "display_name": "Python 3",
   "language": "python",
   "name": "python3"
  },
  "language_info": {
   "codemirror_mode": {
    "name": "ipython",
    "version": 3
   },
   "file_extension": ".py",
   "mimetype": "text/x-python",
   "name": "python",
   "nbconvert_exporter": "python",
   "pygments_lexer": "ipython3",
   "version": "3.8.0"
  },
  "widgets": {
   "application/vnd.jupyter.widget-state+json": {
    "state": {},
    "version_major": 2,
    "version_minor": 0
   }
  }
 },
 "nbformat": 4,
 "nbformat_minor": 4
}
