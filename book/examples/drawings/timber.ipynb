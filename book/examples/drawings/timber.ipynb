{
 "cells": [
  {
   "cell_type": "markdown",
   "metadata": {},
   "source": [
    "# Timber\n",
    "\n",
    "This section provides drawings of the Octatube case study building in timber.\n",
    "\n",
    "```{figure} Images/hout1.jpg\n",
    "---\n",
    "---\n",
    "Constructive design case study Octatube building in timber.\n",
    "```\n",
    "\n",
    "```{figure} Images/AXO_Hout-01.jpg\n",
    "---\n",
    "---\n",
    "Axonometry of the Octatube building in timber.\n",
    "```\n",
    "\n",
    "```{figure} Images/hout2.jpg\n",
    "---\n",
    "---\n",
    "Section 1 in timber.\n",
    "```\n",
    "\n",
    "```{figure} Images/hout3.jpg\n",
    "---\n",
    "---\n",
    "Section 2 in timber.\n",
    "```\n",
    "\n",
    "```{figure} Images/hout4.jpg\n",
    "---\n",
    "---\n",
    "Section 3 in timber.\n",
    "```\n",
    "\n",
    "```{figure} Images/hout5.jpg\n",
    "---\n",
    "---\n",
    "Section 4 in timber.\n",
    "```\n",
    "\n",
    "```{figure} Images/hout6.jpg\n",
    "---\n",
    "---\n",
    "Section 5 in timber.\n",
    "```"
   ]
  }
 ],
 "metadata": {
  "kernelspec": {
   "display_name": "geospatial",
   "language": "python",
   "name": "geospatial"
  },
  "language_info": {
   "codemirror_mode": {
    "name": "ipython",
    "version": 3
   },
   "file_extension": ".py",
   "mimetype": "text/x-python",
   "name": "python",
   "nbconvert_exporter": "python",
   "pygments_lexer": "ipython3",
   "version": "3.9.13"
  }
 },
 "nbformat": 4,
 "nbformat_minor": 2
}
