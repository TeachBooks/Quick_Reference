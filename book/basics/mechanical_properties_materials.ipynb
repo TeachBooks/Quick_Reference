{
 "cells": [
  {
   "cell_type": "markdown",
   "metadata": {},
   "source": [
    "# Mechanical properties of materials\n",
    "\n",
    "This chapter offers infomation on the different structural materials. The materials are compared on a few characteristic aspects. More detailed information can be found in the chapters.\n",
    "\n",
    "## Material and construction types\n",
    "\n",
    "### Construction types and spans\n",
    "\n",
    "```{figure} Images/construction_types_spans.png\n",
    "---\n",
    "scale: 100%\n",
    "align: right\n",
    "---\n",
    "Construction types and spans.\n",
    "```\n",
    "\n",
    "## Material properties\n",
    "\n",
    "| Property           | Timber                                            | Steel                                             | Concrete (in situ)                              | Concrete (prestressed and/or precast)           |\n",
    "|--------------------|---------------------------------------------------|---------------------------------------------------|--------------------------------------------------|--------------------------------------------------|\n",
    "| Self Weight        | Small (4 to 10 kN/m³, depending on the species)  | Large (78.5 kN/m³) but relatively low self weight, large spans are possible (optimized cross sections); steel use per m² roof area: 0.3 to 1 kN | Large (24 kN/m³), this has consequences for the foundation and maximum span; not economical with low variable load | Large (24 kN/m³), this has consequences for the foundation dimensions; fairly large, but favorable with respect to buckling and deformation limits |\n",
    "| Fire Resistance    | Small dimensions have low fire resistance; Larger sections have good fire resistance | The structure has low fire resistance, but does not burn itself | Good resistance if the cover is sufficient | Less resistance than in situ concrete due to deterioration of the prestressing steel. Does not collapse easily, but is not reliable after a fire |\n",
    "| Water Tightness    | Dependent on the application                      | Not applicable                                    | Good                                             | Good                                             |\n",
    "| Thermal Properties | Not susceptible to thermal influences              | Sensitive to temperature changes; bad without insulation | Low thermal insulation, beware of thermal bridges | Low thermal insulation, beware of thermal bridges |\n",
    "| Acoustic Properties| Acceptable to good; sound reflection is high with corrugated sheet metal in roofs and walls | Air sound insulation is good, contact sound insulation is bad | Air sound insulation is good, contact sound insulation is bad | Adaptability in relation to doors, windows, etc. is good, if the appropriate measures are taken in advance |\n",
    "| Adaptability       | Good                                              | Good                                              | Good, if the appropriate measures are taken in advance | Standard product; tolerances must be incorporated in the design |\n",
    "| Adaptability to ducts             | Trusses are especially suitable for carrying trough of ducts; connection can be done fairly easy | Information is needed upfront and must be processed very accurately. After casting, extra measures are difficult to incorporate | Limited possibilities upfront. After casting, adaption is very difficult | Low                                        |\n",
    "| Suitability for later adjustments| Good                                                     | Good                                                     | Difficult                                                 | Low                                                      |\n",
    "| Labour intensity                 | See steel. A lot of preparation in the factory, resulting in fast and simple assembly on site | The formwork and falsework are very labour intensive. If possible, use standard formwork. Avoid small amounts of concrete at great heights | Factory product with fast assembly on site. Extra stressing on site requires specialized tools and crew | N/A                                                      |\n",
    "| Necessity of serial production   | Not necessary                                            | Not necessary                                            | Preferred, but less necessary than with prefab concrete  | Necessary, because of the high costs of moulds          |\n",
    "| Residual value after demolition  | Low positive residual value, but demolition is easy      | Positive residual value; demolition is expensive         | Negative residual value                                  | N/A                                                      |\n",
    "| Erection speed                   | Fairy quick                                              | Short construction time                                  | Low construction speed due to the time needed for hardening, reuse of formwork, and influences of the weather | Fast montage, but delivery and hardening times must be accounted for |\n",
    "| Needed construction site          | Limited                                                  | Small                                                    | A lot of space needed for preparation of formwork and reinforcement | Small                                                    |\n",
    "| Hygiene                           | When the correct sections are used, almost no dust collection on certain profiles | Dust is easily collected                                | Very suitable for dust-sensitive structures              | Good, partially dependent on cross-section               |"
   ]
  },
  {
   "cell_type": "markdown",
   "metadata": {},
   "source": []
  }
 ],
 "metadata": {
  "kernelspec": {
   "display_name": "Python 3",
   "language": "python",
   "name": "python3"
  },
  "language_info": {
   "codemirror_mode": {
    "name": "ipython",
    "version": 3
   },
   "file_extension": ".py",
   "mimetype": "text/x-python",
   "name": "python",
   "nbconvert_exporter": "python",
   "pygments_lexer": "ipython3",
   "version": "3.8.0"
  },
  "widgets": {
   "application/vnd.jupyter.widget-state+json": {
    "state": {},
    "version_major": 2,
    "version_minor": 0
   }
  }
 },
 "nbformat": 4,
 "nbformat_minor": 4
}
