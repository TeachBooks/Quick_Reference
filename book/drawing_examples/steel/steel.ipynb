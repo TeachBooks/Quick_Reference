{
 "cells": [
  {
   "cell_type": "markdown",
   "metadata": {},
   "source": [
    "# Steel\n",
    "\n",
    "This section provides drawings of the Octatube case study building in steel.\n",
    "\n",
    "```{figure} Images/staal1.jpg\n",
    "---\n",
    "---\n",
    "Constructive design case study Octatube building in steel.\n",
    "```\n",
    "\n",
    "```{figure} Images/AXO_Staal-01.jpg\n",
    "---\n",
    "---\n",
    "Axonometry of the Octatube building in steel.\n",
    "```\n",
    "\n",
    "```{figure} Images/staal2.jpg\n",
    "---\n",
    "---\n",
    "Section 1 in steel.\n",
    "```\n",
    "\n",
    "```{figure} Images/staal3.jpg\n",
    "---\n",
    "---\n",
    "Section 2 in steel.\n",
    "```\n",
    "\n",
    "```{figure} Images/staal4.jpg\n",
    "---\n",
    "---\n",
    "Section 3 in steel.\n",
    "```\n",
    "\n",
    "```{figure} Images/staal5.jpg\n",
    "---\n",
    "---\n",
    "Section 4 in steel.\n",
    "```\n",
    "\n",
    "```{figure} Images/staal6.jpg\n",
    "---\n",
    "---\n",
    "Section 5 in steel.\n",
    "```"
   ]
  }
 ],
 "metadata": {
  "kernelspec": {
   "display_name": "geospatial",
   "language": "python",
   "name": "geospatial"
  },
  "language_info": {
   "codemirror_mode": {
    "name": "ipython",
    "version": 3
   },
   "file_extension": ".py",
   "mimetype": "text/x-python",
   "name": "python",
   "nbconvert_exporter": "python",
   "pygments_lexer": "ipython3",
   "version": "3.9.13"
  }
 },
 "nbformat": 4,
 "nbformat_minor": 2
}
