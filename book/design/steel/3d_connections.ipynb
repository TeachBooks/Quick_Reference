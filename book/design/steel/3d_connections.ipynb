{
 "cells": [
  {
   "cell_type": "markdown",
   "metadata": {},
   "source": [
    "# 3D Connections in steel\n",
    "\n",
    "## Standard steel connection\n",
    "\n",
    "<div style=\"text-align: center;\">\n",
    "    <iframe src=\"../../_static/Connection_Steel_Standard.html\" width=\"750\" height=\"750\" frameborder=\"0\"></iframe>\n",
    "</div>\n",
    "\n",
    "## Corner steel connection\n",
    "\n",
    "<div style=\"text-align: center;\">\n",
    "    <iframe src=\"../../_static/Connection_Steel_Corner.html\" width=\"750\" height=\"750\" frameborder=\"0\"></iframe>\n",
    "</div>\n",
    "\n",
    "## Truss steel connection\n",
    "\n",
    "<div style=\"text-align: center;\">\n",
    "    <iframe src=\"../../_static/Connection_Steel_Truss.html\" width=\"750\" height=\"750\" frameborder=\"0\"></iframe>\n",
    "</div>"
   ]
  }
 ],
 "metadata": {
  "kernelspec": {
   "display_name": "Python 3",
   "language": "python",
   "name": "python3"
  },
  "language_info": {
   "codemirror_mode": {
    "name": "ipython",
    "version": 3
   },
   "file_extension": ".py",
   "mimetype": "text/x-python",
   "name": "python",
   "nbconvert_exporter": "python",
   "pygments_lexer": "ipython3",
   "version": "3.8.0"
  },
  "widgets": {
   "application/vnd.jupyter.widget-state+json": {
    "state": {},
    "version_major": 2,
    "version_minor": 0
   }
  }
 },
 "nbformat": 4,
 "nbformat_minor": 4
}
