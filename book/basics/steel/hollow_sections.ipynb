{
 "cells": [
  {
   "cell_type": "markdown",
   "metadata": {},
   "source": [
    "# Hollow sections\n",
    "\n",
    "Structural design is an iterative process where attention to function, material, force and form is essential. Available production techniques of steel profiles offer a wide range of possibities for a more free form.\n",
    "\n",
    "Hollow sections became possible because of the fast developments in the production of seamless and welded tubes. Plates, rolled sections and tubular sections can be rolled or folded in every possible form. These possibities bring the structural advantages of the tubular sections within reach for multiple forms of construction.\n",
    "In nature, various examples show the excellent properties of hollow sections when loaded in compression, torsion and bending in multiple directions. Especially torsion can be taken up easily in comparison with open profiles.\n",
    "Seamless rolled tubes are at the moment only applied in structures where very high structural demands are stated. The mechanical properties of these tubular sections can be improved after production by heat treatment (annealing).\n",
    "For ordinary structure, mostly welded hollow sections are used. By means of automated welding processes, these tubular sections are provided with a longitudinal or spiral weld. The ends of the hollow sections can be provided with the necessary connection provisions. \n",
    "\n",
    "Using the current production techniques the structural engineer only needs to find the correct fabrication technique, structural shape, material quality, conservation and erection method to make a structural design [^1].\n",
    "\n",
    "## Possible shapes\n",
    "Preferably, use the following abbreviations for the different hollow sections:  \n",
    "Square Hollow Sectios **SHS**  \n",
    "Circular Hollow Section **CHS**  \n",
    "Rectangular Hollow Section **RHS**\n",
    "\n",
    "```{figure} Images/possible_shapes.png\n",
    "---\n",
    "align: right\n",
    "---\n",
    "Possible shapes\n",
    "```\n",
    "\n",
    "## Production method\n",
    "RHS are made by distorting a hollow section by means of rolling. This distorting can take place both hot (920 ˚ C) and cold for seamless and welded tubular sections. For this process, mostly longitudinal welded sections are used.\n",
    "\n",
    "Hot rolled sections have sharp corners, while cold formed sections have rounder corners.\n",
    "\n",
    "```{figure} Images/chs_seamless.png\n",
    "---\n",
    "align: left\n",
    "height: 200px\n",
    "---\n",
    "CHS, seamless\n",
    "```\n",
    "```{figure} Images/chs_welded_plates.png\n",
    "---\n",
    "align: right\n",
    "height: 200px\n",
    "---\n",
    "CHS, welded plates\n",
    "```\n",
    "```{figure} Images/chs_welded2.png\n",
    "---\n",
    "---\n",
    "CHS, welded plates schematic\n",
    "```\n",
    "\n",
    "## Applications\n",
    "\n",
    "### Maeslantkering\n",
    "```{figure} Images/maeslantkering.png\n",
    "---\n",
    "---\n",
    "Maeslantkering, Nieuwe Waterweg\n",
    "```\n",
    "At the Maeslantkering in the Nieuwe Waterweg the 240 m long trusses are made of welded circular hollow sections with a diameter of 1,8 m and a thickness of 60 to 90 mm. These trusses support the closed hollow barrier.\n",
    "\n",
    "### Dintelhaven railway bridge\n",
    "```{figure} Images/dintelhaven.png\n",
    "---\n",
    "---\n",
    "Dintelhaven railway bridge\n",
    "```\n",
    "At the Dintelhaven railway bridge the two leaning arches are made of hollow sections. This ensured a stable structure with a minimum amount of bracing. The stay cables support a continuous I-beam which supports the bridge deck. For more information see Bouwen met Staal magazine 142 (1998) p. 16-23.\n",
    "\n",
    "### Oosterscheldekering\n",
    "```{figure} Images/oosterscheldekering.png\n",
    "---\n",
    "---\n",
    "Oosterscheldekering\n",
    "```\n",
    "\n",
    "The vertical lift doors in the Oosterschelde storm surge barrier are made of circular hollow sections in the 3D truss beam supporting the watertight door (segment-shape \n",
    "shells, loaded only in tension). Function, construction and materials are widely discussed in Bouwen met Staal magazine 76 (1986)."
   ]
  },
  {
   "cell_type": "markdown",
   "metadata": {},
   "source": [
    "[^1]: Hollow sections in Structural Applications, J. Wardenier."
   ]
  }
 ],
 "metadata": {
  "kernelspec": {
   "display_name": "Python 3",
   "language": "python",
   "name": "python3"
  },
  "language_info": {
   "codemirror_mode": {
    "name": "ipython",
    "version": 3
   },
   "file_extension": ".py",
   "mimetype": "text/x-python",
   "name": "python",
   "nbconvert_exporter": "python",
   "pygments_lexer": "ipython3",
   "version": "3.8.0"
  },
  "widgets": {
   "application/vnd.jupyter.widget-state+json": {
    "state": {},
    "version_major": 2,
    "version_minor": 0
   }
  }
 },
 "nbformat": 4,
 "nbformat_minor": 4
}
