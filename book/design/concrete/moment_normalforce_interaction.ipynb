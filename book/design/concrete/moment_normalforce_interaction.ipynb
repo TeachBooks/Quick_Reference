{
 "cells": [
  {
   "cell_type": "markdown",
   "metadata": {},
   "source": [
    "# Moment normal force interaction\n",
    "\n",
    "These tables are based on EC2; 6.1 and 3.1.7(1), meaning that calculations have been made with the parabola-rectangle stress-strain diagrams."
   ]
  },
  {
   "cell_type": "code",
   "execution_count": 3,
   "metadata": {},
   "outputs": [],
   "source": [
    "import numpy as np\n",
    "import matplotlib.pyplot as plt"
   ]
  },
  {
   "cell_type": "markdown",
   "metadata": {},
   "source": [
    "## Example Concrete & Steel structures\n",
    "\n",
    "The following code shows an example that was part of an assignment for the BSc course Concrete & Steel Structures in the year 2023-2024.\n",
    "\n",
    "```{figure} Images/4_grenssituaties.png\n",
    "\n",
    "4 grenssituaties\n",
    "``` "
   ]
  },
  {
   "cell_type": "code",
   "execution_count": 23,
   "metadata": {},
   "outputs": [],
   "source": [
    "f_ck = 30 #[N/mm^2] C30/37\n",
    "f_cd = f_ck/1.5\n",
    "alfa = 0.75\n",
    "beta = 7/18\n",
    "eps_c2 = 0.00175\n",
    "eps_cu3 = 0.0035\n",
    "\n",
    "f_yk = 500 #[N/mm^2] B500B\n",
    "f_yd = f_yk/1.15\n",
    "eps_s = 0.002175\n",
    "\n",
    "c = 25 #[mm]\n",
    "phi_bgl = 6 #[mm]\n",
    "n_hw = 4 #[-] aantal staven\n",
    "phi_hw = 12 #[mm]\n",
    "E_s = 200000 #[N/mm^2]\n",
    "E_cm = 200000 #[N/mm^2]\n",
    "phi_eff = 1.2 #[-]\n",
    "e = 100 #[mm]\n",
    "\n",
    "b = 250 #[mm]\n",
    "h = 250 #[mm]\n",
    "N_Ed = 261 #[kN]"
   ]
  },
  {
   "cell_type": "markdown",
   "metadata": {},
   "source": [
    "### Grenssituatie 0: zuivere buiging, geen normaalkracht"
   ]
  },
  {
   "cell_type": "code",
   "execution_count": 32,
   "metadata": {},
   "outputs": [
    {
     "name": "stdout",
     "output_type": "stream",
     "text": [
      "a = 37.00 mm\n",
      "A_s = 452.39 mm^2\n",
      "x_u0 = 52.45 mm\n",
      "M_Rd0 = 37.9 kNm\n",
      "N_Rd0 = 0.0 kN\n"
     ]
    }
   ],
   "source": [
    "a = c + phi_bgl + phi_hw/2\n",
    "A_s = 1/4 * np.pi * phi_hw**2 * n_hw\n",
    "x_u0 = A_s * f_yd / (alfa * b * f_cd)\n",
    "M_Rd0 = A_s * f_yd * (h - a - beta * x_u0) / 1e6\n",
    "N_Rd0 = 0\n",
    "\n",
    "print(f'a = {a:.2f} mm')\n",
    "print(f'A_s = {A_s:.2f} mm^2')\n",
    "print(f'x_u0 = {x_u0:.2f} mm')\n",
    "print(f'M_Rd0 = {M_Rd0:.1f} kNm')\n",
    "print(f'N_Rd0 = {N_Rd0:.1f} kN')"
   ]
  },
  {
   "cell_type": "markdown",
   "metadata": {},
   "source": [
    "### Grenssituatie 1: gedrukte wapening vloeit op druk, maximale betonstuik bereikt"
   ]
  },
  {
   "cell_type": "code",
   "execution_count": 33,
   "metadata": {},
   "outputs": [
    {
     "name": "stdout",
     "output_type": "stream",
     "text": [
      "x_u1 = 97.74 mm\n",
      "e_sc = e_st = 88.00 mm\n",
      "N_st1 = N_sc1 = 1.968e+05 N\n",
      "N_c1 = 3.665e+05 N\n",
      "M_Rd1 = 66.5 kNm\n",
      "N_Rd1 = 366.5 kN\n"
     ]
    }
   ],
   "source": [
    "x_u1 = a / (1 - eps_s/eps_cu3)\n",
    "e_sc = e_st = h/2 - a\n",
    "eps_st1 = eps_s\n",
    "eps_sc1 = eps_s\n",
    "\n",
    "N_st1 = N_sc1 = E_s * eps_st1 * A_s\n",
    "N_c1 = alfa * b * f_cd * x_u1\n",
    "eps_c1 = h/2 - beta * x_u1\n",
    "M_Rd1 = (N_st1*e_st + N_sc1 * e_sc + N_c1 * eps_c1) / 1e6\n",
    "N_Rd1 = (- N_st1 + N_sc1 + N_c1) / 1e3\n",
    "\n",
    "print(f'x_u1 = {x_u1:.2f} mm')\n",
    "print(f'e_sc = e_st = {e_sc:.2f} mm')\n",
    "print(f'N_st1 = N_sc1 = {N_sc1:.3e} N')\n",
    "print(f'N_c1 = {N_c1:.3e} N')\n",
    "print(f'M_Rd1 = {M_Rd1:.1f} kNm')\n",
    "print(f'N_Rd1 = {N_Rd1:.1f} kN')"
   ]
  },
  {
   "cell_type": "markdown",
   "metadata": {},
   "source": [
    "### Grenssituatie 2: Getrokken wapening vloeit op trek, maximale betonstuik bereikt"
   ]
  },
  {
   "cell_type": "code",
   "execution_count": 34,
   "metadata": {},
   "outputs": [
    {
     "name": "stdout",
     "output_type": "stream",
     "text": [
      "x_u2 = 131.37 mm\n",
      "e_c2 = 73.91\n",
      "eps_c2 = 0.00175\n",
      "N_st2 = 1.968e+05 N\n",
      "N_sc2 = 1.968e+05 N\n",
      "N_c2 = 4.926e+05 N\n",
      "M_Rd2 = 71.0 kNm\n",
      "N_Rd2 = 492.6 kN\n"
     ]
    }
   ],
   "source": [
    "x_u2 = eps_cu3 * (h - a) / (eps_s + eps_cu3)\n",
    "e_c2 = h/2 - beta * x_u2\n",
    "eps_st2 = eps_s\n",
    "N_st2 = E_s * eps_st2 * A_s\n",
    "eps_sc2 = min(eps_s, eps_cu3 * (x_u2 - a) / x_u2)\n",
    "N_sc2 = E_s * eps_sc2 * A_s\n",
    "N_c2 = alfa * b * f_cd * x_u2\n",
    "M_Rd2 = (N_st2*e_st + N_sc2 * e_sc + N_c2 * e_c2) / 1e6\n",
    "N_Rd2 = (- N_st2 + N_sc2 + N_c2) / 1e3\n",
    "\n",
    "print(f'x_u2 = {x_u2:.2f} mm')\n",
    "print(f'e_c2 = {e_c2:.2f}')\n",
    "print(f'eps_c2 = {eps_c2:.5f}')\n",
    "print(f'N_st2 = {N_st2:.3e} N')\n",
    "print(f'N_sc2 = {N_sc2:.3e} N')\n",
    "print(f'N_c2 = {N_c2:.3e} N')\n",
    "print(f'M_Rd2 = {M_Rd2:.1f} kNm')\n",
    "print(f'N_Rd2 = {N_Rd2:.1f} kN')"
   ]
  },
  {
   "cell_type": "markdown",
   "metadata": {},
   "source": [
    "### Grenssituatie 3: maximale betonstuik bereikt, $x_{u3} = h$."
   ]
  },
  {
   "cell_type": "code",
   "execution_count": 35,
   "metadata": {},
   "outputs": [
    {
     "name": "stdout",
     "output_type": "stream",
     "text": [
      "x_u3 = 250.00 mm\n",
      "e_c3 = 27.78\n",
      "eps_sc3 = 0.00217\n",
      "N_st3 = 4.687e+04 N\n",
      "N_sc3 = 1.968e+05 N\n",
      "N_c3 = 9.375e+05 N\n",
      "M_Rd3 = 39.2 kNm\n",
      "N_Rd3 = 1181.2 kN\n"
     ]
    }
   ],
   "source": [
    "x_u3 = h\n",
    "e_c3 = h/2 - beta * x_u3\n",
    "eps_st3 = min(eps_s, (eps_cu3 * a) / x_u3)\n",
    "N_st3 = E_s * eps_st3 * A_s\n",
    "eps_sc3 = min(eps_s, eps_cu3 * (x_u3 - a) / x_u3)\n",
    "N_sc3 = E_s * eps_sc3 * A_s\n",
    "N_c3 = alfa * b * f_cd * x_u3\n",
    "M_Rd3 = (-N_st3*e_st + N_sc3 * e_sc + N_c3 * e_c3) / 1e6\n",
    "N_Rd3 = (N_st3 + N_sc3 + N_c3) / 1e3\n",
    "\n",
    "print(f'x_u3 = {x_u3:.2f} mm')\n",
    "print(f'e_c3 = {e_c3:.2f}')\n",
    "print(f'eps_sc3 = {eps_sc3:.5f}')\n",
    "print(f'N_st3 = {N_st3:.3e} N')\n",
    "print(f'N_sc3 = {N_sc3:.3e} N')\n",
    "print(f'N_c3 = {N_c3:.3e} N')\n",
    "print(f'M_Rd3 = {M_Rd3:.1f} kNm')\n",
    "print(f'N_Rd3 = {N_Rd3:.1f} kN')"
   ]
  },
  {
   "cell_type": "markdown",
   "metadata": {},
   "source": [
    "### Grenssituatie 4: centrische druk (geen momentcapaciteit)"
   ]
  },
  {
   "cell_type": "code",
   "execution_count": 36,
   "metadata": {},
   "outputs": [
    {
     "name": "stdout",
     "output_type": "stream",
     "text": [
      "N_st4 = 1.968e+05 N\n",
      "N_sc4 = 1.968e+05 N\n",
      "N_c4 = 1.250e+06 N\n",
      "M_Rd4 = 0.0 kNm\n",
      "N_Rd4 = 1643.6 kN\n"
     ]
    }
   ],
   "source": [
    "N_sc4 = E_s * eps_s * A_s\n",
    "N_st4 = N_sc4\n",
    "N_c4 = b * f_cd * h\n",
    "M_Rd4 = 0\n",
    "N_Rd4 = (N_st4 + N_sc4 + N_c4) / 1e3\n",
    "\n",
    "print(f'N_st4 = {N_st4:.3e} N')\n",
    "print(f'N_sc4 = {N_sc4:.3e} N')\n",
    "print(f'N_c4 = {N_c4:.3e} N')\n",
    "print(f'M_Rd4 = {M_Rd4:.1f} kNm')\n",
    "print(f'N_Rd4 = {N_Rd4:.1f} kN')"
   ]
  },
  {
   "cell_type": "markdown",
   "metadata": {},
   "source": [
    "## Diagram"
   ]
  },
  {
   "cell_type": "code",
   "execution_count": 56,
   "metadata": {},
   "outputs": [
    {
     "data": {
      "image/png": "[encoded data removed]",
      "text/plain": [
       "<Figure size 600x1000 with 1 Axes>"
      ]
     },
     "metadata": {},
     "output_type": "display_data"
    }
   ],
   "source": [
    "M_Rd = np.array([M_Rd0, M_Rd1, M_Rd2, M_Rd3, M_Rd4])\n",
    "N_Rd = np.array([N_Rd0, N_Rd1, N_Rd2, N_Rd3, N_Rd4])\n",
    "\n",
    "plt.figure(figsize=(6, 10))\n",
    "plt.title('Moment normal force interaction')\n",
    "plt.plot(M_Rd, N_Rd)\n",
    "\n",
    "for i in range(len(M_Rd)):\n",
    "    plt.plot(M_Rd[i], N_Rd[i], marker='x', linestyle='', label =f'Grenssituatie {i}')\n",
    "\n",
    "plt.xlabel('M_Rd [kNm]')\n",
    "plt.ylabel('N_Rd [kN]')\n",
    "plt.legend();"
   ]
  },
  {
   "cell_type": "code",
   "execution_count": null,
   "metadata": {},
   "outputs": [],
   "source": []
  }
 ],
 "metadata": {
  "kernelspec": {
   "display_name": "geospatial",
   "language": "python",
   "name": "geospatial"
  },
  "language_info": {
   "codemirror_mode": {
    "name": "ipython",
    "version": 3
   },
   "file_extension": ".py",
   "mimetype": "text/x-python",
   "name": "python",
   "nbconvert_exporter": "python",
   "pygments_lexer": "ipython3",
   "version": "3.9.13"
  }
 },
 "nbformat": 4,
 "nbformat_minor": 2
}
