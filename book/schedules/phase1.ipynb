{
 "cells": [
  {
   "cell_type": "markdown",
   "metadata": {},
   "source": [
    "# Phase 1: Make open"
   ]
  },
  {
   "cell_type": "markdown",
   "metadata": {},
   "source": [
    "## Project proposal\n",
    "\n",
    "| Work Package 1    | Make Open      |\n",
    "| -------- | --------- |\n",
    "| Aim | Deploy the existing material as Open Educational Resource, using a suitable platform or technology |\n",
    "| Activity 1 | Investigate if all parts of the existing source are (or can be made) in line with CC BY 4.0 conditions.|\n",
    "| Activity 2 | Replace images and tables that contain conflicting material. |\n",
    "| Deliverables | A new version of the existing content that can be shared as OER. |\n",
    "| Planning |February – March 2024|"
   ]
  },
  {
   "cell_type": "markdown",
   "metadata": {},
   "source": [
    "## Tasks\n",
    "\n",
    "### CC BY 4.0 conditions?\n",
    "\n",
    "$\\textit{These are CC BY 4.0 conditions according to from ChatGPT 3.5:}\n",
    "$\n",
    "\n",
    "CC BY 4.0 conditions refers to the Creative Commons Attribution 4.0 International License. It's a type of license commonly used for sharing creative works such as text, images, videos, and other content. The CC BY 4.0 license allows others to distribute, remix, adapt, and build upon your work, even commercially, as long as they give appropriate credit to the original creator(s).\n",
    "\n",
    "Here are the key conditions of the CC BY 4.0 license:\n",
    "\n",
    "1. **Attribution**: You must give appropriate credit to the original creator(s) of the work, provide a link to the license, and indicate if changes were made. This means you need to acknowledge the original authorship of the work when you use it.\n",
    "\n",
    "2. **ShareAlike**: If you remix, adapt, or build upon the original work, you must distribute your contributions under the same license as the original.\n",
    "\n",
    "3. **No additional restrictions**: You may not apply legal terms or technological measures that legally restrict others from doing anything the license permits.\n",
    "\n",
    "4. **No warranties**: The license does not provide any warranties or guarantees regarding the work. It's provided \"as is.\"\n",
    "\n",
    "5. **Notice**: You must include a notice that specifies the CC BY 4.0 license terms whenever you distribute or communicate the work to the public.\n",
    "\n",
    "By using a CC BY 4.0 license, creators can ensure their work is shared with others in a flexible and open manner while retaining some control over how it's used and attributed. It promotes collaboration, creativity, and the sharing of knowledge across a wide range of contexts.\n",
    "\n",
    "### Replace old images and tables that are conflicting"
   ]
  },
  {
   "cell_type": "markdown",
   "metadata": {},
   "source": []
  },
  {
   "cell_type": "markdown",
   "metadata": {},
   "source": []
  }
 ],
 "metadata": {
  "kernelspec": {
   "display_name": "Python 3",
   "language": "python",
   "name": "python3"
  },
  "language_info": {
   "codemirror_mode": {
    "name": "ipython",
    "version": 3
   },
   "file_extension": ".py",
   "mimetype": "text/x-python",
   "name": "python",
   "nbconvert_exporter": "python",
   "pygments_lexer": "ipython3",
   "version": "3.8.0"
  },
  "widgets": {
   "application/vnd.jupyter.widget-state+json": {
    "state": {},
    "version_major": 2,
    "version_minor": 0
   }
  }
 },
 "nbformat": 4,
 "nbformat_minor": 4
}
