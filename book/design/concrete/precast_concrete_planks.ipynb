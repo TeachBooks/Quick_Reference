{
 "cells": [
  {
   "cell_type": "markdown",
   "metadata": {},
   "source": [
    "# Precast concrete planks"
   ]
  },
  {
   "cell_type": "markdown",
   "metadata": {},
   "source": [
    "Precast concrete planks are prefabricated formwork elements. On top of the precast elements in situ concrete is casted. The floors are suitable as floors in residential and non residential buildings. \n",
    "\n",
    "The precast slabs have a thickness of 50 to 90 mm and a maximum length of 8500 mm. The protruding reinforcement trusses are calculated per project because the size depends on the load and span. The main reinforcement and trusses are placed parallel to the main span direction. Ducts can be casted in. In the structural topping additional bottom and top reinforcement can be placed. The topping is of strength class C20/25 or higher. Voids can be added in the fabrication process, and ground floors can be isolated at the bottom side of the slab. Propping needs to be done according to the fabricators instructions.\n",
    " \n",
    "Eventually the precast planks and topping act as one slab which has a reasonable degree of flexibility [^1].\n",
    "\n",
    "```{figure} Images/PrecastConcrete_Planks.jpg\n",
    "---\n",
    "scale: 50%\n",
    "---\n",
    "Precast concrete planks.\n",
    "```  \n",
    "```{figure} Images/PrecastConcrete_Planks2.jpg\n",
    "---\n",
    "---\n",
    "Thickness of precast concrete planks.\n",
    "```  \n",
    "\n",
    "## Product specifications Dycore precast concrete planks\n",
    "\n",
    "```{table} Product specifications for Dycpre precast concrete planks\n",
    ":name: dycore-precast-concrete-planks-specifications\n",
    "| Property                     | Value                                          |\n",
    "|------------------------------|------------------------------------------------|\n",
    "| Element Length               | 0.25 - 10 m                                    |\n",
    "| Standard Width               | 2697 / 2997 mm (Effective Width: 2700 / 3000 mm) |\n",
    "| Width Filler Slabs           | 250 - 2920 mm                                  |\n",
    "| Prestressing Steel           | FeP 1860 conform NEN 3868                      |\n",
    "| Thickness / Mass             |                                                |\n",
    "|                       | - 50 mm / 1.2 kN/m²                                      |\n",
    "|                       | - 60 mm / 1.44 kN/m²                                     |\n",
    "|                       | - 70 mm / 1.68 kN/m²                                     |\n",
    "|                       | - 80 mm / 1.92 kN/m²                                     |\n",
    "```\n",
    "\n",
    "```{figure} Images/Dycore_Precast.jpg\n",
    "Precast slabs dimensions (Dycore).\n",
    "``` \n",
    "\n",
    "## Connections\n"
   ]
  },
  {
   "cell_type": "markdown",
   "metadata": {},
   "source": [
    "\n",
    "```{figure} Images/Dycore_Precast2.jpg\n",
    "---\n",
    "---\n",
    "Connections between precast concrete slabs.\n",
    "``` "
   ]
  },
  {
   "cell_type": "markdown",
   "metadata": {},
   "source": [
    "[^1]: [Dycore.nl](https://www.dycore.nl/): Different floor systems. CAD drawings and details can be downloaded. Design graphs are available."
   ]
  }
 ],
 "metadata": {
  "kernelspec": {
   "display_name": "Python 3",
   "language": "python",
   "name": "python3"
  },
  "language_info": {
   "codemirror_mode": {
    "name": "ipython",
    "version": 3
   },
   "file_extension": ".py",
   "mimetype": "text/x-python",
   "name": "python",
   "nbconvert_exporter": "python",
   "pygments_lexer": "ipython3",
   "version": "3.8.0"
  },
  "widgets": {
   "application/vnd.jupyter.widget-state+json": {
    "state": {},
    "version_major": 2,
    "version_minor": 0
   }
  }
 },
 "nbformat": 4,
 "nbformat_minor": 4
}
