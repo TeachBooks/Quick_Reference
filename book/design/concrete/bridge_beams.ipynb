{
 "cells": [
  {
   "cell_type": "markdown",
   "metadata": {},
   "source": [
    "# Bridge beams"
   ]
  },
  {
   "cell_type": "markdown",
   "metadata": {},
   "source": [
    "Different fabricators offer prefabricated bridge beams. The beams are available in different shapes: box beams, I-sections and inverted\n",
    "T-sections. This section gives an overview of some possibilities [^1][^2].\n",
    "\n",
    "```{figure} Images/Bridge_Beams1.jpg\n",
    "```  \n",
    "\n",
    "```{figure} Images/Bridge_Beams2.jpg\n",
    "```\n",
    "\n",
    "## Applications\n",
    "\n",
    "```{figure} Images/Viaduct.jpg\n",
    "```      \n",
    "\n",
    "The curved viaduct of the tram line crossing the N201 is made from prefab beams with a compressive slab and a bridge deck. The viaduct\n",
    "is supported by pilars on foundation blocks with center to center distances of 20 meters. The foundation blocks are founded on prefab or Fundexpiles.\n",
    "\n",
    "The pilars are cast in one piece with self compacting concrete because:\n",
    "• High concentrations of reinforcement occured.\n",
    "• Not all locations could be reached with compaction devices.\n",
    "• High erection speed was necessary\n",
    "• There was a large chance of the arisal of rockpockets which, even after repair, always have lower strength and druability.\n",
    "• Construction joints were not desirable from an aestethical point of view\n",
    "\n",
    "Near the bus stop the bridge deck is built from ZIP-beams with a compressive layer of 250 mm and an additional deck layer of 200 mm. The decklayer does not contribute to the bearing capacity of the bridge. In the future it has to be possible to mill slots in the deck layer to place tramrails. The deck layer is connected to the compressive layer by means\n",
    "of hairpins. Also transverse and longitudinal reinforcement is applied, adjusted to the future tramrails.  \n",
    "\n",
    "Near the platforms the pillars are equipped with concrete consoles on which two boxbeams are placed to\n",
    "carry the platforms. The box beams are designed in such a way that in the event of bus loading on the platforms\n",
    "the structure will not be damaged. The box beams with a length of 20 m are placed on elastomeric bearings\n",
    "on the consoles. In the design only the platforms were detailed, while the bridge deck was only specified once\n",
    "every four spans, about 80 m. The bridge deck was specified minimally.  \n",
    "\n",
    "During the execution phase the design was re-evaluated and the details where further developed. This was now possible due to the extra\n",
    "information which had come available. Eventually a circular cross section has been developed, consisting of existing elements. This cross section could\n",
    "not be applied without integrating the bridge deck and platforms, while the pilars where already being casted. An additional structural check was\n",
    "necessary to, if necessary, adjust the design.\n",
    "\n",
    "```{figure} Images/Bridge_Application1.jpg\n",
    "```\n",
    "\n",
    "```{figure} Images/Bridge_Application2.jpg\n",
    "```\n",
    "\n",
    "```{figure} Images/Bridge_Application3.jpg\n",
    "```\n",
    "\n",
    "## Bridge beams I\n",
    "\n",
    "```{figure} Images/Railbeam_Structures.jpg\n",
    "\n",
    "Railbeam structures\n",
    "```\n",
    "\n",
    "```{figure} Images/Boxbeam_Structures.jpg\n",
    "\n",
    "Box beam structures\n",
    "```\n",
    "\n",
    "```{figure} Images/Solid_Composite_Structures.jpg\n",
    "\n",
    "Solid composite structures\n",
    "```\n",
    "\n",
    "## Bridge beams II\n",
    "\n",
    "```{figure} Images/HKPW_BridgeBeam.jpg\n",
    "\n",
    "HKPW profile\n",
    "```\n",
    "\n",
    "```{figure} Images/HPRP_BridgeBeam.jpg\n",
    "\n",
    "HPRP profile\n",
    "```\n",
    "\n",
    "```{figure} Images/HKO_BridgeBeam.jpg\n",
    "\n",
    "HKO profile\n",
    "```\n"
   ]
  },
  {
   "cell_type": "markdown",
   "metadata": {},
   "source": [
    "[^1]: [Haitsma.nl](https://www.haitsma.nl/): Bridges, foundations, offices, parking lots. CAD details and design graphs.\n",
    "[^2]: [Spanbeton.nl](https://www.spanbeton.nl/): Large prefab elements used in road- and railway construction, hydraulic engineering, industrial buildings, and concrete sheet piling."
   ]
  }
 ],
 "metadata": {
  "kernelspec": {
   "display_name": "Python 3",
   "language": "python",
   "name": "python3"
  },
  "language_info": {
   "codemirror_mode": {
    "name": "ipython",
    "version": 3
   },
   "file_extension": ".py",
   "mimetype": "text/x-python",
   "name": "python",
   "nbconvert_exporter": "python",
   "pygments_lexer": "ipython3",
   "version": "3.8.0"
  },
  "widgets": {
   "application/vnd.jupyter.widget-state+json": {
    "state": {},
    "version_major": 2,
    "version_minor": 0
   }
  }
 },
 "nbformat": 4,
 "nbformat_minor": 4
}
