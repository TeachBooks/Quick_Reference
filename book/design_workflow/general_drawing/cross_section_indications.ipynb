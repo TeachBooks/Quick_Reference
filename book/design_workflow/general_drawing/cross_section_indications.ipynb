{
 "cells": [
  {
   "cell_type": "markdown",
   "metadata": {},
   "source": [
    "# Cross section indications\n",
    "\n",
    "For each material, a different hatch is used. Furthermore, the type of hatch can differ as the scale of the drawing\n",
    "changes. This is done to make sure that at higher scales the hatches are not too complicated, as the areas to\n",
    "hatch on the drawing decrease rapidly with increasing scale. \n",
    "\n",
    "````{Note}\n",
    "In the tables below two markings appear:\n",
    "```{figure} Images/black_circle.png\n",
    "---\n",
    "align: left\n",
    "scale: 200%\n",
    "---\n",
    "Scale at which the hatch needs to be used\n",
    "```\n",
    "```{figure} Images/grey_circle.png\n",
    "---\n",
    "align: right\n",
    "scale: 200%\n",
    "---\n",
    "Scale at which the hatch needs  \n",
    " to be used with the material added in text\n",
    "```\n",
    "````\n",
    "  \n",
    "The tables are based on the Dutch code NEN 47.\n",
    "\n",
    "## Stone-like materials\n",
    "\n",
    "| No. | Description                           | Hatch                                           | Scale        |              |              |              |              |              |Remarks       |\n",
    "| --- | -----------------------               | -----                                           | -----        | -----        | ----         | ----         | ----         | ----         | ---          |\n",
    "|     |                                       |                                                 | 1:100        |1:50          |1:20          |1:10          |1:5           |1:1           |              | \n",
    "| 1   | Brick masonry                         | ![Brick1](Images/Brick1.png) | ![black_circle](Images/black_circle.png) | ![black_circle](Images/black_circle.png) |              |              |              |              |              |\n",
    "|     |                                       | ![Brick2](Images/Brick2.png) |              | ![black_circle](Images/black_circle.png) | ![black_circle](Images/black_circle.png) | ![black_circle](Images/black_circle.png) | ![black_circle](Images/black_circle.png) | ![black_circle](Images/black_circle.png) |              |\n",
    "|     |                                       |![Brick3](Images/Brick3.png)                |              | ![black_circle](Images/black_circle.png) | ![black_circle](Images/black_circle.png) | ![black_circle](Images/black_circle.png) | ![black_circle](Images/black_circle.png) | ![black_circle](Images/black_circle.png) |              |\n",
    "| 2   | Stone-like materials                  | ![Stone_like](Images/Stone_Like.png) | ![grey_circle](Images/grey_circle.png) | ![grey_circle](Images/grey_circle.png) | ![grey_circle](Images/grey_circle.png) | ![grey_circle](Images/grey_circle.png) | ![grey_circle](Images/grey_circle.png) | ![grey_circle](Images/grey_circle.png) |e.g. fireproof material, roof tiles |\n",
    "| 3   | Non-brick masonry                     | ![Non_Brick](Images/Non_Brick.png)| ![grey_circle](Images/grey_circle.png) | ![grey_circle](Images/grey_circle.png) | ![grey_circle](Images/grey_circle.png) | ![grey_circle](Images/grey_circle.png) | ![grey_circle](Images/grey_circle.png) | ![grey_circle](Images/grey_circle.png) |e.g. concrete masonry units    |\n",
    "| 4   | Non load carrying division walls      |![Non_Load1](Images/Non_Load1.png)               | ![black_circle](Images/black_circle.png)  | ![black_circle](Images/black_circle.png) |      |        |       |       |                          |\n",
    "|     |                                       |![Non_Load2](Images/Non_Load2.png)             |              |       | ![black_circle](Images/black_circle.png) | ![black_circle](Images/black_circle.png) |       |       |                          |\n",
    "|     |                                       |![Non_Load3](Images/Non_Load3.png)             |              |       |      |        | ![grey_circle](Images/grey_circle.png) | ![grey_circle](Images/grey_circle.png) |                          |\n",
    "| 5   | Reinforced concrete (cast in situ)    |![Reinforced_Concrete1](Images/Reinforced_Concrete1.png)  | ![black_circle](Images/black_circle.png) | ![black_circle](Images/black_circle.png) |      |        |       |       |                          |\n",
    "|     |                                       |![Reinforced_Concrete2](Images/Reinforced_Concrete2.png)  | | ![black_circle](Images/black_circle.png) | ![black_circle](Images/black_circle.png) | ![black_circle](Images/black_circle.png) | ![black_circle](Images/black_circle.png) | ![black_circle](Images/black_circle.png) | |\n",
    "| 6   | Reinforced concrete (precast)         |![Reinforced_Concrete_Precast](Images/Reinforced_Concrete_Precast.png)| ![black_circle](Images/black_circle.png) |  ![black_circle](Images/black_circle.png) | ![black_circle](Images/black_circle.png) | ![black_circle](Images/black_circle.png) | ![black_circle](Images/black_circle.png) | ![black_circle](Images/black_circle.png)|                          |\n",
    "| 7   | Plain concrete                        |![Plain_Concrete](Images/Plain_Concrete.png)| ![grey_circle](Images/grey_circle.png) | ![grey_circle](Images/grey_circle.png) | ![grey_circle](Images/grey_circle.png) | ![grey_circle](Images/grey_circle.png) | ![grey_circle](Images/grey_circle.png) | ![grey_circle](Images/grey_circle.png) |e.g. lightweight concrete |\n",
    "| 8   | Decorative concrete                   |![Decorative_Concrete](Images/Decorative_Concrete.png)    | ![black_circle](Images/black_circle.png) |  ![black_circle](Images/black_circle.png) | ![black_circle](Images/black_circle.png) | ![black_circle](Images/black_circle.png) | ![black_circle](Images/black_circle.png) | ![black_circle](Images/black_circle.png) |                          |\n",
    "| 9   | Natural stone                         |![Natural_Stone](Images/Natural_Stone.png)  | ![black_circle](Images/black_circle.png) |  ![black_circle](Images/black_circle.png) | ![black_circle](Images/black_circle.png) | ![black_circle](Images/black_circle.png) | ![black_circle](Images/black_circle.png) | ![black_circle](Images/black_circle.png)|       |                          |\n",
    "| 10  | Single floor/wall finishing           |![Single_Floor_Wall](Images/Single_Floor_Wall.png)     |       |       |      |        | ![grey_circle](Images/grey_circle.png) | ![grey_circle](Images/grey_circle.png)    | e.g. plaster     |\n",
    "| 11  | Composite floor/wall finishing        |![Composite](Images/Composite.png)              |       |       | ![grey_circle](Images/grey_circle.png) | ![grey_circle](Images/grey_circle.png) | ![grey_circle](Images/grey_circle.png) | ![grey_circle](Images/grey_circle.png)    |                          |\n"
   ]
  },
  {
   "cell_type": "markdown",
   "metadata": {},
   "source": [
    "## Timber materials"
   ]
  },
  {
   "cell_type": "markdown",
   "metadata": {},
   "source": [
    "|No.| Description                        | Hatch                                | Scale        |              |              |              |              |              |Remarks       |\n",
    "|---| -----------------------            | -----                                | -----        | -----        | ----         | ----         | ----         | ----         | ---          |\n",
    "|   |                                    |                                      | 1:100        |1:50          |1:20          |1:10          |1:5           |1:1           |              | \n",
    "|12 | Softwood                           |![Softwood](Images/Softwood.png)     |       |       |      |        |       |       |                          |\n",
    "|13 | Hardwood                           |![Hardwood](Images/Hardwood.png)      |       |       |      |        |       |       |                          |\n",
    "|14 | Softwood/Hardwood (along the grain)|![Soft_Hardwood_Along_The_Grain](Images/Soft_Hardwood_Along_The_Grain.png)       |       |       |      |        |       |       |                          |\n",
    "|15 | Glued seam                         |![Glued_Seam](Images/Glued_Seam.png)       |       |       |      |        |       |       |                          |\n",
    "|16 | Cladding panel                     |![Cladding_Panel](Images/Cladding_Panel.png)     |       |       |      |        |       |       |                          |\n",
    "|17 | Isolation panel                    |![Isolation_Panel](Images/Isolation_Panel.png)    |       |       |      |        |       |       |                          |"
   ]
  },
  {
   "cell_type": "markdown",
   "metadata": {},
   "source": [
    "## Metals"
   ]
  },
  {
   "cell_type": "markdown",
   "metadata": {},
   "source": [
    "| No. | Description                   | Hatch                           | Scale |              |              |              |              |              |Remarks       |\n",
    "| --- | -----------------------       | -----                           | ----- | -----        | ----         | ----         | ----         | ----         | ---          |\n",
    "|     |                               |                                 | 1:100 |1:50          |1:20          |1:10          |1:5           |1:1           |              | \n",
    "| 18  | Steel                         |![Steel](Images/Steel1.png)| ![black_circle](Images/black_circle.png) |  ![black_circle](Images/black_circle.png) | ![black_circle](Images/black_circle.png) | ![black_circle](Images/black_circle.png) | ![black_circle](Images/black_circle.png) | ![black_circle](Images/black_circle.png) |                          |\n",
    "| 18  |                         |![Steel](Images/Steel2.png)|  | | | | ![black_circle](Images/black_circle.png) | ![black_circle](Images/black_circle.png) |                          |\n",
    "| 19  | Aluminium, brass, copper etc. | ![Aluminium](Images/Aluminium.png)|       |       |      |        |       |       |                          |\n",
    "| 20  | Lead                          |![Lead](Images/Lead.png)|       |       |      |        |       |       |                          |\n",
    "| 21  | Zinc                          |![Zinc](Images/Zinc.png)|       |       |      |        |       |       |                          |"
   ]
  },
  {
   "cell_type": "markdown",
   "metadata": {},
   "source": [
    "## Miscellaneous"
   ]
  },
  {
   "cell_type": "markdown",
   "metadata": {},
   "source": [
    "| No. | Description    | Hatch                                 | Scale |       |      |              |              |              |Remarks       |\n",
    "| --- | -------------- | -----                                 | ----- | ----- | ---- | ----         | ----         | ----         | ---          |\n",
    "|     |                |                                       | 1:100 |1:50   |1:20  |1:10          |1:5           |1:1           |              | \n",
    "| 22  | Synthetics     | ![Synthetics](Images/Synthetics.png)   |       |       |      |        | ![grey_circle](Images/grey_circle.png) | ![grey_circle](Images/grey_circle.png)  |                          |\n",
    "| 23  | Sealant        | ![Sealant](Images/Sealant.png)      |       |       |      |        |![grey_circle](Images/grey_circle.png) | ![grey_circle](Images/grey_circle.png) |                          |\n",
    "| 24  | Foil, bitumen  | ![Foil](Images/Foil.png)         |       |       |      |        | ![grey_circle](Images/grey_circle.png) | ![grey_circle](Images/grey_circle.png) |                          |\n",
    "| 25  | Ground level   | ![Ground_Level](Images/Ground_Level.png) | ![black_circle](Images/black_circle.png) |  ![black_circle](Images/black_circle.png) | ![black_circle](Images/black_circle.png) | ![black_circle](Images/black_circle.png) | ![black_circle](Images/black_circle.png) | ![black_circle](Images/black_circle.png) |                          |\n",
    "| 26  | Sand           | ![Sand](Images/Sand.png)         | ![black_circle](Images/black_circle.png) |  ![black_circle](Images/black_circle.png) | ![black_circle](Images/black_circle.png) | ![black_circle](Images/black_circle.png) | ![black_circle](Images/black_circle.png) | ![black_circle](Images/black_circle.png)|                          |\n",
    "| 27  | Gravel         | ![Gravel](Images/Gravel.png)      | ![black_circle](Images/black_circle.png) |  ![black_circle](Images/black_circle.png) | ![black_circle](Images/black_circle.png) | ![black_circle](Images/black_circle.png) | ![black_circle](Images/black_circle.png) | ![black_circle](Images/black_circle.png) |                          |\n",
    "| 28  | Water          | ![Water](Images/Water.png)     | ![black_circle](Images/black_circle.png) |  ![black_circle](Images/black_circle.png) | ![black_circle](Images/black_circle.png) | ![black_circle](Images/black_circle.png) | ![black_circle](Images/black_circle.png) | ![black_circle](Images/black_circle.png) |                          |\n",
    "| 29  | Glass          | ![Glass](Images/Glass.png)      |       |       |      | ![grey_circle](Images/grey_circle.png) | ![grey_circle](Images/grey_circle.png) | ![grey_circle](Images/grey_circle.png) |                          |"
   ]
  },
  {
   "cell_type": "markdown",
   "metadata": {},
   "source": []
  }
 ],
 "metadata": {
  "kernelspec": {
   "display_name": "Python 3",
   "language": "python",
   "name": "python3"
  },
  "language_info": {
   "codemirror_mode": {
    "name": "ipython",
    "version": 3
   },
   "file_extension": ".py",
   "mimetype": "text/x-python",
   "name": "python",
   "nbconvert_exporter": "python",
   "pygments_lexer": "ipython3",
   "version": "3.8.0"
  },
  "widgets": {
   "application/vnd.jupyter.widget-state+json": {
    "state": {},
    "version_major": 2,
    "version_minor": 0
   }
  }
 },
 "nbformat": 4,
 "nbformat_minor": 4
}
