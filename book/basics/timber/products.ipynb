{
 "cells": [
  {
   "cell_type": "markdown",
   "metadata": {},
   "source": [
    "# Products\n",
    "\n",
    "## Roundwood (debarked stems or milled cylindrical)\n",
    "\n",
    "```{figure} Images/roundwood.png\n",
    "---\n",
    "---\n",
    "Roundwood\n",
    "```\n",
    "\n",
    "```{figure} Images/stems_efteling.png\n",
    "---\n",
    "align: left\n",
    "---\n",
    "Stems used in the construction of the  \n",
    "entrance of theme park the ‘Efteling’ in Kaatsheuvel.\n",
    "```\n",
    "```{figure} Images/roof_efteling.png\n",
    "---\n",
    "align: right\n",
    "---\n",
    "The roof of the entrance of the  \n",
    "‘Efteling’ consists almost entirely of roundwood.\n",
    "```\n",
    "<br>\n",
    "\n",
    "Applications: Roundwood is used for a wide range of structures such as bridges, towers, buildings and foundation piles. In modern architecture roundwood can for example be found in the columns of the MVRDV expo building [^1].\n",
    "\n",
    "## Solid wood (sawn sections)\n",
    "```{figure} Images/solidwood.png\n",
    "---\n",
    "---\n",
    "Solid wood\n",
    "```\n",
    "Applications: Solid wood can be used for small structures, roofs, purlins, floors (both beams and purlins), and trusses [^2].\n",
    "\n",
    "## Glue laminated timber\n",
    "\n",
    "```{figure} Images/gluelaminated_timber.png\n",
    "---\n",
    "---\n",
    "From left to right: horizontally laminated, vertically laminated, finger joint.\n",
    "```\n",
    "\n",
    "```{figure} Images/pedestrian_bridge.png\n",
    "---\n",
    "align: left\n",
    "---\n",
    "Pedestrian bridge made from straight and curved glued  \n",
    "laminated timber.\n",
    "```\n",
    "```{figure} Images/roof_beams.png\n",
    "---\n",
    "align: right\n",
    "---\n",
    "Roof beams made of glued  \n",
    "laminated timber.\n",
    "```\n",
    "Applications: Glued laminated timber is used frequently because of the many possible shapes and lengths. However, the length of elements can be restricted by transport. Large spans, three hinged frames, trusses, arches and frames are also possible with glued laminated timber [^3][^4]. "
   ]
  },
  {
   "cell_type": "markdown",
   "metadata": {},
   "source": [
    "[^1]: [Centrum Hout](https://www.centrumhout.nl/) buildings, bridges, other structures, photos, ideas.\n",
    "[^2]: Holzbau Atlas, J. Natterer, T. Herzog, M. Volz: buildings, photos, drawings, connections.\n",
    "[^3]: STEP 1, 2 Timber Engineering, Centrum Hout: calculation methods for timber structures.\n",
    "[^4]: Timber Construction Manual, Brikhäuser: examples of timber structres and connections."
   ]
  }
 ],
 "metadata": {
  "kernelspec": {
   "display_name": "Python 3",
   "language": "python",
   "name": "python3"
  },
  "language_info": {
   "codemirror_mode": {
    "name": "ipython",
    "version": 3
   },
   "file_extension": ".py",
   "mimetype": "text/x-python",
   "name": "python",
   "nbconvert_exporter": "python",
   "pygments_lexer": "ipython3",
   "version": "3.8.0"
  },
  "widgets": {
   "application/vnd.jupyter.widget-state+json": {
    "state": {},
    "version_major": 2,
    "version_minor": 0
   }
  }
 },
 "nbformat": 4,
 "nbformat_minor": 4
}
