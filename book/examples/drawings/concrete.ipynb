{
 "cells": [
  {
   "cell_type": "markdown",
   "metadata": {},
   "source": [
    "# Concrete\n",
    "\n",
    "This section provides drawings of the Octatube case study building in concrete.\n",
    "\n",
    "```{figure} Images/beton1.jpg\n",
    "---\n",
    "---\n",
    "Constructive design case study Octatube building in concrete.\n",
    "```\n",
    "\n",
    "```{figure} Images/AXO_Beton-01.jpg\n",
    "---\n",
    "---\n",
    "Axonometry of the Octatube building in concrete.\n",
    "```\n",
    "\n",
    "```{figure} Images/beton2.jpg\n",
    "---\n",
    "---\n",
    "Section 1 in concrete.\n",
    "```\n",
    "\n",
    "```{figure} Images/beton3.jpg\n",
    "---\n",
    "---\n",
    "Section 2 in concrete.\n",
    "```\n",
    "\n",
    "```{figure} Images/beton4.jpg\n",
    "---\n",
    "---\n",
    "Section 3 in concrete.\n",
    "```\n",
    "\n",
    "```{figure} Images/beton5.jpg\n",
    "---\n",
    "---\n",
    "Section 4 in concrete.\n",
    "```\n",
    "\n",
    "```{figure} Images/beton6.jpg\n",
    "---\n",
    "---\n",
    "Section 5 in concrete.\n",
    "```"
   ]
  }
 ],
 "metadata": {
  "kernelspec": {
   "display_name": "geospatial",
   "language": "python",
   "name": "geospatial"
  },
  "language_info": {
   "codemirror_mode": {
    "name": "ipython",
    "version": 3
   },
   "file_extension": ".py",
   "mimetype": "text/x-python",
   "name": "python",
   "nbconvert_exporter": "python",
   "pygments_lexer": "ipython3",
   "version": "3.9.13"
  }
 },
 "nbformat": 4,
 "nbformat_minor": 2
}
