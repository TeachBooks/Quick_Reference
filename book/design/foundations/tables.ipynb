{
 "cells": [
  {
   "cell_type": "markdown",
   "metadata": {},
   "source": [
    "# Tables\n",
    "\n",
    "## Available lengths\n",
    "```{figure} Images/available_lengths_table.png\n",
    "---\n",
    "---\n",
    "```\n",
    "\n",
    "## Indication design value of maximum bearing capacity\n",
    "```{figure} Images/bearing_capacity_table.png\n",
    "---\n",
    "---\n",
    "```\n",
    "\n",
    "```{warning}\n",
    "Indication of the design value of the maximum bearing capacity based on the pile cross section. Note that local soil conditions always need to be taken into account to accurately calculate the maximum bearing capacity. Most information is taken from Vroom [^1] and Walinco [^2].\n",
    "```\n",
    "\n"
   ]
  },
  {
   "cell_type": "markdown",
   "metadata": {},
   "source": [
    "[^1]: [vroom.nl](https://vroom.nl/en/products/cast-in-situ-piles/): detailed information on: Prefab piles, Wood piles, Steel pipe piles, Vibro-piles, Vibro-combi-piles, Concrete screw piles, DPA piles, and Tubular screw piles.\n",
    "[^2]: [walinco.nl](https://www.walinco.nl/): special foundation methods with clear explanation, photos and videos. "
   ]
  }
 ],
 "metadata": {
  "kernelspec": {
   "display_name": "Python 3",
   "language": "python",
   "name": "python3"
  },
  "language_info": {
   "codemirror_mode": {
    "name": "ipython",
    "version": 3
   },
   "file_extension": ".py",
   "mimetype": "text/x-python",
   "name": "python",
   "nbconvert_exporter": "python",
   "pygments_lexer": "ipython3",
   "version": "3.8.0"
  },
  "widgets": {
   "application/vnd.jupyter.widget-state+json": {
    "state": {},
    "version_major": 2,
    "version_minor": 0
   }
  }
 },
 "nbformat": 4,
 "nbformat_minor": 4
}
