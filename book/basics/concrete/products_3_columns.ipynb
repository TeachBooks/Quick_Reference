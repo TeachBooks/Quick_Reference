{
 "cells": [
  {
   "cell_type": "markdown",
   "metadata": {},
   "source": [
    "# Products 3: columns\n",
    "\n",
    "## Prefab columns\n",
    "\n",
    "Prefab columns, beams are placed on corbels with neoprene bearing pads.\n",
    "\n",
    "Applications: Part of prefab structural systems. Possible for buildings from 0 to 2 storeys. The prefab columns are usually combined with (prestressed) beams and for example hollow core slabs or precast composite planks.\n",
    "\n",
    "```{figure} Images/product3_columns_prefab_columns.png\n",
    "---\n",
    "---\n",
    "Prefab columns\n",
    "```\n",
    "\n",
    "## Cast in situ columns\n",
    "\n",
    "Round and square cast in situ concrete columns.\n",
    "\n",
    "Applications: Nowadays round cardboard formworks are less expensive because excessive carpentry is avoided. Reusable formworks (square or round) are also used.\n",
    "\n",
    "```{figure} Images/product3_columns_cast_in_situ_columns.png\n",
    "---\n",
    "---\n",
    "Cast in situ columns\n",
    "```\n"
   ]
  },
  {
   "cell_type": "markdown",
   "metadata": {},
   "source": []
  }
 ],
 "metadata": {
  "kernelspec": {
   "display_name": "Python 3",
   "language": "python",
   "name": "python3"
  },
  "language_info": {
   "codemirror_mode": {
    "name": "ipython",
    "version": 3
   },
   "file_extension": ".py",
   "mimetype": "text/x-python",
   "name": "python",
   "nbconvert_exporter": "python",
   "pygments_lexer": "ipython3",
   "version": "3.8.0"
  },
  "widgets": {
   "application/vnd.jupyter.widget-state+json": {
    "state": {},
    "version_major": 2,
    "version_minor": 0
   }
  }
 },
 "nbformat": 4,
 "nbformat_minor": 4
}
