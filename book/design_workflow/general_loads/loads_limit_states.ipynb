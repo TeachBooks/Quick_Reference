{
 "cells": [
  {
   "cell_type": "markdown",
   "metadata": {},
   "source": [
    "# Loads and limit states"
   ]
  },
  {
   "cell_type": "markdown",
   "metadata": {},
   "source": [
    "## Limits\n",
    "Every structure has to comply with two possible limit states which are directly\n",
    "related to the reliablity (strength) and usability of the structure. The Ultimate\n",
    "Limit State (ULS) is used to check structural safety. The Serviceability\n",
    "Limit State (SLS) is used to check usability."
   ]
  },
  {
   "cell_type": "markdown",
   "metadata": {},
   "source": [
    "## Load combinations\n",
    "Load combinations consist of a combination of design values of\n",
    "the permanent and variable loads. Both characteristic and reduced\n",
    "characteristic loads are combined for the ULS or SLS. The determination\n",
    "of the critical combination of actions is left to the structural engineer.\n",
    "Important here is to keep in mind what kind of element you are designing: a\n",
    "beam, foundation, column or stability measures.\n",
    "\n",
    "Building structures and parts of building structures or their supports\n",
    "and connections must be sufficiently reliable during their service life. They\n",
    "must withstand the most unfavourable combination of loads that can act\n",
    "simultaneously. Exceptions:\n",
    "\n",
    "- The extreme value of a variable load does not have to be combined with the\n",
    "extreme value of other variable loads.\n",
    "- An accidental load does not have to be combined with the extreme value of\n",
    "other accidental loads or extreme variable loads.\n",
    "- For certain cases is its phyisically not possible for two loads to simultaneously\n",
    "act in their extreme or zero value in the same load combination. (e.g. snow and\n",
    "wind loads).\n",
    "\n",
    "A few basic rules according to the Eurocode (EN 1990) will be explained below."
   ]
  },
  {
   "cell_type": "markdown",
   "metadata": {},
   "source": [
    "## Ultimate Limite State (ULS)\n",
    "$γ_G G_k + γ_{Q;1} Q_{1;k} + Σ(γ_{Q;i} Ψ_{0;i} Q_{i;k})$\n",
    "\n",
    "$γ_G$ = partial factor for permanent loads  \n",
    "$G_k$ = total permanent load  \n",
    "$γ_{Q;i}$ = partial factor for variable loads  \n",
    "$Q_{1;lk}$ = characteristic value of the leading variable load  \n",
    "$Ψ_{0;i}$ = factor for combination of variable load i with the leading variable load  \n",
    "$Q_{i;k}$ = characteristic value of variable load i  \n",
    "\n",
    "```{note}\n",
    "For a more complete explanation see: NEN-EN 1990.\n",
    "```"
   ]
  },
  {
   "cell_type": "markdown",
   "metadata": {},
   "source": [
    "## Ultimate limit state: load factors ($γ$)\n",
    "\n",
    "| Design Situation | Permanent Loads | Variable Loads | Unfavourable | Favourable | Leading | Other |\n",
    "|------------------|-----------------|----------------|--------------|------------|---------|-------|\n",
    "| 1                | 1.35            | 0.9            | -            | 1.5        | -       | -     |\n",
    "| 2                | 1.2             | 0.9            | 1.5          | 1.5        | -       | -     |  \n",
    "  \n",
    "```{note}\n",
    "A favourable load can for example be the dead load of a roof in combination with uplift forces due to wind.\n",
    "```"
   ]
  },
  {
   "cell_type": "markdown",
   "metadata": {},
   "source": [
    "## Consequence classes\n",
    "\n",
    "| Concequence Class | Description                                              | Examples                                                  | KFI |\n",
    "|-------------------|----------------------------------------------------------|-----------------------------------------------------------|-----|\n",
    "| CC1               | Low consequence for loss of human life, and economic, social or environmental consequences small or negligible | Agricultural buildings where people do not normally enter (e.g. storage buildings), greenhouses | 0.9 |\n",
    "| CC2               | Medium consequence for loss of human life, economic, social or environmental consequences considerable | Residential and office buildings, public buildings where consequences of failure are medium (e.g. an office building) | 1.0 |\n",
    "| CC3               | High consequence for loss of human life, or economic, social or environmental consequences very great | Grandstands, public buildings where consequences of failure are high (e.g. a concert hall) | 1.1 |\n",
    "\n",
    "```{note}\n",
    "To take the concequence class into account, the applicable load factors ($γ_G$ & $γ_{Q;1}$) have to be multiplied by $K_{FI}$\n",
    "```"
   ]
  },
  {
   "cell_type": "markdown",
   "metadata": {},
   "source": [
    "## Load categories with corresponding $Ψ$ factors for buildings\n",
    "\n",
    "| Action Category (General Loads) | Example                                                   | Ψ0  | Ψ1  | Ψ2  |\n",
    "|----------------------------------|-----------------------------------------------------------|-----|-----|-----|\n",
    "| Category A: Domestic, Residential Areas | -                                                       | 0.4 | 0.5 | 0.3 |\n",
    "| Category B: Office Areas          | -                                                           | 0.5 | 0.5 | 0.3 |\n",
    "| Category C: Congregation Areas    | C1: Areas with tables (school, restaurants)               | 0.25| 0.7 | 0.6 |\n",
    "|                                   | C2: Areas with fixed seats (theatres, churches, lecture halls) | - | - | - |\n",
    "|                                   | C3: Areas without obstacles for people (museums, hospitals) | - | - | - |\n",
    "|                                   | C4: Areas with physical activities (dance halls, gymnastic rooms) | - | - | - |\n",
    "|                                   | C5: Areas susceptible to large crowds (stadiums, terraces, railway platforms) | - | - | - |\n",
    "| Category D: Shopping Areas       | D1: General retail                                        | 0.4 | 0.7 | 0.6 |\n",
    "|                                   | D2: Department stores                                     | - | - | - |\n",
    "| Category E: Storage Areas        | E1: Areas susceptible to accumulation of goods            | 1.0 | 0.9 | 0.8 |\n",
    "|                                   | E2: Industrial use                                        | - | - | - |\n",
    "| Category F: Traffic Area, Vehicle Weight ≤ 30 kN | -                                           | 0.7 | 0.7 | 0.6 |\n",
    "| Category G: Traffic Area, 30 kN ≤ Vehicle Weight ≤ 160 kN | -                                     | 0.7 | 0.5 | 0.3 |\n",
    "| Category H: Roofs                | -                                                           | 0   | 0   | 0   |\n",
    "\n",
    "&nbsp;\n",
    "  \n",
    "| Other Actions (Environmental Actions) | Example                                        | Ψ0  | Ψ1  | Ψ2  |\n",
    "|----------------------------------------|------------------------------------------------|-----|-----|-----|\n",
    "| Snow Loads on Buildings                | -                                              | 0   | 0.2 | 0   |\n",
    "| Wind Loads on Buildings                | -                                              | 0   | 0.2 | 0   |\n",
    "| Temperature on Buildings (non-fire)   | -                                              | 0   | 0.5 | 0   |\n",
    "\n",
    "&nbsp;\n",
    "  \n",
    "$Ψ_0$ = factor for combination value of a variable action  \n",
    "$Ψ_1$ = factor for frequent value of a variable action (for example used in combination with accidental loading)  \n",
    "$Ψ_2$ = factor for quasi-permanent value of a variable action (for example used in creep calculations)  \n"
   ]
  }
 ],
 "metadata": {
  "kernelspec": {
   "display_name": "Python 3",
   "language": "python",
   "name": "python3"
  },
  "language_info": {
   "codemirror_mode": {
    "name": "ipython",
    "version": 3
   },
   "file_extension": ".py",
   "mimetype": "text/x-python",
   "name": "python",
   "nbconvert_exporter": "python",
   "pygments_lexer": "ipython3",
   "version": "3.8.0"
  },
  "widgets": {
   "application/vnd.jupyter.widget-state+json": {
    "state": {},
    "version_major": 2,
    "version_minor": 0
   }
  }
 },
 "nbformat": 4,
 "nbformat_minor": 4
}
