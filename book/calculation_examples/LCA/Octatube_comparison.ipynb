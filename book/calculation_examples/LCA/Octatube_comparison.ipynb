{
 "cells": [
  {
   "cell_type": "markdown",
   "metadata": {},
   "source": [
    "# Simplified LCA tool: Octatube comparison\n",
    "\n",
    "The Octabube building is reviewed in this chapter. Three different versions of the Octatube are present, made out of concrete, steel and timber. The LCA is especially a powerful tool to compare different versions of a building regarding sustainability. The inputs and results of this calculation are done in the following file: [LCA calculation Octatube](../LCA/LCA_calculation_Octatube.xlsx). Note that an explanation on how this Excel sheet works is given on the previous page."
   ]
  },
  {
   "cell_type": "markdown",
   "metadata": {},
   "source": []
  }
 ],
 "metadata": {
  "language_info": {
   "name": "python"
  }
 },
 "nbformat": 4,
 "nbformat_minor": 2
}
