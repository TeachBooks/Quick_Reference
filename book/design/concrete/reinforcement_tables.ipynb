{
 "cells": [
  {
   "cell_type": "markdown",
   "metadata": {},
   "source": [
    "# Reinforcement tables\n",
    "\n",
    "Below, different reinforcement tables are presented. Each table represents a different type of structure. For an ellaborate calculation of the Moment - Normal force interaction diagram, please visit [Moment normal force interaction](content:design:concrete:moment_normalforce_interaction)."
   ]
  },
  {
   "cell_type": "markdown",
   "metadata": {},
   "source": [
    "## Reinforcement table for bending moments\n",
    "```{figure} Images/Reinforcement_Table1.jpg\n",
    "```\n",
    "\n",
    "```{note}\n",
    "- Strength class: From C20/25 to C45/55.\n",
    "- Reinforcement steel: 500. indicates the reinforcement steel type.\n",
    "- a/h: 0,10. Where a is the distance from center of reinforcement to edge of concrete.\n",
    "\n",
    "This table is taken from GTB 2010.\n",
    "```\n",
    "\n",
    "```{figure} Images/Reinforcement_Table2.jpg\n",
    "```    \n",
    "\n",
    "```{note}\n",
    "- Strength Class: C55/67.  \n",
    "- Reinforcement steel: 500. indicates the reinforcement steel type.\n",
    "- a/h: 0,10. Where a is the distance from center of reinforcement to edge of concrete.\n",
    "\n",
    "This table is taken from GTB 2010.\n",
    "```\n",
    "\n",
    "```{figure} Images/Reinforcement_Table3.jpg\n",
    "```\n",
    "\n",
    "```{note}\n",
    "- Strength Class: Represents C20/25 till C45/55.  \n",
    "- Reinforcement steel: 500. indicates the reinforcement steel type.\n",
    "- a/h: 0,10. Where a is the distance from center of reinforcement to edge of concrete.\n",
    "\n",
    "This table is taken from GTB 2010.\n",
    "```\n",
    "\n",
    "```{figure} Images/Reinforcement_Table4.jpg\n",
    "```    \n",
    "\n",
    "```{note}\n",
    "- Strength Class: Represents C20/25 till C45/55.  \n",
    "- Reinforcement steel: 500. indicates the reinforcement steel type.\n",
    "- a/h: 0,10. Where a is the distance from center of reinforcement to edge of concrete.\n",
    "\n",
    "This table is taken from GTB 2010.\n",
    "```\n",
    "\n",
    "```{figure} Images/Reinforcement_BendingMoment.jpg\n",
    "```    \n",
    "\n",
    "```{note}\n",
    "Slabs need to be dimensioned for shear and deflection first. Then the reinforcement ratio can be determined.\n",
    "```"
   ]
  }
 ],
 "metadata": {
  "kernelspec": {
   "display_name": "Python 3",
   "language": "python",
   "name": "python3"
  },
  "language_info": {
   "codemirror_mode": {
    "name": "ipython",
    "version": 3
   },
   "file_extension": ".py",
   "mimetype": "text/x-python",
   "name": "python",
   "nbconvert_exporter": "python",
   "pygments_lexer": "ipython3",
   "version": "3.8.0"
  },
  "widgets": {
   "application/vnd.jupyter.widget-state+json": {
    "state": {},
    "version_major": 2,
    "version_minor": 0
   }
  }
 },
 "nbformat": 4,
 "nbformat_minor": 4
}
