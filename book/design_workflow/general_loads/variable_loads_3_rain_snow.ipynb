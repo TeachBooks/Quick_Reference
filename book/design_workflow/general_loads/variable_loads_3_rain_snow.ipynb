{
 "cells": [
  {
   "cell_type": "markdown",
   "metadata": {},
   "source": [
    "# Variable loads 3: rain and snow"
   ]
  },
  {
   "cell_type": "markdown",
   "metadata": {},
   "source": [
    "## Loading by rainwater\n",
    "Loads by rainwater are the result of accumulating water due to for example\n",
    "hogging of adjacent roof parts or clogging of the drainage systems.\n",
    "The most practical way of dealing with these actions is converting the snow\n",
    "load to a layer of water (e.g.: $0,56 kN/m^2$ equals 56 mm water on the roof)\n",
    "and preventing the water from rising above this amount by designing for\n",
    "emergency overflow. Furthermore, always design a roof with a small pitch (general loads, general)\n",
    "\n",
    "```{figure} Images/Emergency_Overflow.jpg\n",
    "---\n",
    "scale: 50%\n",
    "---\n",
    "Emergency overflow by means of a so called \"mailbox\".\n",
    "```\n",
    "\n",
    "```{figure} Images/Emergency_Overflow2.jpg\n",
    "---\n",
    "scale: 30%\n",
    "---\n",
    "Emergency overflow by means of locally lowered parapet.\n",
    "```"
   ]
  },
  {
   "cell_type": "markdown",
   "metadata": {},
   "source": [
    "## Snow loads\n",
    "Snow can cause considerable loads, as it doesn’t run off like rain. It is therefore important to check whether a load combination containing snow\n",
    "loads is leading. For different parts of Europe the value of the snow load can differ greatly (e.g.: compare the Mediterranean Coast to the Alps). In\n",
    "the Dutch National Annex of NEN-EN 1991-1-3 the complex calculations are substituted by one value for the whole country ($s_k = 0,7 kN/m^2$). For other areas NEN-EN 1991-1-3 must be consulted."
   ]
  },
  {
   "cell_type": "markdown",
   "metadata": {},
   "source": [
    "## Determining the snow loading\n",
    "\n",
    "$$\n",
    "s = μ_i · C_e · C_t · s_k\n",
    "$$\n",
    "  \n",
    "$s$ = Characteristic value of the snow load on the ground [$kN/m^2$] ($0,7 kN/m^2$ in\n",
    "the Netherlands)  \n",
    "$μ_i$ = Shape coefficient, dependend on roof angle α  \n",
    "$C_e$ = Exposure coefficient (1,0 for most cases)  \n",
    "$C_t$ = Thermal coefficient (1,0 for most cases)  \n",
    "  \n",
    "The shape coefficient can be determined with the shown diagram. Note that μ2 is only applicable where snow accumulation can occur. For complex roof shapes and more information, see NEN-EN 1991-1-3.\n",
    "\n",
    "```{figure} Images/Snow_Loading.jpg\n",
    "---\n",
    "scale: 50%\n",
    "---\n",
    "Determining the $\\mu$ factor for snow loading.\n",
    "```"
   ]
  },
  {
   "cell_type": "markdown",
   "metadata": {},
   "source": []
  }
 ],
 "metadata": {
  "kernelspec": {
   "display_name": "Python 3",
   "language": "python",
   "name": "python3"
  },
  "language_info": {
   "codemirror_mode": {
    "name": "ipython",
    "version": 3
   },
   "file_extension": ".py",
   "mimetype": "text/x-python",
   "name": "python",
   "nbconvert_exporter": "python",
   "pygments_lexer": "ipython3",
   "version": "3.8.0"
  },
  "widgets": {
   "application/vnd.jupyter.widget-state+json": {
    "state": {},
    "version_major": 2,
    "version_minor": 0
   }
  }
 },
 "nbformat": 4,
 "nbformat_minor": 4
}
