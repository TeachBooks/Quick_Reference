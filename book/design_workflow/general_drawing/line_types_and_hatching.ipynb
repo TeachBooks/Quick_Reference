{
 "cells": [
  {
   "cell_type": "markdown",
   "metadata": {},
   "source": [
    "# Line types \n",
    "| Line Type                                          | Description          |\n",
    "|----------------------------------------------------|----------------------|\n",
    "| <img src=\"Images/LijnsoortenVDM_Tekengebied_1.png\" alt=\"Getrokken lijn\" class=\"bg-primary\" width=\"200px\"> | Continuous Line      |\n",
    "| <img src=\"Images/LijnsoortenVDM_Tekengebied_2.png\" alt=\"Dashed lijn\" class=\"bg-primary\" width=\"200px\"> | Dashed Line          |\n",
    "| <img src=\"Images/LijnsoortenVDM_Tekengebied_3.png\" alt=\"Mixed lijn\" class=\"bg-primary\" width=\"200px\"> | Mixed Dashed Line    |\n",
    "| <img src=\"Images/LijnsoortenVDM_Tekengebied_4.png\" alt=\"Dotted lijn\" class=\"bg-primary\" width=\"200px\"> | Dotted Line          |\n",
    "\n",
    "\n",
    "# Cross section indications\n",
    "\n",
    "For each material, a different hatch is used. Furthermore, the type of hatch can differ as the scale of the drawing\n",
    "changes. This is done to make sure that at higher scales the hatches are not too complicated, as the areas to\n",
    "hatch on the drawing decrease rapidly with increasing scale. \n",
    "\n",
    "````{Note}\n",
    "In the tables below two markings appear:\n",
    "```{figure} Images/black_circle.png\n",
    "---\n",
    "align: left\n",
    "scale: 100%\n",
    "---\n",
    "Scale at which the hatch needs to be used\n",
    "```\n",
    "```{figure} Images/grey_circle.png\n",
    "---\n",
    "align: right\n",
    "scale: 100%\n",
    "---\n",
    "Scale at which the hatch needs  \n",
    " to be used with the material added in text\n",
    "```\n",
    "The tables are based on the Dutch code NEN 47.\n",
    "````\n",
    "  \n",
    "\n",
    "## Stone-like materials\n",
    "\n",
    "| No. | Description                           | Hatch                                           | Scale        |              |              |              |              |              |Remarks       |\n",
    "| --- | -----------------------               | -----                                           | -----        | -----        | ----         | ----         | ----         | ----         | ---          |\n",
    "|     |                                       |                                                 | 1:100        |1:50          |1:20          |1:10          |1:5           |1:1           |              | \n",
    "| 1   | Brick masonry                         | <img src=\"Images/Brick1.png\" alt=\"Getrokken lijn\" class=\"bg-primary\" width=\"100px\"> | ![black_circle](Images/black_circle.png) | ![black_circle](Images/black_circle.png) |              |              |              |              |              |\n",
    "|     |                                       | <img src=\"Images/Brick2.png\" alt=\"Getrokken lijn\" class=\"bg-primary\" width=\"100px\"> |              | ![black_circle](Images/black_circle.png) | ![black_circle](Images/black_circle.png) | ![black_circle](Images/black_circle.png) | ![black_circle](Images/black_circle.png) | ![black_circle](Images/black_circle.png) |              |\n",
    "|     |                                       | <img src=\"Images/Brick3.png\" alt=\"Getrokken lijn\" class=\"bg-primary\" width=\"100px\">                |              | ![black_circle](Images/black_circle.png) | ![black_circle](Images/black_circle.png) | ![black_circle](Images/black_circle.png) | ![black_circle](Images/black_circle.png) | ![black_circle](Images/black_circle.png) |              |\n",
    "| 2   | Stone-like materials                  | <img src=\"Images/Stone_Like.png\" alt=\"Getrokken lijn\" class=\"bg-primary\" width=\"100px\"> | ![grey_circle](Images/grey_circle.png) | ![grey_circle](Images/grey_circle.png) | ![grey_circle](Images/grey_circle.png) | ![grey_circle](Images/grey_circle.png) | ![grey_circle](Images/grey_circle.png) | ![grey_circle](Images/grey_circle.png) |e.g. fireproof material, roof tiles |\n",
    "| 3   | Non-brick masonry                     | <img src=\"Images/Non_Brick.png\" alt=\"Getrokken lijn\" class=\"bg-primary\" width=\"100px\"> | ![grey_circle](Images/grey_circle.png) | ![grey_circle](Images/grey_circle.png) | ![grey_circle](Images/grey_circle.png) | ![grey_circle](Images/grey_circle.png) | ![grey_circle](Images/grey_circle.png) | ![grey_circle](Images/grey_circle.png) |e.g. concrete masonry units    |\n",
    "| 4   | Non load carrying division walls      | <img src=\"Images/Non_Load1.png\" alt=\"Getrokken lijn\" class=\"bg-primary\" width=\"100px\">               | ![black_circle](Images/black_circle.png)  | ![black_circle](Images/black_circle.png) |      |        |       |       |                          |\n",
    "|     |                                       | <img src=\"Images/Non_Load2.png\" alt=\"Getrokken lijn\" class=\"bg-primary\" width=\"100px\">             |              |       | ![black_circle](Images/black_circle.png) | ![black_circle](Images/black_circle.png) |       |       |                          |\n",
    "|     |                                       | <img src=\"Images/Non_Load3.png\" alt=\"Getrokken lijn\" class=\"bg-primary\" width=\"100px\">             |              |       |      |        | ![grey_circle](Images/grey_circle.png) | ![grey_circle](Images/grey_circle.png) |                          |\n",
    "| 5   | Reinforced concrete (cast in situ)    |<img src=\"Images/Reinforced_Concrete1.png\" alt=\"Getrokken lijn\" class=\"bg-primary\" width=\"100px\">  | ![black_circle](Images/black_circle.png) | ![black_circle](Images/black_circle.png) |      |        |       |       |                          |\n",
    "|     |                                       | <img src=\"Images/Reinforced_Concrete2.png\" alt=\"Getrokken lijn\" class=\"bg-primary\" width=\"100px\">  | | ![black_circle](Images/black_circle.png) | ![black_circle](Images/black_circle.png) | ![black_circle](Images/black_circle.png) | ![black_circle](Images/black_circle.png) | ![black_circle](Images/black_circle.png) | |\n",
    "| 6   | Reinforced concrete (precast)         | <img src=\"Images/Reinforced_Concrete_Precast.png\" alt=\"Getrokken lijn\" class=\"bg-primary\" width=\"100px\"> | ![black_circle](Images/black_circle.png) |  ![black_circle](Images/black_circle.png) | ![black_circle](Images/black_circle.png) | ![black_circle](Images/black_circle.png) | ![black_circle](Images/black_circle.png) | ![black_circle](Images/black_circle.png)|                          |\n",
    "| 7   | Plain concrete                        | <img src=\"Images/Plain_Concrete.png\" alt=\"Getrokken lijn\" class=\"bg-primary\" width=\"100px\"> | ![grey_circle](Images/grey_circle.png) | ![grey_circle](Images/grey_circle.png) | ![grey_circle](Images/grey_circle.png) | ![grey_circle](Images/grey_circle.png) | ![grey_circle](Images/grey_circle.png) | ![grey_circle](Images/grey_circle.png) |e.g. lightweight concrete |\n",
    "| 8   | Decorative concrete                   | <img src=\"Images/Decorative_Concrete.png\" alt=\"Getrokken lijn\" class=\"bg-primary\" width=\"100px\">    | ![black_circle](Images/black_circle.png) |  ![black_circle](Images/black_circle.png) | ![black_circle](Images/black_circle.png) | ![black_circle](Images/black_circle.png) | ![black_circle](Images/black_circle.png) | ![black_circle](Images/black_circle.png) |                          |\n",
    "| 9   | Natural stone                         | <img src=\"Images/Natural_Stone.png\" alt=\"Getrokken lijn\" class=\"bg-primary\" width=\"100px\">  | ![black_circle](Images/black_circle.png) |  ![black_circle](Images/black_circle.png) | ![black_circle](Images/black_circle.png) | ![black_circle](Images/black_circle.png) | ![black_circle](Images/black_circle.png) | ![black_circle](Images/black_circle.png)|       |                          |\n",
    "| 10  | Single floor/wall finishing           | <img src=\"Images/Single_Floor_Wall.png\" alt=\"Getrokken lijn\" class=\"bg-primary\" width=\"100px\">    |       |       |      |        | ![grey_circle](Images/grey_circle.png) | ![grey_circle](Images/grey_circle.png)    | e.g. plaster     |\n",
    "| 11  | Composite floor/wall finishing        | <img src=\"Images/Composite.png\" alt=\"Getrokken lijn\" class=\"bg-primary\" width=\"100px\">              |       |       | ![grey_circle](Images/grey_circle.png) | ![grey_circle](Images/grey_circle.png) | ![grey_circle](Images/grey_circle.png) | ![grey_circle](Images/grey_circle.png)    |                          |\n"
   ]
  },
  {
   "cell_type": "markdown",
   "metadata": {},
   "source": [
    "## Timber materials"
   ]
  },
  {
   "cell_type": "markdown",
   "metadata": {},
   "source": [
    "|No.| Description                        | Hatch                                | Scale        |              |              |              |              |              |Remarks       |\n",
    "|---| -----------------------            | -----                                | -----        | -----        | ----         | ----         | ----         | ----         | ---          |\n",
    "|   |                                    |                                      | 1:100        |1:50          |1:20          |1:10          |1:5           |1:1           |              | \n",
    "|12 | Softwood                           | <img src=\"Images/Softwood.png\" alt=\"Getrokken lijn\" class=\"bg-primary\" width=\"100px\">     |       |       | ![black_circle](Images/black_circle.png) |  ![black_circle](Images/black_circle.png) | ![black_circle](Images/black_circle.png) | ![black_circle](Images/black_circle.png)         |                |\n",
    "|13 | Hardwood                           | <img src=\"Images/Hardwood.png\" alt=\"Getrokken lijn\" class=\"bg-primary\" width=\"100px\">      |       |       | ![black_circle](Images/black_circle.png) |  ![black_circle](Images/black_circle.png) | ![black_circle](Images/black_circle.png)  | ![black_circle](Images/black_circle.png)          |               |\n",
    "|14 | Softwood/Hardwood (along the grain)| <img src=\"Images/Soft_Hardwood_Along_The_Grain.png\" alt=\"Getrokken lijn\" class=\"bg-primary\" width=\"100px\">      |       |       |      | ![black_circle](Images/black_circle.png) |  ![black_circle](Images/black_circle.png) | ![black_circle](Images/black_circle.png) |                          |\n",
    "|15 | Glued seam                         | <img src=\"Images/Glued_Seam.png\" alt=\"Getrokken lijn\" class=\"bg-primary\" width=\"100px\">       |       |       |      | ![black_circle](Images/black_circle.png) |  ![black_circle](Images/black_circle.png) | ![black_circle](Images/black_circle.png) |                          |\n",
    "|16 | Cladding panel                     | <img src=\"Images/Cladding_Panel.png\" alt=\"Getrokken lijn\" class=\"bg-primary\" width=\"100px\">     |             |  |       | ![grey_circle](Images/grey_circle.png) | ![grey_circle](Images/grey_circle.png) | ![grey_circle](Images/grey_circle.png) |                         |\n",
    "|17 | Isolation panel                    | <img src=\"Images/Isolation_Panel.png\" alt=\"Getrokken lijn\" class=\"bg-primary\" width=\"100px\">   |       |       |      | ![grey_circle](Images/grey_circle.png) | ![grey_circle](Images/grey_circle.png) | ![grey_circle](Images/grey_circle.png)  | <img src=\"Images/degrees_60.png\" alt=\"Getrokken lijn\" class=\"bg-primary\" width=\"100px\"> |"
   ]
  },
  {
   "cell_type": "markdown",
   "metadata": {},
   "source": [
    "## Metals"
   ]
  },
  {
   "cell_type": "markdown",
   "metadata": {},
   "source": [
    "| No. | Description                   | Hatch                           | Scale |              |              |              |              |              |Remarks       |\n",
    "| --- | -----------------------       | -----                           | ----- | -----        | ----         | ----         | ----         | ----         | ---          |\n",
    "|     |                               |                                 | 1:100 |1:50          |1:20          |1:10          |1:5           |1:1           |              | \n",
    "| 18  | Steel                         | <img src=\"Images/Steel1.png\" alt=\"Getrokken lijn\" class=\"bg-primary\" width=\"100px\">| ![black_circle](Images/black_circle.png) |  ![black_circle](Images/black_circle.png) | ![black_circle](Images/black_circle.png) | ![black_circle](Images/black_circle.png) | ![black_circle](Images/black_circle.png) | ![black_circle](Images/black_circle.png) | in drawings for construction the section may be left open |\n",
    "| 18  |                         | <img src=\"Images/Steel2.png\" alt=\"Getrokken lijn\" class=\"bg-primary\" width=\"100px\"> |  | | | | ![black_circle](Images/black_circle.png) | ![black_circle](Images/black_circle.png) |                          |\n",
    "| 19  | Aluminium, brass, copper etc. | <img src=\"Images/Aluminium.png\" alt=\"Getrokken lijn\" class=\"bg-primary\" width=\"100px\"> |       |       | ![grey_circle](Images/grey_circle.png) | ![grey_circle](Images/grey_circle.png) | ![grey_circle](Images/grey_circle.png) | ![grey_circle](Images/grey_circle.png) |                          |\n",
    "| 20  | Lead                          | <img src=\"Images/Lead.png\" alt=\"Getrokken lijn\" class=\"bg-primary\" width=\"100px\"> |       |       | ![grey_circle](Images/grey_circle.png) | ![grey_circle](Images/grey_circle.png) | ![grey_circle](Images/grey_circle.png) | ![grey_circle](Images/grey_circle.png)| mention density |\n",
    "| 21  | Zinc                          | <img src=\"Images/Zinc.png\" alt=\"Getrokken lijn\" class=\"bg-primary\" width=\"100px\"> |       |       | ![grey_circle](Images/grey_circle.png) | ![grey_circle](Images/grey_circle.png) | ![grey_circle](Images/grey_circle.png) | ![grey_circle](Images/grey_circle.png) | mension material number |"
   ]
  },
  {
   "cell_type": "markdown",
   "metadata": {},
   "source": [
    "## Miscellaneous"
   ]
  },
  {
   "cell_type": "markdown",
   "metadata": {},
   "source": [
    "| No. | Description    | Hatch                                 | Scale |       |      |              |              |              |Remarks       |\n",
    "| --- | -------------- | -----                                 | ----- | ----- | ---- | ----         | ----         | ----         | ---          |\n",
    "|     |                |                                       | 1:100 |1:50   |1:20  |1:10          |1:5           |1:1           |              | \n",
    "| 22  | Synthetics     | <img src=\"Images/Synthetics.png\" alt=\"Getrokken lijn\" class=\"bg-primary\" width=\"100px\">   |       |       |      |        | ![grey_circle](Images/grey_circle.png) | ![grey_circle](Images/grey_circle.png)  |                          |\n",
    "| 23  | Sealant        | <img src=\"Images/Sealant.png\" alt=\"Getrokken lijn\" class=\"bg-primary\" width=\"100px\">     |       |       |      |        |![grey_circle](Images/grey_circle.png) | ![grey_circle](Images/grey_circle.png) |                          |\n",
    "| 24  | Foil, bitumen  | <img src=\"Images/Foil.png\" alt=\"Getrokken lijn\" class=\"bg-primary\" width=\"100px\">        |       |       |      |        | ![grey_circle](Images/grey_circle.png) | ![grey_circle](Images/grey_circle.png) |                          |\n",
    "| 25  | Ground level   | <img src=\"Images/Ground_Level.png\" alt=\"Getrokken lijn\" class=\"bg-primary\" width=\"100px\"> | ![black_circle](Images/black_circle.png) |  ![black_circle](Images/black_circle.png) | ![black_circle](Images/black_circle.png) | ![black_circle](Images/black_circle.png) | ![black_circle](Images/black_circle.png) | ![black_circle](Images/black_circle.png) |                          |\n",
    "| 26  | Sand           | <img src=\"Images/Sand.png\" alt=\"Getrokken lijn\" class=\"bg-primary\" width=\"100px\">         | ![black_circle](Images/black_circle.png) |  ![black_circle](Images/black_circle.png) | ![black_circle](Images/black_circle.png) | ![black_circle](Images/black_circle.png) | ![black_circle](Images/black_circle.png) | ![black_circle](Images/black_circle.png)|                          |\n",
    "| 27  | Gravel         | <img src=\"Images/Gravel.png\" alt=\"Getrokken lijn\" class=\"bg-primary\" width=\"100px\">      | ![black_circle](Images/black_circle.png) |  ![black_circle](Images/black_circle.png) | ![black_circle](Images/black_circle.png) | ![black_circle](Images/black_circle.png) | ![black_circle](Images/black_circle.png) | ![black_circle](Images/black_circle.png) |                          |\n",
    "| 28  | Water          | <img src=\"Images/Water.png\" alt=\"Getrokken lijn\" class=\"bg-primary\" width=\"100px\">     | ![black_circle](Images/black_circle.png) |  ![black_circle](Images/black_circle.png) | ![black_circle](Images/black_circle.png) | ![black_circle](Images/black_circle.png) | ![black_circle](Images/black_circle.png) | ![black_circle](Images/black_circle.png) |                          |\n",
    "| 29  | Glass          | <img src=\"Images/Glass.png\" alt=\"Getrokken lijn\" class=\"bg-primary\" width=\"100px\">     |       |       |      | ![grey_circle](Images/grey_circle.png) | ![grey_circle](Images/grey_circle.png) | ![grey_circle](Images/grey_circle.png) |                          |"
   ]
  },
  {
   "cell_type": "markdown",
   "metadata": {},
   "source": [
    "```{note}\n",
    "The given designation of line types and shading apply to construction drawings and are based on the NEN2302.\n",
    "```"
   ]
  }
 ],
 "metadata": {
  "kernelspec": {
   "display_name": "Python 3",
   "language": "python",
   "name": "python3"
  },
  "language_info": {
   "codemirror_mode": {
    "name": "ipython",
    "version": 3
   },
   "file_extension": ".py",
   "mimetype": "text/x-python",
   "name": "python",
   "nbconvert_exporter": "python",
   "pygments_lexer": "ipython3",
   "version": "3.8.0"
  },
  "widgets": {
   "application/vnd.jupyter.widget-state+json": {
    "state": {},
    "version_major": 2,
    "version_minor": 0
   }
  }
 },
 "nbformat": 4,
 "nbformat_minor": 4
}
