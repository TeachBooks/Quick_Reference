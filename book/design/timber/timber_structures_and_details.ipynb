{
 "cells": [
  {
   "cell_type": "markdown",
   "metadata": {},
   "source": [
    "# Timber structures and details\n",
    "\n",
    "## Straight beam (possibly with precamber)\n",
    "\n",
    "## Straight beam (possibly with cantilever)\n",
    "\n",
    "## Saddle roof with inclined upper edge\n",
    "\n",
    "## Saddle roof with inclined or curved upper and lower edge\n",
    "\n",
    "## Continuous beams\n",
    "\n",
    "## Straight truss\n",
    "\n",
    "## Triangular or trapezoidal truss\n",
    "\n",
    "## Under stressed beam\n",
    "\n",
    "## Rigid frame\n",
    "\n",
    "## Three hinged frame (straight legs)\n",
    "\n",
    "## Three hinged frame (curved/kinked legs)\n",
    "\n",
    "## Arch (solid and truss beam)\n"
   ]
  },
  {
   "cell_type": "markdown",
   "metadata": {},
   "source": []
  }
 ],
 "metadata": {
  "kernelspec": {
   "display_name": "Python 3",
   "language": "python",
   "name": "python3"
  },
  "language_info": {
   "codemirror_mode": {
    "name": "ipython",
    "version": 3
   },
   "file_extension": ".py",
   "mimetype": "text/x-python",
   "name": "python",
   "nbconvert_exporter": "python",
   "pygments_lexer": "ipython3",
   "version": "3.8.0"
  },
  "widgets": {
   "application/vnd.jupyter.widget-state+json": {
    "state": {},
    "version_major": 2,
    "version_minor": 0
   }
  }
 },
 "nbformat": 4,
 "nbformat_minor": 4
}
