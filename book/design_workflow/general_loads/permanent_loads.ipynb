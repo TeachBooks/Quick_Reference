{
 "cells": [
  {
   "cell_type": "markdown",
   "metadata": {},
   "source": [
    "# Permanent loads\n",
    "\n",
    "\n"
   ]
  },
  {
   "cell_type": "markdown",
   "metadata": {},
   "source": [
    "Permanent loads on a structure consist of the dead weight of the considered\n",
    "component and the dead weight of the other components resting on the\n",
    "considered component. With the aid of the tables given below\n",
    "the one can determine the permanent loads for a given building. Note that for\n",
    "specific structural elements (I-beams or hollow core slabs) separate tables\n",
    "may exist with information on dead weight."
   ]
  },
  {
   "cell_type": "markdown",
   "metadata": {},
   "source": [
    "## Materials (structural)\n",
    "  \n",
    "| Material                 | ρ[$kg/m^3$] | Material                  | ρ[$kg/m^3$] | Material                      | ρ[$kg/m^3$] |\n",
    "|--------------------------|-----------|---------------------------|-----------|-------------------------------|------------|\n",
    "| Primary Building Materials |           | Secondary Building Materials |           | Concrete Masonry Units        |            |\n",
    "| Dunesand ash             | 1000      | Light                      | 800-1500  |                               |            |\n",
    "|                          |           | Dry                        | 1550      | Blast Furnace Slag            | 1700       |\n",
    "|                          |           | Humid                      | 1700      | Medium                        | 1500-1900 |\n",
    "|                          |           | Heavy                      | 1900-2300 |                               |            |\n",
    "|                          |           | Saturated                  | 1950      | Masonry Cellular Concrete     | 500-800    |\n",
    "| River- and Pebble-sand   |           | Clinker Brick              | 2000      | Gypsum Blocks                 | 1100       |\n",
    "|                          | Dry       | 1650                      | Ordinary Façade Stones        | Tiles      |\n",
    "|                          | Humid     | 1750                      | Full (0% Perforation)         | 1700       |\n",
    "|                          | Saturated | 2000                      | Porous                        | 1900       |\n",
    "| Gravel                   |           | Hollow (35%)               | 1100      | Perforated (20%)              | 1400       |\n",
    "|                          | Dry       | 1600                      | Non Porous                    | 2300       |\n",
    "|                          | Humid     | 1700-2000                 |                               |            |\n",
    "|                          | Saturated | 1922                      |                               |            |\n",
    "| Soil and Clay            |           |                           |           |                               |            |\n",
    "|                          | Dry       | 1600                      | Reinforced Concrete            | 2400-2550 |\n",
    "|                          | Wet       | 2000                      | Normal Concrete               | 2300-2450 |\n",
    "| Natural Stone            |           |                           |           |                               |            |\n",
    "| Basalt, Granite          |           | 2850                      | Foamed Concrete               | 300-1400  |\n",
    "| Limestone, Marble        |           | 2700                      |                               |            |\n",
    "| Shale                    |           | 2700                      |                               |            |\n",
    "\n",
    "&nbsp;\n",
    "  \n",
    "```{note}\n",
    "The values above are given in [$kg/m^3$], which is not the same as [$kN/m^3$]!\n",
    "```"
   ]
  },
  {
   "cell_type": "markdown",
   "metadata": {},
   "source": [
    "## Materials (all)\n",
    "| Material                           | ρ[$kg/m^3$] | Material                         | ρ[$kg/m^3$] | Material                       | ρ[$kg/m^3$] |\n",
    "|-----------------------------------|-----------|---------------------------------|-----------|-------------------------------|-----------|\n",
    "| aluminium, cast                   | 2768      | glass, in crates                | 960       | red lead, dry                 | 2112      |\n",
    "| artificial stone                  | 2304      | glass, plate                    | 2787      | reinforced concrete 2%        | 2401      |\n",
    "| ashes, coal                       | 719       | glass, sheet                    | 2497      | reinforced concrete 3%        | 2503      |\n",
    "| asphalt, paving                   | 2308      | glycerine, in cases             | 832       | rosin, in barrels             | 769       |\n",
    "| granite                           | 2722      | rubber                          | 960       |                               |           |\n",
    "| ballast, brick, gravel            | 1788      | granite, dressed                | 2642      | saltpetre                     | 1072      |\n",
    "| barley, in bags                   | 576       | granite, rubble                 | 2477      | sand, dry                     | 1598      |\n",
    "| barley, in bulk                   | 640       | gravel                          | 1918      | sand, wet                     | 1998      |\n",
    "| bleach, in barrels                | 512       | sandstone                       | 2403      |                               |           |\n",
    "| blockwork                         | 1305-2202 | hay, in bales, compressed       | 384       | sandstone                     | 2403      |\n",
    "| brass, cast                       | 8431      | hay, not compressed             | 224       | screws, nails, in packages   | 1600      |\n",
    "| brass, rolled                     | 8546      | slate                           | 2877      |                               |           |\n",
    "| brickwork                         | 1549-2365 | iron, cast                      | 7203      | snow, freshly fallen          | 96        |\n",
    "| bronze                            | 8386      | iron, wrought                   | 7682      | snow, wet, compact            | 320       |\n",
    "| ironmongery, in packages          | 896       | soda ash, in barrels            | 992       |                               |           |\n",
    "| cement, in bags                   | 1345      | soda, caustic, in drums         | 1409      | starch, in barrels            | 401       |\n",
    "| cement, in barrels                | 1168      | lead, cast                      | 11328     | steel, cast                   | 8002      |\n",
    "| cement, mortar                    | 1678      | lead, sheet                     | 11358     | steel, rolled                 | 8002      |\n",
    "| cement, Portland loose            | 1438      | leather, hides, compress.       | 368       |                               |           |\n",
    "| clay, china, kaolin               | 2209      | leather, in bundles             | 256       | straw, in bales, compress     | 304       |\n",
    "| clay, damp, plastic               | 1788      | lime mortar                     | 1648      | sulphuric acid                | 960       |\n",
    "| clay, potters, dry                | 1920      | lime, in barrels                | 800       |                               |           |\n",
    "| coal, loose                       | 896       | limestone                       | 2562      | tar                           | 1024      |\n",
    "| coke, loose                       | 480       | terracotta                      | 1794      |                               |           |\n",
    "| concrete, breeze                  | 1538      | macadam                         | 2403      | timber, pine, spruce          | 481       |\n",
    "| concrete, brick                   | 1918      | marble                          | 2642      | timber, pitch pine            | 673       |\n",
    "| concrete, stone                   | 2308      | timber, redwood                 | 561       |                               |           |\n",
    "| copper, cast                      | 8801      | nickel, monel metal             | 8896      | timber, teak, oak             | 721       |\n",
    "| copper, rolled                    | 8930      | tin, cast                       | 7282      |                               |           |\n",
    "| crockery, in crates               | 640       | oats, in bags                   | 432       | tin, rolled                   | 7392      |\n",
    "| oats, in bulk                     | 512       | tin, sheet, in boxes            | 4450      |                               |           |\n",
    "| earth, dry, loose                 | 1152      | oil, in barrels                 | 576       | water, fresh                  | 1000      |\n",
    "| earth, dry, rammed                | 1788      | oil, in bulk                    | 896       | water, sea                    | 1024      |\n",
    "| earth, moist, packed              | 1538      | oil, in drums                   | 721       |                               |           |\n",
    "| wheat, in bags                    | 624       |                                 |           |                               |           |\n",
    "| flint                             | 2640      | paper, printing                 | 640       | wheat, in bulk                | 721       |\n",
    "| flour, in bags                    | 721       | paper, writing                  | 960       | white lead, paste             | 2785      |\n",
    "| freestone, dressed                | 2398      | petrol                          | 672       | white-lead, dry               | 138       |\n",
    "| freestone, rubble                 | 2238      | pitch                           | 1119      | wire, in coils                | 1185      |\n",
    "| plaster                           | 1538      | plaster of Paris, set           | 1278      | zinc                          | 6993      |\n",
    "| plaster, in barrels               | 848       | potash                          | 3276      |                               |           |\n",
    "| potatoes, piled                   | 721       |                                 |           |                               |           |\n",
    "\n",
    "\n",
    "&nbsp;\n",
    "  \n",
    "```{note}\n",
    "The values above are given in [$kg/m^3$], which is not the same as [$kN/m^3$]!\n",
    "```"
   ]
  },
  {
   "cell_type": "markdown",
   "metadata": {},
   "source": [
    "## Action per unit surface area for composed structures\n",
    "\n",
    "| Material                              | [$kN/m^2$] | Material                                         | [$kN/m^2$] |\n",
    "|--------------------------------------|---------|-------------------------------------------------|---------|\n",
    "| steel façade elements                | 0.05-0.13 | polymer foils                                 | 0.02    |\n",
    "| façade insulation                    | 0.015-0.05 | corrugated sheet - fibre reinforced cement   |         |\n",
    "| timber floor + beams                 | 0.3     | plate only                                     | 0.15    |\n",
    "| steel roof sheeting                  | 0.05-0.18 | plate + connections and purlins               | 0.25    |\n",
    "| - e.g. steel roof sheet (t=0.75 mm) | 0.11    | corrugated sheet - polymers                   | 0.02    |\n",
    "| insulation and roofing               | 0.10-0.20 | corrugated steet - galvanized                 |         |\n",
    "| bitumenlayers + connectons and purlins | 0.15  |                                                 |         |\n",
    "| glass fabric 2 layers               | 0.07    | roof tiles + underlay and purlins             | 0.65    |\n",
    "| glass fabric 3 layers               | 0.1     | flat roof + beams and underlay (no gravel)    | 0.36    |\n",
    "| shingles                             | 0.07    |                                                 |         |\n"
   ]
  }
 ],
 "metadata": {
  "kernelspec": {
   "display_name": "Python 3",
   "language": "python",
   "name": "python3"
  },
  "language_info": {
   "codemirror_mode": {
    "name": "ipython",
    "version": 3
   },
   "file_extension": ".py",
   "mimetype": "text/x-python",
   "name": "python",
   "nbconvert_exporter": "python",
   "pygments_lexer": "ipython3",
   "version": "3.8.0"
  },
  "widgets": {
   "application/vnd.jupyter.widget-state+json": {
    "state": {},
    "version_major": 2,
    "version_minor": 0
   }
  }
 },
 "nbformat": 4,
 "nbformat_minor": 4
}
