{
 "cells": [
  {
   "cell_type": "markdown",
   "metadata": {},
   "source": [
    "# Products 2: cold-rolled sections\n",
    "\n",
    "## U and C profiles\n",
    "```{figure} Images/u_and_c_profiles.png\n",
    "---\n",
    "---\n",
    "Cold formed sections with and without stiffeners are available with equal (eq) or unequal (ue) height and width.\n",
    "```\n",
    "\n",
    "| Type  | Size     | $h$ (mm)   | $b$ (mm)   |\n",
    "|-------|----------|----------|----------|\n",
    "| $CFU_{eq}$ | 10 - 100 | 10 - 100 | 10 - 100 |\n",
    "| $CFU_{ue}$ | 10 - 160 | 10 - 160 | 10 - 70  |\n",
    "| $CFC$   | 25 - 100 | 25 - 100 | 25 - 50  |\n",
    "\n",
    "Applications: Are used in residential buildings, carcase work, storage systems and finishings. Also used as purlins, or floorbeams. Due to plastic strains during fabrication the material properties differ from hot rolled sections.\n",
    "\n",
    "## L and Z profiles\n",
    "```{figure} Images/L_and_Z_sections.png\n",
    "---\n",
    "---\n",
    "Cold formed L or Z sections with and without stiffeners with equal (eq) or unequal (eu) height and width.\n",
    "```\n",
    "\n",
    "| Type  | Size      | $h$ (mm)   | $b$ (mm)   |\n",
    "|-------|-----------|----------|----------|\n",
    "| $CF_{Leq}$ | 15 - 80   | 15 - 80  | 15 - 80  |\n",
    "| $CFL_{ue}$ | 20 - 100  | 20 - 100 | 15 - 50  |\n",
    "| $CFZ$  | 30 - 50   | 30 - 50  | 38 - 57  |\n",
    "\n",
    "\n",
    "Applications: Are used in residential buildings, carcase work, storage systems and finishings. Also used as purlins, or floorbeams. Due to plastic strains during fabrication the material properties differ from hot rolled sections."
   ]
  },
  {
   "cell_type": "markdown",
   "metadata": {},
   "source": []
  }
 ],
 "metadata": {
  "kernelspec": {
   "display_name": "Python 3",
   "language": "python",
   "name": "python3"
  },
  "language_info": {
   "codemirror_mode": {
    "name": "ipython",
    "version": 3
   },
   "file_extension": ".py",
   "mimetype": "text/x-python",
   "name": "python",
   "nbconvert_exporter": "python",
   "pygments_lexer": "ipython3",
   "version": "3.8.0"
  },
  "widgets": {
   "application/vnd.jupyter.widget-state+json": {
    "state": {},
    "version_major": 2,
    "version_minor": 0
   }
  }
 },
 "nbformat": 4,
 "nbformat_minor": 4
}
