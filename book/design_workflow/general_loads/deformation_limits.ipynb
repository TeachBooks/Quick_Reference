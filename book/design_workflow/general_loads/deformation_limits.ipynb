{
 "cells": [
  {
   "cell_type": "markdown",
   "metadata": {},
   "source": [
    "# Deformation limits"
   ]
  },
  {
   "cell_type": "markdown",
   "metadata": {},
   "source": [
    "## Vertical deformation\n",
    "\n",
    "$w_c$ = precamber  \n",
    "$w_1$ = initial deflection under permanent actions  \n",
    "$w_2$ = long term deflection under permanent actions (creep)  \n",
    "$w_3$ = deflection under variable actions  \n",
    "$w_{tot} = w_1 + w_2 + w_3$  \n",
    "$w_{max}= w_{tot}-w_c$  \n",
    "\n",
    "```{figure} Images/Deformation.jpg\n",
    "---\n",
    "scale: 100%\n",
    "---\n",
    "Deflections $w_i$.\n",
    "```"
   ]
  },
  {
   "cell_type": "markdown",
   "metadata": {},
   "source": [
    "```{note}\n",
    "As Eurocode does not specify deformation limits, the old limits\n",
    "originating in the Dutch code are used (NEN 6702 Belastingen en vervormingen TGB 1990).\n",
    "```"
   ]
  },
  {
   "cell_type": "markdown",
   "metadata": {},
   "source": [
    "Floors in general                   $w_3 = 0,003 * l$  \n",
    "Floors carrying non-flexible walls  $w_3 = 0,002 * l$  \n",
    "Roofs                               $w_3 = 0,004 * l$  \n",
    "Maximum deflection                  $w_{max} = 0,004 * l$  "
   ]
  },
  {
   "cell_type": "markdown",
   "metadata": {},
   "source": [
    "## Water accumulation\n",
    "\n",
    "Even if the drainage systems works properly there is a possibility of water accumulation.\n",
    "To prevent this, the roof must be designed stiff enough to ensure the remaining slope of\n",
    "the roof at the lowest support stays positive. It is therefore recommended to design for a minimum slope of 1,6%.\n",
    "\n",
    "```{figure} Images/Water_Accumulation1.jpg\n",
    "---\n",
    "scale: 100%\n",
    "---\n",
    "$w_{max}$ versus $phi_{remaining}$\n",
    "```\n",
    "\n",
    "```{figure} Images/Water_Accumulation2.jpg\n",
    "---\n",
    "scale: 100%\n",
    "---\n",
    "Too large deformations leading to water accumulation and eventually failure.\n",
    "```"
   ]
  },
  {
   "cell_type": "markdown",
   "metadata": {},
   "source": [
    "## Horzintal deformations\n",
    "\n",
    "As Eurocode does not specify deformation limits, the old limits\n",
    "originating in the Dutch code are used (NEN 6702 Belastingen en\n",
    "vervormingen TGB 1990).\n",
    "\n"
   ]
  },
  {
   "cell_type": "markdown",
   "metadata": {},
   "source": [
    "### Low rise\n",
    "\n",
    "$u <= 1/150*h$ for industrial buildings  \n",
    "$u <= 1/300*h$ for other buildings\n",
    "\n",
    "```{figure} Images/Low_Rise_Deformation.jpg\n",
    "---\n",
    "scale: 100%\n",
    "---\n",
    "Low rise deformation.\n",
    "```\n",
    "\n",
    "### High rise\n",
    "\n",
    "$u <= 1/300*h$ for storey height  \n",
    "$u <= 1/500*h$ for total height\n",
    "\n",
    "```{figure} Images/High_Rise_Deformation.jpg\n",
    "---\n",
    "scale: 100%\n",
    "---\n",
    "High rise deformation.\n",
    "```"
   ]
  },
  {
   "cell_type": "markdown",
   "metadata": {},
   "source": []
  }
 ],
 "metadata": {
  "kernelspec": {
   "display_name": "Python 3",
   "language": "python",
   "name": "python3"
  },
  "language_info": {
   "codemirror_mode": {
    "name": "ipython",
    "version": 3
   },
   "file_extension": ".py",
   "mimetype": "text/x-python",
   "name": "python",
   "nbconvert_exporter": "python",
   "pygments_lexer": "ipython3",
   "version": "3.8.0"
  },
  "widgets": {
   "application/vnd.jupyter.widget-state+json": {
    "state": {},
    "version_major": 2,
    "version_minor": 0
   }
  }
 },
 "nbformat": 4,
 "nbformat_minor": 4
}
