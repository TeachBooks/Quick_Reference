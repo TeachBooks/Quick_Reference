{
 "cells": [
  {
   "cell_type": "markdown",
   "metadata": {},
   "source": [
    "# Variable loads 1: buildings\n",
    "\n",
    "\n"
   ]
  },
  {
   "cell_type": "markdown",
   "metadata": {},
   "source": [
    "Variable loads are loads which are not present during the whole lifetime\n",
    "of the structure, or have variations in time which are not negligible.Examples\n",
    "of variable loads are persons, goods, vehicles, wind, accumulating water,\n",
    "earthquakes, collisions, loads during erection etcetera."
   ]
  },
  {
   "cell_type": "markdown",
   "metadata": {},
   "source": [
    "## Verticle and variable loads on floors and roofs\n",
    "| Category                               | Distributed [$kN/m^2$] | Concentrated [$kN$] | Remarks          |\n",
    "|---------------------------------------|---------------------|-------------------|------------------|\n",
    "| Category A: residential areas         |                     |                   |                  |\n",
    "| A - floors                            | 1.75                | 3                 |                  |\n",
    "| A - stairs                            | 2                   | 3                 |                  |\n",
    "| A - balconies                         | 2.5                 | 3                 |                  |\n",
    "| A - access routes                    | 2                   | 3                 | d                |\n",
    "| Category B: office areas              |                     |                   |                  |\n",
    "| B - floors                            | 2.5                 | 3                 |                  |\n",
    "| B - access routes                    | 3                   | 3                 |                  |\n",
    "| Category C: congregation areas       |                     |                   |                  |\n",
    "| C1 - floors                           | 4                   | 7                 |                  |\n",
    "| C2 - floors                           | 4                   | 7                 |                  |\n",
    "| C3 - floors                           | 5                   | 7                 |                  |\n",
    "| C4 - floors                           | 5                   | 7                 |                  |\n",
    "| C5 - floors                           | 5                   | 7                 |                  |\n",
    "| C - access routes                     | 5                   | 7                 |                  |\n",
    "| Category D: shopping areas            |                     |                   |                  |\n",
    "| D1 - floors                           | 4                   | 7                 |                  |\n",
    "| D2 - floors                           | 4                   | 7                 |                  |\n",
    "| D - access routes                     | 4                   | 4                 |                  |\n",
    "| Category E: storage areas             |                     |                   |                  |\n",
    "| E1 - floors - shops                   | ≥5                  | ≥7                | e                |\n",
    "| E1 - floors - libraries               | ≥2.5                | ≥3                | a,e              |\n",
    "| E1 - floors - other                   | ≥5                  | ≥10               | e                |\n",
    "| E2 - floors                           | depends on use,     | depends on use,   |                  |\n",
    "|                                       | but ≥3              | but ≥7            |                  |\n",
    "| E1 - access routes - libraries       | 3                   | 3                 |                  |\n",
    "| E1 - access routes - other           | 4                   | 4                 |                  |\n",
    "| E2 - access routes                   | 4                   | 4                 |                  |\n",
    "| Category F: traffic area (light)     |                     |                   |                  |\n",
    "| F - floors                           | 2                   | 10                | e                |\n",
    "| Category G: traffic area (heavy)     |                     |                   |                  |\n",
    "| G - floors                           | 5                   | 40                | e                |\n",
    "| Category H: roofs                    |                     |                   |                  |\n",
    "| dependend of roof angle              |                     |                   | a               |\n",
    "| - 0 ≤ a ≤ 15                         | 1                   | 1.5               | b,c,f            |\n",
    "| - 15 ≤ a ≤ 20                        | 4 - 0.2a            | 1.5               | b,c,f            |\n",
    "| - 20 ≤ a                             | 0                   | 1.5               | b,c,f            |\n"
   ]
  },
  {
   "cell_type": "markdown",
   "metadata": {},
   "source": [
    "a The given value needs to be applied between the shelves. Underneath the shelves the following formula needs to be applied:  \n",
    "    &ensp; $q_k = (A_1*γ_{bk}*h+A_2*p_0)/(A_1+A_2)$  \n",
    "    &ensp; Where:  \n",
    "    &ensp; $A_1$: Area beneath the shelves [$m^2$]  \n",
    "    &ensp; $A_2$: Remaining area [$m^2$]  \n",
    "    &ensp; $γ_{bk}$: Dead weight of books: 6 [$kg/m^3$]  \n",
    "    &ensp; $p_0$: Action on floors between shelves: 2,5 [$kN/m^2$]  \n",
    "    &ensp; $h$: Height of the shelves  \n",
    "\n",
    "b The concentrated load is applied on a surface of $0,1 * 0,1 m^2$  \n",
    "\n",
    "c The distributed load acts on a maximum area of $10 m^2$  \n",
    "\n",
    "d Applied over an area of $0,5* 0,5 m^2$  \n",
    "\n",
    "e Take impact loads into account  \n",
    "\n",
    "f Take water accumulation into account\n"
   ]
  }
 ],
 "metadata": {
  "kernelspec": {
   "display_name": "Python 3",
   "language": "python",
   "name": "python3"
  },
  "language_info": {
   "codemirror_mode": {
    "name": "ipython",
    "version": 3
   },
   "file_extension": ".py",
   "mimetype": "text/x-python",
   "name": "python",
   "nbconvert_exporter": "python",
   "pygments_lexer": "ipython3",
   "version": "3.8.0"
  },
  "widgets": {
   "application/vnd.jupyter.widget-state+json": {
    "state": {},
    "version_major": 2,
    "version_minor": 0
   }
  }
 },
 "nbformat": 4,
 "nbformat_minor": 4
}
