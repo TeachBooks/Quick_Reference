{
 "cells": [
  {
   "cell_type": "markdown",
   "metadata": {},
   "source": [
    "# The Structural Carbon Tool\n",
    "\n",
    "## Video 1 Introduction\n",
    "<div style=\"display: flex; justify-content: center;\">\n",
    "<div style=\"position: relative; width: 70%; height: 0; padding-bottom: 56.25%;\">\n",
    "    <iframe\n",
    "        src=\"https://www.youtube.com/watch?v=6K71NT3iNBA\"\n",
    "        style=\"position: absolute; top: 0; left: 0; width: 100%; height: 100%;\"\n",
    "        frameborder=\"0\"\n",
    "        allow=\"accelerometer; autoplay; clipboard-write; encrypted-media; gyroscope; picture-in-picture\"\n",
    "        allowfullscreen\n",
    "    ></iframe>\n",
    "</div>\n",
    "</div>\n",
    "\n",
    "## Video 2 Project info sheet\n"
   ]
  }
 ],
 "metadata": {
  "language_info": {
   "name": "python"
  }
 },
 "nbformat": 4,
 "nbformat_minor": 2
}
