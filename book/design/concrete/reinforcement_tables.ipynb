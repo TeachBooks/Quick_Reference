{
 "cells": [
  {
   "cell_type": "markdown",
   "metadata": {},
   "source": [
    "# Reinforcement tables"
   ]
  },
  {
   "cell_type": "markdown",
   "metadata": {},
   "source": [
    "## Bending and normal force\n",
    "```{figure} Images/Brick 1.png\n",
    "```    \n",
    "\n",
    "## Reinforcement table for bending moments\n",
    "```{figure} Images/Reinforcement_Table1.jpg\n",
    "```\n",
    "\n",
    "- Strength Class: Represents the range from C20/25 to C45/55.  \n",
    "- Reinforcement Steel: Indicates the reinforcement steel type.  \n",
    "- Quantity: The quantity specified, which in this case is 500.  \n",
    "- Thickness: The thickness mentioned, which here is 0,10.  \n",
    "- a/h: This seems to represent a certain characteristic of the reinforcement steel, presumably 'a' and 'h' values.  \n",
    "\n",
    "a = distance from center of reinforcement to edge of concrete.\n",
    "\n",
    "```{figure} Images/Reinforcement_Table2.jpg\n",
    "```    \n",
    "\n",
    "- Strength Class: Represents C55/67.  \n",
    "- Reinforcement Steel: Indicates the reinforcement steel type.  \n",
    "- Quantity: The quantity specified, which in this case is 500.  \n",
    "- Thickness: The thickness mentioned, which here is 0,10.  \n",
    "- a/h: This seems to represent a certain characteristic of the reinforcement steel, presumably 'a' and 'h' values.  \n",
    "\n",
    "a = distance from center of reinforcement to edge of concrete.\n",
    "\n",
    "```{figure} Images/Reinforcement_Table3.jpg\n",
    "```    \n",
    "\n",
    "- Strength Class: Represents C20/25 till C45/55.  \n",
    "- Reinforcement Steel: Indicates the reinforcement steel type.  \n",
    "- Quantity: The quantity specified, which in this case is 500.  \n",
    "- Thickness: The thickness mentioned, which here is 0,15.  \n",
    "- a/h: This seems to represent a certain characteristic of the reinforcement steel, presumably 'a' and 'h' values.  \n",
    "\n",
    "a = distance from center of reinforcement to edge of concrete.\n",
    "\n",
    "```{figure} Images/Reinforcement_Table4.jpg\n",
    "```    \n",
    "\n",
    "- Strength Class: Represents C20/25 till C45/55.  \n",
    "- Reinforcement Steel: Indicates the reinforcement steel type.  \n",
    "- Quantity: The quantity specified, which in this case is 500.  \n",
    "- Thickness: The thickness mentioned, which here is 0,10.  \n",
    "- a/h: This seems to represent a certain characteristic of the reinforcement steel, presumably 'a' and 'h' values.  \n",
    "\n",
    "a = distance from center of reinforcement to edge of concrete.\n",
    "\n",
    "```{figure} Images/Reinforcement_BendingMomentjpg\n",
    "```    \n",
    "\n",
    "```{note}\n",
    "Slabs need to be dimensioned for shear and deflection first. Then the reinforcement ratio can be determined.\n",
    "```"
   ]
  }
 ],
 "metadata": {
  "kernelspec": {
   "display_name": "Python 3",
   "language": "python",
   "name": "python3"
  },
  "language_info": {
   "codemirror_mode": {
    "name": "ipython",
    "version": 3
   },
   "file_extension": ".py",
   "mimetype": "text/x-python",
   "name": "python",
   "nbconvert_exporter": "python",
   "pygments_lexer": "ipython3",
   "version": "3.8.0"
  },
  "widgets": {
   "application/vnd.jupyter.widget-state+json": {
    "state": {},
    "version_major": 2,
    "version_minor": 0
   }
  }
 },
 "nbformat": 4,
 "nbformat_minor": 4
}
