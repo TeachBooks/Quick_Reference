{
 "cells": [
  {
   "cell_type": "markdown",
   "metadata": {},
   "source": [
    "# The Structural Carbon Tool - Example\n",
    "\n",
    "```{warning}\n",
    "This tool was obtained from the [Website of The Institution of Structural Engineers](https://www.istructe.org/resources/guidance/the-structural-carbon-tool/) at 27/10/2024. Please be aware that it may be outdated.\n",
    "```"
   ]
  }
 ],
 "metadata": {
  "language_info": {
   "name": "python"
  }
 },
 "nbformat": 4,
 "nbformat_minor": 2
}
