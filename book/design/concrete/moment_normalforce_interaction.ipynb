{
 "cells": [
  {
   "cell_type": "markdown",
   "metadata": {},
   "source": [
    "# Moment normal force interaction\n",
    "\n",
    "These tables are based on EC2; 6.1 and 3.1.7(1), meaning that calculations have been made with the parabola-rectangle stress-strain diagrams."
   ]
  },
  {
   "cell_type": "code",
   "execution_count": 1,
   "metadata": {},
   "outputs": [],
   "source": [
    "import numpy as np\n",
    "import matplotlib.pyplot as plt"
   ]
  },
  {
   "cell_type": "markdown",
   "metadata": {},
   "source": [
    "## Example Concrete & Steel structures\n",
    "\n",
    "The following code shows an example that was part of an assignment for the BSc course Concrete & Steel Structures in the year 2023-2024.\n",
    "\n",
    "```{figure} Images/4_grenssituaties.png\n",
    "\n",
    "4 grenssituaties\n",
    "``` "
   ]
  },
  {
   "cell_type": "code",
   "execution_count": 53,
   "metadata": {},
   "outputs": [],
   "source": [
    "f_ck = 30 #[N/mm^2] C30/37\n",
    "f_cd = f_ck/1.5\n",
    "alfa = 0.75\n",
    "beta = 7/18\n",
    "eps_c2 = 0.00175\n",
    "eps_cu3 = 0.0035\n",
    "\n",
    "f_yk = 500 #[N/mm^2] B500B\n",
    "f_yd = f_yk/1.15\n",
    "eps_s = 0.002175\n",
    "\n",
    "c = 25 #[mm]\n",
    "phi_bgl = 6 #[mm]\n",
    "n_hw = 4 #[-] aantal staven\n",
    "phi_hw = 12 #[mm]\n",
    "E_s = 200000 #[N/mm^2]\n",
    "E_cm = 200000 #[N/mm^2]\n",
    "phi_eff = 1.2 #[-]\n",
    "e = 100 #[mm]\n",
    "\n",
    "b = 250 #[mm]\n",
    "h = 250 #[mm]\n",
    "N_Ed = 261 #[kN]"
   ]
  },
  {
   "cell_type": "markdown",
   "metadata": {},
   "source": [
    "### Grenssituatie 0: zuivere buiging, geen normaalkracht"
   ]
  },
  {
   "cell_type": "code",
   "execution_count": 54,
   "metadata": {},
   "outputs": [
    {
     "name": "stdout",
     "output_type": "stream",
     "text": [
      "a = 37.00 mm\n",
      "A_s = 452.39 mm^2\n",
      "x_u0 = 52.45 mm\n",
      "M_Rd0 = 37.9 kNm\n"
     ]
    }
   ],
   "source": [
    "a = c + phi_bgl + phi_hw/2\n",
    "A_s = 1/4 * np.pi * phi_hw**2 * n_hw\n",
    "x_u0 = A_s * f_yd / (alfa * b * f_cd)\n",
    "M_Rd0 = A_s * f_yd * (h - a - beta * x_u0) / 1e6\n",
    "N_Ed = 0\n",
    "\n",
    "print(f'a = {a:.2f} mm')\n",
    "print(f'A_s = {A_s:.2f} mm^2')\n",
    "print(f'x_u0 = {x_u0:.2f} mm')\n",
    "print(f'M_Rd0 = {M_Rd0:.1f} kNm')"
   ]
  },
  {
   "cell_type": "markdown",
   "metadata": {},
   "source": [
    "### Grenssituatie 1: gedrukte wapening vloeit op druk, maximale betonstuik bereikt"
   ]
  },
  {
   "cell_type": "code",
   "execution_count": 61,
   "metadata": {},
   "outputs": [
    {
     "name": "stdout",
     "output_type": "stream",
     "text": [
      "x_u1 = 97.74 mm\n",
      "e_sc = e_st = 88.00 mm\n",
      "N_st1 = N_sc1 = 1.968e+05 N\n",
      "N_c1 = 3.665e+05 N\n",
      "M_Rd1 = 66.5 kNm\n",
      "N_Ed1 = 366.5 kN\n"
     ]
    }
   ],
   "source": [
    "x_u1 = a / (1 - eps_s/eps_cu3)\n",
    "e_sc = e_st = h/2 - a\n",
    "eps_st1 = eps_s\n",
    "eps_sc1 = eps_s\n",
    "\n",
    "N_st1 = N_sc1 = E_s * eps_st1 * A_s\n",
    "N_c1 = alfa * b * f_cd * x_u1\n",
    "eps_c1 = h/2 - beta * x_u1\n",
    "M_Rd1 = (N_st1*e_st + N_sc1 * e_sc + N_c1 * eps_c1) / 1e6\n",
    "N_Ed1 = (- N_st1 + N_sc1 + N_c1) / 1e3\n",
    "\n",
    "print(f'x_u1 = {x_u1:.2f} mm')\n",
    "print(f'e_sc = e_st = {e_sc:.2f} mm')\n",
    "print(f'N_st1 = N_sc1 = {N_sc1:.3e} N')\n",
    "print(f'N_c1 = {N_c1:.3e} N')\n",
    "print(f'M_Rd1 = {M_Rd1:.1f} kNm')\n",
    "print(f'N_Ed1 = {N_Ed1:.1f} kN')"
   ]
  },
  {
   "cell_type": "markdown",
   "metadata": {},
   "source": [
    "### Grenssituatie 2: Getrokken wapening vloeit op trek, maximale betonstuik bereikt"
   ]
  },
  {
   "cell_type": "code",
   "execution_count": null,
   "metadata": {},
   "outputs": [],
   "source": []
  },
  {
   "cell_type": "markdown",
   "metadata": {},
   "source": [
    "### Grenssituatie 3: maximale betonstuik bereikt, $x_{u3} = h$."
   ]
  },
  {
   "cell_type": "code",
   "execution_count": null,
   "metadata": {},
   "outputs": [],
   "source": []
  },
  {
   "cell_type": "markdown",
   "metadata": {},
   "source": [
    "### Grenssituatie 4: centrische druk (geen momentcapaciteit)"
   ]
  },
  {
   "cell_type": "markdown",
   "metadata": {},
   "source": []
  }
 ],
 "metadata": {
  "kernelspec": {
   "display_name": "geospatial",
   "language": "python",
   "name": "geospatial"
  },
  "language_info": {
   "codemirror_mode": {
    "name": "ipython",
    "version": 3
   },
   "file_extension": ".py",
   "mimetype": "text/x-python",
   "name": "python",
   "nbconvert_exporter": "python",
   "pygments_lexer": "ipython3",
   "version": "3.9.13"
  }
 },
 "nbformat": 4,
 "nbformat_minor": 2
}
