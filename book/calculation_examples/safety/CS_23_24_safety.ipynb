{
 "cells": [
  {
   "cell_type": "markdown",
   "metadata": {},
   "source": [
    "# Beton & Staal constructies opdracht 2023-2024\n",
    "\n",
    "Deze pagina geeft een beeld van deel 1 van de opdracht van het vak Beton- en Staalconstructies (CTB2220-14) zoals deze is gepubliceerd aan studenten in het jaar 2023-2024 in het tweede kwartaal. Het doel is om als extra voorbeeld te dienen, waardoor de student meer inzicht krijgt in het gedeelte van het vak dat over veiligheid gaat. In de opdracht zijn verschillende parameters afhankelijk gemaakt van de laatste 3 cijfers van het studentennummer. In de betreffende parameters zijn deze aangeduid met **X, Y en Z (1234XYZ)**. Omdat deze opdracht als voorbeeld dient, is in deze uitwerking gekozen voor de parametrisatie **X = 1, Y = 1 en Z = 1**.\n",
    "\n",
    "## Inleiding\n",
    "\n",
    "In een schilderachtig stadje aan de rand van Amsterdam staat het huis van meneer en mevrouw van Wijk. Een charmante eengezinswoning met een betonnen bouwlaag die al vele herinneringen heeft verzameld. Toen hun gezin uitbreidde, besloten ze dat het tijd was voor meer ruimte. De vraag die hen bezighield, was hoe ze een extra verdieping konden toevoegen zonder de bestaande constructie te veel te belasten.  Meneer van Wijk ging naar ons constructiebureau voor advies. Onze collega, Maria, had het briljante idee om een lichtgewicht staalconstructie te gebruiken. Ze geloofde dat dit de perfecte oplossing zou zijn om een extra verdieping toe te voegen zonder de bestaande betonnen constructie en de fundering drastisch te hoeven aanpassen. Haar ontwerp was innovatief en beloofde het gezin van Wijk de ruimte die ze nodig hadden, zonder hun huis volledig te verbouwen. Helaas raakte Maria betrokken bij een ander dringend project en moest ze dit ontwerp loslaten. Dat is wanneer jij, als haar collega, de uitdaging op je neemt om haar visie tot leven te brengen. Jij duikt dieper in Maria's ontwerp en begint met het uitwerken van de details.\n",
    "\n",
    "```{figure} Images/figuur1_3dmodel_dimensies_benamingen.png\n",
    "---\n",
    "name: figuur1\n",
    "---\n",
    "3D-model met dimensies en benamingen \n",
    "``` \n",
    "\n",
    "Het was een complexe taak om ervoor te zorgen dat de nieuwe staalconstructie naadloos zou integreren met de bestaande betonnen constructie. Met zorgvuldige berekeningen en grondig onderzoek begon het nieuwe ontwerp vorm te krijgen. De afbeelding ({ref}`figuur1`) toont een 3D-model en de afbeeldingen  {ref}`figuur2` en {ref}`figuur3` laten de mechanische ontwerptekeningen van de constructie zien. Meer ontwerptekeningen zijn in bijlage A terug te vinden. Zoals eerder vermeld, bestaat de begane grondvloer van de eengezinswoning uit beton, terwijl de extra structuur voor de eerste- en tweede verdieping van staal is gemaakt. De begane grondvloer heeft een hoogte van 4 meter, de eerste verdieping heeft een hoogte van 3 meter en de tweede verdieping heeft een hoogte van 2,8 meter, zoals weergegeven in afbeelding {ref}`figuur3`. De hartop-hart afstand tussen de kolommen in de lengterichting bedraagt 5 meter, terwijl de overspanning in de dwarsrichting afhankelijk is van je studentennummer (X), zoals aangegeven in tabel 1. \n",
    "\n",
    "```{figure} Images/figuur2_mechanica_schema_dwarsrichting.png\n",
    "---\n",
    "name: figuur2\n",
    "---\n",
    "Mechanica schema dwarsrichting\n",
    "```\n",
    "\n",
    "```{figure} Images/figuur3_mechanicaschema_lengterichting.png\n",
    "---\n",
    "name: figuur3\n",
    "---\n",
    "Mechanica schema lengterichting\n",
    "``` \n",
    "\n",
    "```{figure} Images/figuur4_stalen_dak_principe.png\n",
    "---\n",
    "name: figuur4\n",
    "---\n",
    "Stalen dak principe\n",
    "``` \n",
    "\n",
    "```{figure} Images/figuur5_kanaalplaatvloer.png\n",
    "---\n",
    "name: figuur5\n",
    "---\n",
    "Kanaalplaatvloer\n",
    "``` \n",
    "\n",
    "```{figure} Images/figuur6_dakbelasting.png\n",
    "---\n",
    "name: figuur6\n",
    "---\n",
    "Dakbelasting\n",
    "``` \n",
    "\n",
    "```{figure} Images/figuur7_windbelasting.png\n",
    "---\n",
    "name: figuur7\n",
    "---\n",
    "Windbelasting\n",
    "``` "
   ]
  },
  {
   "cell_type": "markdown",
   "metadata": {},
   "source": [
    "## Bijlage A"
   ]
  },
  {
   "cell_type": "markdown",
   "metadata": {},
   "source": []
  }
 ],
 "metadata": {
  "language_info": {
   "name": "python"
  }
 },
 "nbformat": 4,
 "nbformat_minor": 2
}
