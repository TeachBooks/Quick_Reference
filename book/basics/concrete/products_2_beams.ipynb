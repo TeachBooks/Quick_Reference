{
 "cells": [
  {
   "cell_type": "markdown",
   "metadata": {},
   "source": [
    "# Products 2: beams\n",
    "\n",
    "## Prefab prestressed beams (non-residential buildings)\n",
    "\n",
    "Rectangular, I- en T-profiles, prefab prestressed beams.\n",
    "\n",
    "Applications:the different types of beams are used as main beams in floor and roof structures but also as butresses in masonry structures. Prefab beams can also be used in foundations.\n",
    "\n",
    "```{figure} Images/product2_beams_prefab_prestressed_beams_nonresidential.png\n",
    "---\n",
    "---\n",
    "Prefab prestressed beams (non-residential buildings)\n",
    "```\n",
    "\n",
    "## Prefab prestressed beams (infra)\n",
    "\n",
    "Prestressed inverted T-beams and box-beams\n",
    "\n",
    "Applications: this type of beam is mainly used in infrastructural constructions like bridges and viaducts. Very large spans and curved beams (in two directions) are possible.\n",
    "\n",
    "```{figure} Images/product2_beams_prefab_prestressed_beams_infra.png\n",
    "---\n",
    "---\n",
    "Prefab prestressed beams (infra)\n",
    "```\n",
    "\n",
    "## Cast in situ reinforced beams\n",
    "\n",
    "Cast in situ in formwork with reinforcement.\n",
    "\n",
    "Applications: used frequently as foundation beams and in simple structures with small spans.\n",
    "\n",
    "```{figure} Images/product2_beams_cast_in_situ_reinforced_beams.png\n",
    "---\n",
    "---\n",
    "Cast in situ reinforced beams\n",
    "```\n"
   ]
  },
  {
   "cell_type": "markdown",
   "metadata": {},
   "source": []
  }
 ],
 "metadata": {
  "kernelspec": {
   "display_name": "Python 3",
   "language": "python",
   "name": "python3"
  },
  "language_info": {
   "codemirror_mode": {
    "name": "ipython",
    "version": 3
   },
   "file_extension": ".py",
   "mimetype": "text/x-python",
   "name": "python",
   "nbconvert_exporter": "python",
   "pygments_lexer": "ipython3",
   "version": "3.8.0"
  },
  "widgets": {
   "application/vnd.jupyter.widget-state+json": {
    "state": {},
    "version_major": 2,
    "version_minor": 0
   }
  }
 },
 "nbformat": 4,
 "nbformat_minor": 4
}
