{
 "cells": [
  {
   "cell_type": "markdown",
   "metadata": {},
   "source": [
    "# Prefab prestressed beams"
   ]
  },
  {
   "cell_type": "markdown",
   "metadata": {},
   "source": [
    "```{figure} Images/Prefab_Prestressed.jpg\n",
    "---\n",
    "---\n",
    "Construction of prefab prestressed concrete beams.\n",
    "``` \n",
    "```{figure} Images/Prefab_Prestressed2.jpg\n",
    "Different cross-sections of prefab prestressed concrete beams.\n",
    "``` \n",
    "\n",
    "```{note}\n",
    "www.haitsma.nl\n",
    "Product information Haitsma\n",
    "```\n",
    "\n",
    "## Product specification Haitsma prestressed beams HRI/HDI (I-shaped)\n",
    "\n",
    "```{figure} Images/Haitsma_Prestressed.jpg\n",
    "``` \n",
    "```{figure} Images/Haitsma_Prestressed2.jpg\n",
    "\n",
    "These tables indicate possible prestressed beams available on the market.\n",
    "``` \n",
    "\n",
    "### Spans\n",
    "\n",
    "```{figure} Images/Haitsma_Spans.jpg\n",
    "\n",
    "For I-shaped beams type HRI / HDI\n",
    "```\n",
    "\n",
    "```{note}\n",
    "These graphs are based on C55/65\n",
    "```\n",
    "\n",
    "## Product specifications Haitsma prestressed beams HRH (rectangular)\n",
    "\n",
    "```{figure} Images/Haitsma_Prestressed_Rectangular.jpg\n",
    "```  \n",
    "```{figure} Images/Haitsma_Prestressed_Rectangular2.jpg\n",
    "\n",
    "These tables indicate possible prestressed beams available on the market.\n",
    "```     \n",
    "\n",
    "### Spans\n",
    "\n",
    "```{figure} Images/Haitsma_Prestressed_Rectangular_Spans.jpg\n",
    "---\n",
    "---\n",
    "Load resistance vs. span length (HRH 360).\n",
    "```  \n",
    "```{figure} Images/Haitsma_Prestressed_Rectangular_Spans2.jpg\n",
    "---\n",
    "---\n",
    "Load resistance vs. span length (HRH 900)\n",
    "```     \n",
    "\n",
    "```{note}\n",
    "These graphs are based on C55/65\n",
    "```"
   ]
  }
 ],
 "metadata": {
  "kernelspec": {
   "display_name": "Python 3",
   "language": "python",
   "name": "python3"
  },
  "language_info": {
   "codemirror_mode": {
    "name": "ipython",
    "version": 3
   },
   "file_extension": ".py",
   "mimetype": "text/x-python",
   "name": "python",
   "nbconvert_exporter": "python",
   "pygments_lexer": "ipython3",
   "version": "3.8.0"
  },
  "widgets": {
   "application/vnd.jupyter.widget-state+json": {
    "state": {},
    "version_major": 2,
    "version_minor": 0
   }
  }
 },
 "nbformat": 4,
 "nbformat_minor": 4
}
