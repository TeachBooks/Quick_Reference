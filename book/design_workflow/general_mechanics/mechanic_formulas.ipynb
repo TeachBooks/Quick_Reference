{
 "cells": [
  {
   "cell_type": "markdown",
   "metadata": {},
   "source": [
    "# Mechanic formulas\n",
    "\n",
    "\n"
   ]
  },
  {
   "cell_type": "markdown",
   "metadata": {},
   "source": [
    "```{table} Mechanic formulas overview.\n",
    ":name: mechanic-formulas\n",
    "| | Kinematic relations | Constitutive relations | Static relations | Differential equation |\n",
    "|--------|-------------------------------------|--------------------------------------|-----------------------------------|---------------------------------|\n",
    "| Extension | $\\epsilon = \\frac{du}{dx}$ | $ N = EA \\epsilon $ | $\\frac{dN}{dx} + q_x = 0$ | $EA \\frac{d^2u}{dx^2} + q_x = 0$ |\n",
    "| Bending | $\\phi = -\\frac{dw}{dx}$;   $\\kappa = \\frac{d\\phi}{dx}$;   $\\kappa=-\\frac{d^2w}{dx^2}$ | $M=EI\\kappa$|$\\frac{dV}{dx}+q_z=0$; $\\frac{dM}{dx}-v=0$; $\\frac{d^2M}{dx^2}+q_z=0$ | $-EI\\frac{d^4w}{dx^4}+q_z=0$|\n",
    "```"
   ]
  },
  {
   "cell_type": "markdown",
   "metadata": {},
   "source": [
    "$\\epsilon (z) = \\epsilon + \\kappa_z z$"
   ]
  },
  {
   "cell_type": "markdown",
   "metadata": {},
   "source": [
    "$\\sigma(z)=\\sigma^N+\\sigma^N=\\frac{N}{A}+\\frac{M_z z}{I_zz}$"
   ]
  }
 ],
 "metadata": {
  "kernelspec": {
   "display_name": "Python 3",
   "language": "python",
   "name": "python3"
  },
  "language_info": {
   "codemirror_mode": {
    "name": "ipython",
    "version": 3
   },
   "file_extension": ".py",
   "mimetype": "text/x-python",
   "name": "python",
   "nbconvert_exporter": "python",
   "pygments_lexer": "ipython3",
   "version": "3.8.0"
  },
  "widgets": {
   "application/vnd.jupyter.widget-state+json": {
    "state": {},
    "version_major": 2,
    "version_minor": 0
   }
  }
 },
 "nbformat": 4,
 "nbformat_minor": 4
}
