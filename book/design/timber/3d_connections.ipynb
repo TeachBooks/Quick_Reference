{
 "cells": [
  {
   "cell_type": "markdown",
   "metadata": {},
   "source": [
    "# 3D Connections in timber\n",
    "\n",
    "## Standard connection in timber\n",
    "\n",
    "<div style=\"text-align: center;\">\n",
    "    <iframe src=\"../../_static/Connection_Timber_Standard.html\" width=\"750\" height=\"750\" frameborder=\"0\"></iframe>\n",
    "</div>\n",
    "\n",
    "## Advanced connection in timber\n",
    "\n",
    "<div style=\"text-align: center;\">\n",
    "    <iframe src=\"../../_static/Connection_Timber_Advanced.html\" width=\"750\" height=\"750\" frameborder=\"0\"></iframe>\n",
    "</div>\n"
   ]
  }
 ],
 "metadata": {
  "kernelspec": {
   "display_name": "Python 3",
   "language": "python",
   "name": "python3"
  },
  "language_info": {
   "codemirror_mode": {
    "name": "ipython",
    "version": 3
   },
   "file_extension": ".py",
   "mimetype": "text/x-python",
   "name": "python",
   "nbconvert_exporter": "python",
   "pygments_lexer": "ipython3",
   "version": "3.8.0"
  },
  "widgets": {
   "application/vnd.jupyter.widget-state+json": {
    "state": {},
    "version_major": 2,
    "version_minor": 0
   }
  }
 },
 "nbformat": 4,
 "nbformat_minor": 4
}
