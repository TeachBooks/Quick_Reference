{
 "cells": [
  {
   "cell_type": "markdown",
   "metadata": {},
   "source": [
    "# Symbols, quantities and units"
   ]
  },
  {
   "cell_type": "markdown",
   "metadata": {},
   "source": [
    "```{table} Overviw of symbols and units.\n",
    ":name: symbol-overview\n",
    "| Symbol    | Name                                | Symbol | \n",
    "|--------   |-------------------------------------|--------| \n",
    "| $q_y$     | Distributed load in y direction    | $[N/m]$    | \n",
    "| $q_z$     | Distributed load in z direction    | $[N/m]$    | \n",
    "| $s$       | Distributed shear force            | $[N/m]$    | \n",
    "| $t$       | Thickness                           | $[m]$     | \n",
    "| $t_f$     | Flange thickness                   | $[m]$      | \n",
    "| $t_w$     | Web thickness                      | $[m]$      | \n",
    "| $y_C$     | Y-coordinate of the center of gravity | $[m]$    | \n",
    "| $z_C$     | Z-coordinate of the center of gravity | $[m]$    | \n",
    "| $y_{NC}$  | Y-coordinate of the center of axial force | $[m]$ | \n",
    "| $z_{NC}$  | Z-coordinate of the center of axial force | $[m]$ | \n",
    "| $I$       | Second moment of area              | $[m^4]$    | \n",
    "| $i$       | Radius of gyration                 | $[m]$      | \n",
    "| $W$       | Section modulus                    | $[m^3]$    | \n",
    "| $α$       | Thermal expansion coefficient      | $[K^{-1}]$   | \n",
    "| $ε$       | Strain                              | $[-]$      | \n",
    "| $ε_t$     | Breaking strain (tension)          | $[-]$      | \n",
    "| $ε_u$     | Ultimate strain                     | $[-]$      | \n",
    "| $ε_y$     | Yield strain                        | $[-]$      | \n",
    "| $κ$       | Curvature                           | $[m^{-1}]$   | \n",
    "| $γ$       | Load factor                        | $[-]$      | \n",
    "| $γ$       | Shear strain                        | $[rad]$    | \n",
    "| $γ_G$     | Load factor for permanent loads    | $[-]$      | \n",
    "| $γ_Q$     | Load factor for variable loads     | $[-]$      | \n",
    "| $θ$       | Angle of rotation                   | $[rad]$    | \n",
    "| $σ$       | Normal stress                       | $[N/m^2]$  | \n",
    "| $τ$       | Shear stress                        | $[N/m^2]$  | \n",
    "```"
   ]
  },
  {
   "cell_type": "markdown",
   "metadata": {},
   "source": []
  }
 ],
 "metadata": {
  "kernelspec": {
   "display_name": "Python 3",
   "language": "python",
   "name": "python3"
  },
  "language_info": {
   "codemirror_mode": {
    "name": "ipython",
    "version": 3
   },
   "file_extension": ".py",
   "mimetype": "text/x-python",
   "name": "python",
   "nbconvert_exporter": "python",
   "pygments_lexer": "ipython3",
   "version": "3.8.0"
  },
  "widgets": {
   "application/vnd.jupyter.widget-state+json": {
    "state": {},
    "version_major": 2,
    "version_minor": 0
   }
  }
 },
 "nbformat": 4,
 "nbformat_minor": 4
}
