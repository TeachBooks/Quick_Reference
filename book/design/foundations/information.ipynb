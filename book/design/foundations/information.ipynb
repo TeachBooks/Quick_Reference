{
 "cells": [
  {
   "cell_type": "markdown",
   "metadata": {},
   "source": [
    "# Information\n",
    "\n",
    "## Sources and keywords\n",
    "\n",
    "  - **Internet**\n",
    "    - [vroom.nl](https://vroom.nl/en/products/cast-in-situ-piles/): detailed information on: Prefab piles, Wood piles, Steel pipe piles, Vibro-piles, Vibro-combi-piles, Concrete screw piles, DPA piles, and Tubular screw piles.\n",
    "    - [walinco.nl](https://www.walinco.nl/): special foundation methods with clear explanation, photos and videos\n"
   ]
  },
  {
   "cell_type": "markdown",
   "metadata": {},
   "source": []
  }
 ],
 "metadata": {
  "kernelspec": {
   "display_name": "Python 3",
   "language": "python",
   "name": "python3"
  },
  "language_info": {
   "codemirror_mode": {
    "name": "ipython",
    "version": 3
   },
   "file_extension": ".py",
   "mimetype": "text/x-python",
   "name": "python",
   "nbconvert_exporter": "python",
   "pygments_lexer": "ipython3",
   "version": "3.8.0"
  },
  "widgets": {
   "application/vnd.jupyter.widget-state+json": {
    "state": {},
    "version_major": 2,
    "version_minor": 0
   }
  }
 },
 "nbformat": 4,
 "nbformat_minor": 4
}
