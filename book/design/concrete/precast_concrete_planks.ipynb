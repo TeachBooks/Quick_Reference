{
 "cells": [
  {
   "cell_type": "markdown",
   "metadata": {},
   "source": [
    "# Precast concrete planks"
   ]
  },
  {
   "cell_type": "markdown",
   "metadata": {},
   "source": [
    "Precast concrete planks are prefabricated formwork elements. On top of the precast elements in situ\n",
    "concrete is casted. The floors are suitable as floors is residential and non residential buildings. The precast\n",
    "slabs have a thickness of 50 to 90 mm and a maximum length of 8500 mm. The protruding reinforcement trusses\n",
    "are calculated per project because the size depends on the load and span. The main reinforcement and trusses\n",
    "are placed parallel to the main span direction. Ducts can be casted in. In the structural topping additional\n",
    "bottom and top reinforcement can be placed. The topping is of strength class C20/25 or higher. Voids can\n",
    "be added in the fabrication process, and ground floors can be isolated at the bottom side of the slab. Propping\n",
    "needs to be done according to the fabricators instructions. Eventually the precast planks and topping act as one\n",
    "slab which has a reasonable degree of flexibility.\n",
    "\n",
    "```{note}\n",
    "www.dycore.nl\n",
    "```\n",
    "\n",
    "```{note} Sources\n",
    "Product information: Dycore precast concrete planks. The information on precast planks was written in cooperation with Dycore.\n",
    "```\n",
    "\n",
    "```{figure} Images/PrecastConcrete_Planks.jpg\n",
    "```  \n",
    "```{figure} Images/PrecastConcrete_Planks2.jpg\n",
    "```  \n",
    "\n",
    "## Product specifications Dycore precast concrete planks\n",
    "\n",
    "| Property                     | Value                                          |\n",
    "|------------------------------|------------------------------------------------|\n",
    "| Element Length               | 0.25 - 10 m                                    |\n",
    "| Standard Width               | 2697 / 2997 mm (Effective Width: 2700 / 3000 mm) |\n",
    "| Width Filler Slabs           | 250 - 2920 mm                                  |\n",
    "| Prestressing Steel           | FeP 1860 conform NEN 3868                      |\n",
    "| Thickness / Mass             |                                                |\n",
    "|                       | - 50 mm / 1.2 kN/m²                                      |\n",
    "|                       | - 60 mm / 1.44 kN/m²                                     |\n",
    "|                       | - 70 mm / 1.68 kN/m²                                     |\n",
    "|                       | - 80 mm / 1.92 kN/m²                                     |\n",
    "\n",
    "```{figure} Images/Dycore_Precast.jpg\n",
    "``` \n",
    "\n",
    "## Connections\n",
    "\n",
    "```{figure} Images/Dycore_Precast2.jpg\n",
    "``` "
   ]
  }
 ],
 "metadata": {
  "kernelspec": {
   "display_name": "Python 3",
   "language": "python",
   "name": "python3"
  },
  "language_info": {
   "codemirror_mode": {
    "name": "ipython",
    "version": 3
   },
   "file_extension": ".py",
   "mimetype": "text/x-python",
   "name": "python",
   "nbconvert_exporter": "python",
   "pygments_lexer": "ipython3",
   "version": "3.8.0"
  },
  "widgets": {
   "application/vnd.jupyter.widget-state+json": {
    "state": {},
    "version_major": 2,
    "version_minor": 0
   }
  }
 },
 "nbformat": 4,
 "nbformat_minor": 4
}
