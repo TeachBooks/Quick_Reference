{
 "cells": [
  {
   "cell_type": "markdown",
   "metadata": {},
   "source": [
    "# Products 1: floors\n",
    "\n",
    "## Hollow core slabs\n",
    "\n",
    "Sections of hollow core slabs, prefabricated and prestressed\n",
    "\n",
    "Applications: In all buildings hollow core slabs can be used as floors and roofs. Room for ducts and slots can be foreseen and provided during fabrication. Hollow core slabs are easily combined with \n",
    "hat-beams.\n",
    "\n",
    "```{figure} Images/product1_floors_hollow_core_slabs.png\n",
    "---\n",
    "---\n",
    "Hollow core slabs\n",
    "```\n",
    "\n",
    "## Inverted U-slabs\n",
    "\n",
    "Inverted U-slabs with integrated isolation. The slabs are placed next to each other and the joints are filled with mortar.\n",
    "\n",
    "Applications: Applicated as ground floor in residential and non residential buildings.\n",
    "\n",
    "```{figure} Images/product1_floors_inverted_u_slabs.png\n",
    "---\n",
    "---\n",
    "Inverted U-slabs\n",
    "```\n",
    "\n",
    "## Combination floors\n",
    "\n",
    "Combination floors. Prefabricated inverted T-beams with EPS isolation and cast in situ concrete \n",
    "\n",
    "Application: The type of floors is used frequently as ground floor above crawl spaces in residential building because of the simple construction and good isolation properties.\n",
    "\n",
    "```{figure} Images/product1_floors_combination_floors.png\n",
    "---\n",
    "---\n",
    "Combination floors\n",
    "```\n",
    "\n",
    "## Composite steel-concrete floors\n",
    "\n",
    "A trapezoidal metal plate is used as working floor, formwork and reinforcement of the concrete \n",
    "compression layer.\n",
    "\n",
    "Application: Used as floor system in (high rise) steel structures. Can be propped temporarily during casting which can lead to significant spans. The system offers relatively large flexibility for odd shaped floors.\n",
    "\n",
    "```{figure} Images/product1_floors_composite_steelconcrete_floors.png\n",
    "---\n",
    "---\n",
    "Composite steel-concrete floors\n",
    "```\n",
    "\n",
    "## Composite plank floor\n",
    "\n",
    "A thin prefab concrete plate with protruding reinforcement is placed. In situ a compressive concrete layer is placed.\n",
    "\n",
    "Applications: Floors of concrete structures in residential and non residential buildings.\n",
    "\n",
    "```{figure} Images/product1_floors_composite_plank_floor.png\n",
    "---\n",
    "---\n",
    "Composite plank floor\n",
    "```\n",
    "\n",
    "## Double T-slabs\n",
    "\n",
    "Prefab, prestressed TT-beam.\n",
    "\n",
    "Applications: prestressed, prefabricated floor beam system for large spans and/or heavily \n",
    "loaded beams. Is used mainly in non-residential buildings like parking garages and offices.\n",
    "\n",
    "```{figure} Images/product1_floors_double_Tslabs.png\n",
    "---\n",
    "---\n",
    "Double T-slabs\n",
    "```"
   ]
  },
  {
   "cell_type": "markdown",
   "metadata": {},
   "source": []
  }
 ],
 "metadata": {
  "kernelspec": {
   "display_name": "Python 3",
   "language": "python",
   "name": "python3"
  },
  "language_info": {
   "codemirror_mode": {
    "name": "ipython",
    "version": 3
   },
   "file_extension": ".py",
   "mimetype": "text/x-python",
   "name": "python",
   "nbconvert_exporter": "python",
   "pygments_lexer": "ipython3",
   "version": "3.8.0"
  },
  "widgets": {
   "application/vnd.jupyter.widget-state+json": {
    "state": {},
    "version_major": 2,
    "version_minor": 0
   }
  }
 },
 "nbformat": 4,
 "nbformat_minor": 4
}
