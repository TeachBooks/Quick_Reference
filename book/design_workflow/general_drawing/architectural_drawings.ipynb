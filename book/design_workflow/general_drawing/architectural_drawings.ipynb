{
 "cells": [
  {
   "cell_type": "markdown",
   "metadata": {},
   "source": [
    "# Architectural drawings\n",
    "\n",
    "For architects, the following three drawings of the structure are of most interest:\n",
    "\n",
    "## Exploded axonometric drawing\n",
    "Exploded axonometric drawing (also called Axo): In this, the structure can be seen in its entirety and the consistency with the architectural design can be conveyed. The stability of the structure can also be assessed. An example is given below. In the chapter drawing examples of Axos of concrete, steel and timber supporting structures are given.  \n",
    "\n",
    "```{figure} Images/Axonometric_Drawing.jpg\n",
    "---\n",
    "---\n",
    "Axonometric drawing example.\n",
    "```\n",
    "\n",
    "Axonomentric drawing is an overview of the overall supporting structure. It provides insight into the spatial arrangement in both the horizontal and vertical planes. The vertical and horizontal force distribution of the structure is often easy to see from the Axo because all structural parts are given in a single view. The second important function of the Axo is to show how the supporting structure fits the architectural design intent.\n",
    "\n",
    "## Load-bearing structure floor plans\n",
    "Load-bearing (Draagconstructie) structure floor plans: These drawings show how vertical force transmission works in the building and contain more detailed information than the axonometric drawing such as materials dimensions, spans and profiles. An example is given below. In the chapter drawing examples of load-bearing floor plans of concrete, steel and timber supporting structures are given.\n",
    "\n",
    "```{figure} Images/Draagconstructie_Drawing.jpg\n",
    "---\n",
    "---\n",
    "Load-bearing structural floor plan example.\n",
    "```\n",
    "\n",
    "In the supporting structure floor plan, we draw the structure through which we cut (at about 1 metre above the floor) as in a regular floor plan, with appropriate shading. However, the supporting structure floor plan is different from a regular floor plan because we also (mainly) draw the structure below the floor. Because we do not see these construction parts directly, we draw them with a dashed line. Often, for example, columns will be directly above each other, in which case we obviously don't see the dashed line, because we draw the cut column above the floor with a continuous line. \n",
    "\n",
    "## Connection detail\n",
    "Connection detail: Here you draw only the structural parts. This can be in a 3D or a number of 2D drawings. Examples of drawings of connections can be found in this Quick Reference. Standard joints of the various materials are given in the ‘Design’ section. You can either use these directly or adapt them according to the specific requirements of the joint. Joints can be very image-defining in a building. In such cases, it is important, as a designer, to pay attention to their design. In other cases, if the connection is not image-defining in the building, its design is often left to the structural engineer or contractor."
   ]
  }
 ],
 "metadata": {
  "kernelspec": {
   "display_name": "Python 3",
   "language": "python",
   "name": "python3"
  },
  "language_info": {
   "codemirror_mode": {
    "name": "ipython",
    "version": 3
   },
   "file_extension": ".py",
   "mimetype": "text/x-python",
   "name": "python",
   "nbconvert_exporter": "python",
   "pygments_lexer": "ipython3",
   "version": "3.8.0"
  },
  "widgets": {
   "application/vnd.jupyter.widget-state+json": {
    "state": {},
    "version_major": 2,
    "version_minor": 0
   }
  }
 },
 "nbformat": 4,
 "nbformat_minor": 4
}
