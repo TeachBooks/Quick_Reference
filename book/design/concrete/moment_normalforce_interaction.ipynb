{
 "cells": [
  {
   "cell_type": "markdown",
   "metadata": {},
   "source": [
    "# Moment normal force interaction\n",
    "\n",
    "These tables are based on EC2; 6.1 and 3.1.7(1), meaning that calculations have been made with the parabola-rectangle stress-strain diagrams."
   ]
  },
  {
   "cell_type": "code",
   "execution_count": 1,
   "metadata": {},
   "outputs": [],
   "source": [
    "import numpy as np\n",
    "import matplotlib.pyplot as plt"
   ]
  },
  {
   "cell_type": "markdown",
   "metadata": {},
   "source": [
    "## Example Concrete & Steel structures\n",
    "\n",
    "The following code shows an example that was part of an assignment for the BSc course Concrete & Steel Structures in the year 2023-2024.\n",
    "\n",
    "```{figure} Images/4_grenssituaties.png\n",
    "\n",
    "4 grenssituaties\n",
    "``` "
   ]
  },
  {
   "cell_type": "code",
   "execution_count": 5,
   "metadata": {},
   "outputs": [],
   "source": [
    "f_ck = 30 #[N/mm^2] C30/37\n",
    "f_cd = f_ck/1.5\n",
    "alfa = 0.75\n",
    "beta = 7/18\n",
    "\n",
    "f_yk = 500 #[N/mm^2] B500B\n",
    "f_yd = f_yk/1.15\n",
    "\n",
    "c = 25 #[mm]\n",
    "phi_bgl = 6 #[mm]\n",
    "n_hw = 4 #[-] aantal staven\n",
    "phi_hw = 12 #[mm]\n",
    "E_s = 200000 #[N/mm^2]\n",
    "E_cm = 200000 #[N/mm^2]\n",
    "phi_eff = 1.2 #[-]\n",
    "e = 100 #[mm]\n",
    "\n",
    "b = 0.25 #[m]\n",
    "h = 0.25 #[m]\n",
    "N_Ed = 261 #[kN]"
   ]
  },
  {
   "cell_type": "markdown",
   "metadata": {},
   "source": [
    "### Grenssituatie 0: zuivere buiging, geen normaalkracht"
   ]
  },
  {
   "cell_type": "code",
   "execution_count": 11,
   "metadata": {},
   "outputs": [
    {
     "name": "stdout",
     "output_type": "stream",
     "text": [
      "52450.938216455674\n",
      "-4012120520.1977296\n"
     ]
    }
   ],
   "source": [
    "a = c + phi_bgl + phi_hw/2\n",
    "A_s = 1/4 * np.pi * phi_hw**2 * n_hw\n",
    "x_u0 = A_s * f_yd / (alfa * b * f_cd)\n",
    "print(x_u0)\n",
    "M_Rd0 = A_s * f_yd * (h - alfa - beta * x_u0)\n",
    "N_Ed = 0\n",
    "print(M_Rd0)"
   ]
  },
  {
   "cell_type": "markdown",
   "metadata": {},
   "source": [
    "### Grenssituatie 1: gedrukte wapening vloeit op druk, maximale betonstuik bereikt"
   ]
  },
  {
   "cell_type": "code",
   "execution_count": null,
   "metadata": {},
   "outputs": [],
   "source": []
  },
  {
   "cell_type": "markdown",
   "metadata": {},
   "source": [
    "### Grenssituatie 2: Getrokken wapening vloeit op trek, maximale betonstuik bereikt"
   ]
  },
  {
   "cell_type": "code",
   "execution_count": null,
   "metadata": {},
   "outputs": [],
   "source": []
  },
  {
   "cell_type": "markdown",
   "metadata": {},
   "source": [
    "### Grenssituatie 3: maximale betonstuik bereikt, $x_{u3} = h$."
   ]
  },
  {
   "cell_type": "code",
   "execution_count": null,
   "metadata": {},
   "outputs": [],
   "source": []
  },
  {
   "cell_type": "markdown",
   "metadata": {},
   "source": [
    "### Grenssituatie 4: centrische druk (geen momentcapaciteit)"
   ]
  },
  {
   "cell_type": "markdown",
   "metadata": {},
   "source": []
  }
 ],
 "metadata": {
  "kernelspec": {
   "display_name": "geospatial",
   "language": "python",
   "name": "geospatial"
  },
  "language_info": {
   "codemirror_mode": {
    "name": "ipython",
    "version": 3
   },
   "file_extension": ".py",
   "mimetype": "text/x-python",
   "name": "python",
   "nbconvert_exporter": "python",
   "pygments_lexer": "ipython3",
   "version": "3.9.13"
  }
 },
 "nbformat": 4,
 "nbformat_minor": 2
}
