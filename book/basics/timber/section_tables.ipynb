{
 "cells": [
  {
   "cell_type": "markdown",
   "metadata": {},
   "source": [
    "# Section tables\n",
    "\n",
    "## Sawn sections\n",
    "\n",
    "```{figure} Images/coordinate_system.png\n",
    "---\n",
    "---\n",
    "Coordinate system (bending around strong axis is around y-axis)\n",
    "```\n",
    "\n",
    "```{note}\n",
    "Remember that $I_y$, $I_z$, $W_y$ and $W_z$ are another notation for $I_{zz}$, $I_{yy}$, $W_{zz}$ and $W_{yy}$ respectively.\n",
    "```\n",
    "\n",
    "### Width 33 mm\n",
    "| $h \\ [mm]$ | $A \\cdot 10^3 \\ [mm^2]$ | $W_y \\cdot 10^3 \\ [mm^3]$ | $I_y \\cdot 10^6 \\ [mm^4]$ | $W_z \\cdot 10^3 \\ [mm^3]$ | $I_z \\cdot 10^6 \\ [mm^4]$ |\n",
    "|-----|-----------|-----------|------------|-----------|------------|\n",
    "| 69  | 2,20      | 26,1      | 0,90       | 12,5      | 0,21       |\n",
    "| 95  | 3,10      | 49,6      | 2,35       | 17,2      | 0,28       |\n",
    "| 120 | 3,90      | 79,2      | 4,75       | 21,7      | 0,36       |\n",
    "| 133 | 4,30      | 97,2      | 6,46       | 24,1      | 0,40       |\n",
    "| 145 | 4,70      | 115,6     | 8,38       | 26,3      | 0,43       |\n",
    "| 170 | 5,60      | 158,9     | 13,51      | 30,8      | 0,51       |\n",
    "| 195 | 6,40      | 209,1     | 20,39      | 35,3      | 0,58       |\n",
    "| 220 | 7,20      | 266,2     | 29,28      | 39,9      | 0,66       |\n",
    "| 245 | 14,20     | 580,2     | 71,07      | 137,3     | 3,98       |\n",
    "\n",
    "### Width 45 mm\n",
    "| $h \\ [mm]$ | $A \\cdot 10^3 \\ [mm^2]$ | $W_y \\cdot 10^3 \\ [mm^3]$ | $I_y \\cdot 10^6 \\ [mm^4]$ | $W_z \\cdot 10^3 \\ [mm^3]$ | $I_z \\cdot 10^6 \\ [mm^4]$ |\n",
    "|-----|-----------|-----------|------------|-----------|------------|\n",
    "\n",
    "### Width 58 mm\n",
    "| $h \\ [mm]$ | $A \\cdot 10^3 \\ [mm^2]$ | $W_y \\cdot 10^3 \\ [mm^3]$ | $I_y \\cdot 10^6 \\ [mm^4]$ | $W_z \\cdot 10^3 \\ [mm^3]$ | $I_z \\cdot 10^6 \\ [mm^4]$ |\n",
    "|-----|-----------|-----------|------------|-----------|------------|\n",
    "\n",
    "### Width 69 mm\n",
    "| $h \\ [mm]$ | $A \\cdot 10^3 \\ [mm^2]$ | $W_y \\cdot 10^3 \\ [mm^3]$ | $I_y \\cdot 10^6 \\ [mm^4]$ | $W_z \\cdot 10^3 \\ [mm^3]$ | $I_z \\cdot 10^6 \\ [mm^4]$ |\n",
    "|-----|-----------|-----------|------------|-----------|------------|\n",
    "\n",
    "### Width 95 mm\n",
    "| $h \\ [mm]$ | $A \\cdot 10^3 \\ [mm^2]$ | $W_y \\cdot 10^3 \\ [mm^3]$ | $I_y \\cdot 10^6 \\ [mm^4]$ | $W_z \\cdot 10^3 \\ [mm^3]$ | $I_z \\cdot 10^6 \\ [mm^4]$ |\n",
    "|-----|-----------|-----------|------------|-----------|------------|\n",
    "\n",
    "### Width 120 mm\n",
    "| $h \\ [mm]$ | $A \\cdot 10^3 \\ [mm^2]$ | $W_y \\cdot 10^3 \\ [mm^3]$ | $I_y \\cdot 10^6 \\ [mm^4]$ | $W_z \\cdot 10^3 \\ [mm^3]$ | $I_z \\cdot 10^6 \\ [mm^4]$ |\n",
    "|-----|-----------|-----------|------------|-----------|------------|\n",
    "\n",
    "## Glued laminated timber\n",
    "\n",
    "```{figure} Images/coordinate_system.png\n",
    "---\n",
    "---\n",
    "Coordinate system (bending around strong axis is around y-axis)\n",
    "```\n",
    "\n",
    "```{note}\n",
    "Remember that $I_y$, $I_z$, $W_y$ and $W_z$ are another notation for $I_{zz}$, $I_{yy}$, $W_{zz}$ and $W_{yy}$ respectively.\n",
    "```\n",
    "\n",
    "### Width 135 mm\n",
    "| $h \\ [mm]$ | $A \\cdot 10^3 \\ [mm^2]$ | $W_y \\cdot 10^3 \\ [mm^3]$ | $I_y \\cdot 10^6 \\ [mm^4]$ |\n",
    "|-----|-----------|-----------|------------|\n",
    "\n",
    "### Width 160 mm\n",
    "| $h \\ [mm]$ | $A \\cdot 10^3 \\ [mm^2]$ | $W_y \\cdot 10^3 \\ [mm^3]$ | $I_y \\cdot 10^6 \\ [mm^4]$ |\n",
    "|-----|-----------|-----------|------------|\n",
    "\n",
    "### Width 185 mm\n",
    "| $h \\ [mm]$ | $A \\cdot 10^3 \\ [mm^2]$ | $W_y \\cdot 10^3 \\ [mm^3]$ | $I_y \\cdot 10^6 \\ [mm^4]$ |\n",
    "|-----|-----------|-----------|------------|\n",
    "\n",
    "### Width 205 mm\n",
    "| $h \\ [mm]$ | $A \\cdot 10^3 \\ [mm^2]$ | $W_y \\cdot 10^3 \\ [mm^3]$ | $I_y \\cdot 10^6 \\ [mm^4]$ |\n",
    "|-----|-----------|-----------|------------|"
   ]
  },
  {
   "cell_type": "markdown",
   "metadata": {},
   "source": []
  }
 ],
 "metadata": {
  "kernelspec": {
   "display_name": "Python 3",
   "language": "python",
   "name": "python3"
  },
  "language_info": {
   "codemirror_mode": {
    "name": "ipython",
    "version": 3
   },
   "file_extension": ".py",
   "mimetype": "text/x-python",
   "name": "python",
   "nbconvert_exporter": "python",
   "pygments_lexer": "ipython3",
   "version": "3.8.0"
  },
  "widgets": {
   "application/vnd.jupyter.widget-state+json": {
    "state": {},
    "version_major": 2,
    "version_minor": 0
   }
  }
 },
 "nbformat": 4,
 "nbformat_minor": 4
}
