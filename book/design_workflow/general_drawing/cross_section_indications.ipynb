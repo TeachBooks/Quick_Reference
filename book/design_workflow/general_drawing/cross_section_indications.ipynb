{
 "cells": [
  {
   "cell_type": "markdown",
   "metadata": {},
   "source": [
    "# Cross section indications\n",
    "\n",
    "For each material, a different hatch is used. Furthermore, the type of hatch can differ as the scale of the drawing\n",
    "changes. This is done to make sure that at higher scales the hatches are not too complicated, as the areas to\n",
    "hatch on the drawing decrease rapidly with increasing scale. In the tables below two markings appear:  \n",
    "  \n",
    ":black_circle: = Scale at which the hatch needs to be used  \n",
    ":white_circle: = Scale at which the hatch needs to be used with the material added in text\n",
    "  \n",
    "The tables are based on the Dutch code NEN 47.\n",
    "\n",
    "## Stone-like materials\n",
    "\n",
    "| No. | Description                           | Hatch                                           | Scale        |              |              |              |              |              |Remarks       |\n",
    "| --- | -----------------------               | -----                                           | -----        | -----        | ----         | ----         | ----         | ----         | ---          |\n",
    "|     |                                       |                                                 | 1:100        |1:50          |1:20          |1:10          |1:5           |1:1           |              | \n",
    "| 1   | Brick masonry                         |```{figure} Images/Brick1.png```                |:black_circle:|:black_circle:|              |              |              |              |              |\n",
    "|     |                                       |```{figure} Images/Brick2.png```                |              |:black_circle:|:black_circle:|:black_circle:|:black_circle:|:black_circle:|              |\n",
    "|     |                                       |```{figure} Images/Brick3.png```                |              |:black_circle:|:black_circle:|:black_circle:|:black_circle:|:black_circle:|              |\n",
    "| 2   | Stone-like materials                  |```{figure} Images/Stone_Like.png```             |:white_circle:|       |      |        |       |       |e.g. fireproof material, roof tiles |\n",
    "| 3   | Non-brick masonry                     |```{figure} Images/Non_Brick.png```              |              |       |      |        |       |       |e.g. concrete masonry units    |\n",
    "| 4   | Non load carrying division walls      |```{figure} Images/Non_Load1.png```               |              |       |      |        |       |       |                          |\n",
    "|     |                                       |```{figure} Images/Non_Load2.png```             |              |       |      |        |       |       |                          |\n",
    "|     |                                       |```{figure} Images/Non_Load3.png```             |              |       |      |        |       |       |                          |\n",
    "| 5   | Reinforced concrete (cast in situ)    |```{figure} Images/Reinforced_Concrete1.png```    |              |       |      |        |       |       |                          |\n",
    "|     |                                       |```{figure} Images/Reinforced_Concrete2.png```  |              |       |      |        |       |       |                          |\n",
    "| 6   | Reinforced concrete (precast)         |```{figure} Images/Reinforced_Concrete_Precast.png```|   |       |      |        |       |       |                          |\n",
    "| 7   | Plain concrete                        |```{figure} Images/Plain_Concrete.png```         |       |       |      |        |       |       |e.g. lightweight concrete |\n",
    "| 8   | Decorative concrete                   |```{figure} Images/Decorative_Concrete.png```    |       |       |      |        |       |       |                          |\n",
    "| 9   | Natural stone                         |```{figure} Images/Natural_Stone.png```          |       |       |      |        |       |       |                          |\n",
    "| 10  | Single floor/wall finishing           |```{figure} Images/Single_Floor_Wall.png```      |       |       |      |        |       |       | e.g. plaster     |\n",
    "| 11  | Composite floor/wall finishing        |```{figure} Images/Composite.png```              |       |       |      |        |       |       |                          |\n"
   ]
  },
  {
   "cell_type": "markdown",
   "metadata": {},
   "source": [
    "## Timber materials"
   ]
  },
  {
   "cell_type": "markdown",
   "metadata": {},
   "source": [
    "|No.| Description                        | Hatch                                | Scale        |              |              |              |              |              |Remarks       |\n",
    "|---| -----------------------            | -----                                | -----        | -----        | ----         | ----         | ----         | ----         | ---          |\n",
    "|   |                                    |                                      | 1:100        |1:50          |1:20          |1:10          |1:5           |1:1           |              | \n",
    "|12 | Softwood                           |```{figure} Images/Softwood.png```     |       |       |      |        |       |       |                          |\n",
    "|13 | Hardwood                           |```{figure} Images/Hardwood.png```      |       |       |      |        |       |       |                          |\n",
    "|14 | Softwood/Hardwood (along the grain)|```{figure} Images/Soft_Hardwood_Along_The_Grain.png```       |       |       |      |        |       |       |                          |\n",
    "|15 | Glued seam                         |```{figure} Images/Glued_Seam.png```    |       |       |      |        |       |       |                          |\n",
    "|16 | Cladding panel                     |```{figure} Images/Cladding_Panel.png```     |       |       |      |        |       |       |                          |\n",
    "|17 | Isolation panel                    |```{figure} Images/Isolation_Panel.png```    |       |       |      |        |       |       |                          |"
   ]
  },
  {
   "cell_type": "markdown",
   "metadata": {},
   "source": [
    "## Metals"
   ]
  },
  {
   "cell_type": "markdown",
   "metadata": {},
   "source": [
    "| No. | Description                   | Hatch                           | Scale |              |              |              |              |              |Remarks       |\n",
    "| --- | -----------------------       | -----                           | ----- | -----        | ----         | ----         | ----         | ----         | ---          |\n",
    "|     |                               |                                 | 1:100 |1:50          |1:20          |1:10          |1:5           |1:1           |              | \n",
    "| 18  | Steel                         |```{figure} Images/Steel.png```|       |       |      |        |       |       |                          |\n",
    "| 19  | Aluminium, brass, copper etc. |```{figure} Images/Aluminium.png```|       |       |      |        |       |       |                          |\n",
    "| 20  | Lead                          |```{figure} Images/Lead.png```|       |       |      |        |       |       |                          |\n",
    "| 21  | Zinc                          |```{figure} Images/Zinc.png```|       |       |      |        |       |       |                          |"
   ]
  },
  {
   "cell_type": "markdown",
   "metadata": {},
   "source": [
    "## Miscellaneous"
   ]
  },
  {
   "cell_type": "markdown",
   "metadata": {},
   "source": [
    "| No. | Description    | Hatch                                 | Scale |       |      |              |              |              |Remarks       |\n",
    "| --- | -------------- | -----                                 | ----- | ----- | ---- | ----         | ----         | ----         | ---          |\n",
    "|     |                |                                       | 1:100 |1:50   |1:20  |1:10          |1:5           |1:1           |              | \n",
    "| 22  | Synthetics     |```{figure} Images/Synthetics.png```   |       |       |      |        |       |       |                          |\n",
    "| 23  | Sealant        |```{figure} Images/Sealant.png```      |       |       |      |        |       |       |                          |\n",
    "| 24  | Foil, bitumen  |```{figure} Images/Foil.png```         |       |       |      |        |       |       |                          |\n",
    "| 25  | Ground level   |```{figure} Images/Gorund_Level.png``` |       |       |      |        |       |       |                          |\n",
    "| 26  | Sand           |```{figure} Images/Sand.png```         |       |       |      |        |       |       |                          |\n",
    "| 27  | Gravel         |```{figure} Images/Gravel.png```       |       |       |      |        |       |       |                          |\n",
    "| 28  | Water          |```{figure} Images/Water.png```        |       |       |      |        |       |       |                          |\n",
    "| 29  | Glass          |```{figure} Images/Glass.png```        |       |       |      |        |       |       |                          |"
   ]
  }
 ],
 "metadata": {
  "kernelspec": {
   "display_name": "Python 3",
   "language": "python",
   "name": "python3"
  },
  "language_info": {
   "codemirror_mode": {
    "name": "ipython",
    "version": 3
   },
   "file_extension": ".py",
   "mimetype": "text/x-python",
   "name": "python",
   "nbconvert_exporter": "python",
   "pygments_lexer": "ipython3",
   "version": "3.8.0"
  },
  "widgets": {
   "application/vnd.jupyter.widget-state+json": {
    "state": {},
    "version_major": 2,
    "version_minor": 0
   }
  }
 },
 "nbformat": 4,
 "nbformat_minor": 4
}
