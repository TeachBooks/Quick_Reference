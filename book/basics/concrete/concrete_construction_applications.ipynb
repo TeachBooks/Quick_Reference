{
 "cells": [
  {
   "cell_type": "markdown",
   "metadata": {},
   "source": [
    "# Concrete construction applications\n",
    "\n",
    "`````{admonition} Translated from the article:\n",
    ":class: tip\n",
    "Beton als conventioneel bouwmateriaal (Concrete as conventional building material). In Cement 2002 no. 4 by Prof. dr. Ir. Joost Walraven\n",
    "`````\n",
    "The first applications of plain unreinforced concrete were constructed by the Romans as massive structures. The concrete was only loaded in compression. The material had a strong heterogeneous character and had very low strength. Measurements from a city wall near Cologne which was built around 50 A.D. indicate a stenght of about 10 N/mm2. Methods to increase the strength of the concrete have always been a lower water-cement ratio and more closely packed aggregates. In practice the minimum for the water cement ratio lies at 0.4 as lower values decrease the workability of the concrete.\n",
    "\n",
    "```{figure} Images/Oosterscheldekering.png\n",
    "---\n",
    "---\n",
    "Oosterscheldekering\n",
    "```\n",
    "For the pylons in the Oosterschelde storm surge barrier (1979-1981) and the accompanying treshold beams, upper beams and hammerheads a concrete strength of B25 (now C20/25 \n",
    "red.) was used to obtain sufficient workability. Until about 10 year ago the realiztation of B45 (now C35/45 red.) on site was a great achievement. Meanwhile the understanding of concrete technology has improved significantly which has led to revolutionary developments. In 1990 it was discovered that the addition of silicafume to concrete resulted in a significant strength increase. This a important effect on the internal force distribution in the concrete.\n",
    "```{figure} Images/2nd_Sticht_bridge.png\n",
    "---\n",
    "---\n",
    "2nd Sticht bridge\n",
    "```\n",
    "The Second Stichtse Bridge is the first large prestressed bridge in Europe using high strength concrete. The cost of the high strength concrete are twice the costs of normal strength concrete but this is compensated by substantial other advantages. About 30% less concrete is needed, and due to the reduction of the concrete cross section about 25% less prestressing steel is needed. Because of the reduced dead weight of the bridge the length of the segments could be increased from the traditional 3,5 m to 5m, which lead to a much shorter construction time.\n",
    "\n",
    "```{figure} Images/prefab_hsc_beams.png\n",
    "---\n",
    "---\n",
    "Prefab HSC beams\n",
    "```\n",
    "```{Note}\n",
    "Prefabricated beams made of B200 (now ‘C200’) contain only a few prestressing strands as other reinforcement is unnecessary.\n",
    "```\n",
    "A large drawback of traditional concrete was that it had to be compacted by hand with the aid of internal vibrators. By adding slightly more bonding agent than necessary \n",
    "for the good functioning of the concrete, thin layers of lubricant occur in the hardened concrete around every aggregate, causing them to ‘float’. The application of this type of concrete is developing very fast in the prefab concrete industry. At the construction site this material is also very desirable because it causes less noise nuisance \n",
    "to the environment. The material has properties which lie between traditional concrete and steel.\n",
    "```{figure} Images/sheet_piling.png\n",
    "---\n",
    "---\n",
    "Sheet piling\n",
    "```\n",
    "As an alternative for the steel crest gates of the storm surge barrier in the Oosterschelde students have studied an application of high strength concrete for the gates. They are much heavier than the steel gates but require far less maintenance due to the expected durability of the material. This leads to an overall lower cost if the concrete gates would have been used. \n",
    "\n",
    "In the area between B100 and B200 (now C90/105 and a fictitious ‘C200’) self compacting fiber concrete can be an interesting alternative for very high strength concrete (>B200). Delft University of Technology has developed a mixture which reached a strength of 75 N/mm2 after 12 hours. This early high strength makes this mixture very interesting for the prefabrication industry.\n",
    "\n",
    "In cooporation with a prefabricator sheet piles were constructed out of this material in B120 (now a fictitious ‘C120’). The price of this self compacting concrete is about four times the price of the regular B65 (now C55/67) but the cross section can be reduced by 75%. Further cost reduction arises from easier transport and handling on site."
   ]
  },
  {
   "cell_type": "markdown",
   "metadata": {},
   "source": []
  }
 ],
 "metadata": {
  "kernelspec": {
   "display_name": "Python 3",
   "language": "python",
   "name": "python3"
  },
  "language_info": {
   "codemirror_mode": {
    "name": "ipython",
    "version": 3
   },
   "file_extension": ".py",
   "mimetype": "text/x-python",
   "name": "python",
   "nbconvert_exporter": "python",
   "pygments_lexer": "ipython3",
   "version": "3.8.0"
  },
  "widgets": {
   "application/vnd.jupyter.widget-state+json": {
    "state": {},
    "version_major": 2,
    "version_minor": 0
   }
  }
 },
 "nbformat": 4,
 "nbformat_minor": 4
}
