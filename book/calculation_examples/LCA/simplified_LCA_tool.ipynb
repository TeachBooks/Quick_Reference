{
 "cells": [
  {
   "cell_type": "markdown",
   "metadata": {},
   "source": [
    "# Simplified LCA tool\n",
    "\n",
    "This simplified LCA tool can be used by students of Delft University of Technology (or other people) to get a quick overview of the performance of a building regarding sustainability. The method is explained below (and also in the sheet), which can be downloaded here: [Simplified LCA tool](LCA_calculation.xlsx). It is highly recommended to first read the explanation below, then open the simplified LCA tool and try to add or use the existing material data for your own (fictious) building. On the next page an example is given of the usage of the tool for the different versions of the Octatube, which can be used for reference.\n",
    "\n",
    "## Goal\n",
    "This document can be used as a simplified tool for an LCA calcultion. The goal is to get an ECI and EPB score for a construction, thereby assisting the engineer in a sustainable design process. Also the GWP is caluclated, but limited to construction of half-products stage A1-A3.\n",
    "\n",
    "## Method\n",
    "In order to get an overview how sustainable a construction method is, first an inventory needs to be made up of the building materials necessary. Therefore, the volume of steel or concrete needs to be found in a construction. There are mulitple tools to do this. When this is known the engineer needs to find the relevant Environmental Product Declarations (EPD's), which reflect the GWP values and can include the ECI (or Dutch MKI) value. The data of this material needs to be inputted into the LCA Material data tab. \n",
    "\n",
    "The next steps consists of combining the obtained data, for this purpose it is best to create a separate sheet. Here you set each element found in the construction. An example of an element is ´Floor 1st floor´. For this element you can also enter the category, which in this case is ´Floors/roof´. You should also specifcy the material, for which you can use the dropdown list, so that the name correspons exactly to the name in the LCA Material data list. You enter the unit (m3 or kg) and select the amount. Often it can come in handy to store the volumes in a separate tab and select the output of the volume or weight calculation from here.  If there is reinforcement present (in concrete), you should specify the amount or estimate this based on the element type.\n",
    "\n",
    "The table now calculates the total amount of CO2 for the stages A1-A3 for the GWP and also calculates the ECI value of the specific element. It automatically sums the outputs in the total row at the bottom.\n",
    "\n",
    "## Visualisation of output\t\t\t\t\t\t\t\t\t\n",
    "If the GWP and ECI are known, and the Reference Service Life (RSL) and Gross Floor Area (GFA) are inputted at the top an estimation of how the building performs regarding sustainability can be made, especially in comparison with different alternatives. The performance is measured in ECI value divided by RSL and GFA, to make an equal comparison between different building sizes. An addtional visualisation is to see the effect of the different categories in the construction, which is visualised at the bottom."
   ]
  },
  {
   "cell_type": "markdown",
   "metadata": {},
   "source": []
  }
 ],
 "metadata": {
  "language_info": {
   "name": "python"
  }
 },
 "nbformat": 4,
 "nbformat_minor": 2
}
