{
 "cells": [
  {
   "cell_type": "markdown",
   "metadata": {},
   "source": [
    "# Products 3: welded sections\n",
    "\n",
    "## Castellated beams IPE/HEA/HEB\n",
    "```{figure} Images/castellated_beams.png\n",
    "---\n",
    "---\n",
    "Non-residential buidlings. Castellated beams can be built by cutting a H or I section in one cut without loss of material. Round holes are also possible, but are less economical due to material losses and extra cutting.\n",
    "```\n",
    "\n",
    "```{table} Dimensions of castellated beams.\n",
    ":name: dimensions-castellated-beams\n",
    "| Type | Size        | $h$ (mm)      | $b$ (mm)      |\n",
    "|------|-------------|-------------|-------------|\n",
    "| IPE  | 180 - 600   | 270 - 900   | 91 - 220    |\n",
    "| HEA  | 180 - 1000  | 257 - 1485  | 180 - 300   |\n",
    "| HEB  | 180 - 1000  | 270 - 1500  | 180 - 300   |\n",
    "```\n",
    "\n",
    "Applications: Large, light spans with possibilities to incorporate building services in the structural height. Strength increases only slightly. Stiffness of the sections \n",
    "increases despite the increased shear deformations. Castellated beams are very sensitive to lateral torsion buckling and have reduced shear capacity.\n",
    "\n",
    "## Top hat beams\n",
    "```{figure} Images/welded_integrated_beams.png\n",
    "---\n",
    "---\n",
    "Welded integrated beams (top hat beams)\n",
    "```\n",
    "\n",
    "Applications: Top hat beams are very useful in combination with prefab concrete floors such as hollow core slabs or composite floors. (see cb 6 and cb 7). By integrating the beam in the floor, the total structural height is reduced and fire resistance increased."
   ]
  },
  {
   "cell_type": "markdown",
   "metadata": {},
   "source": []
  }
 ],
 "metadata": {
  "kernelspec": {
   "display_name": "Python 3",
   "language": "python",
   "name": "python3"
  },
  "language_info": {
   "codemirror_mode": {
    "name": "ipython",
    "version": 3
   },
   "file_extension": ".py",
   "mimetype": "text/x-python",
   "name": "python",
   "nbconvert_exporter": "python",
   "pygments_lexer": "ipython3",
   "version": "3.8.0"
  },
  "widgets": {
   "application/vnd.jupyter.widget-state+json": {
    "state": {},
    "version_major": 2,
    "version_minor": 0
   }
  }
 },
 "nbformat": 4,
 "nbformat_minor": 4
}
